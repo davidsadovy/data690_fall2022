{
  "nbformat": 4,
  "nbformat_minor": 0,
  "metadata": {
    "colab": {
      "provenance": [],
      "authorship_tag": "ABX9TyPV+Rk+FwCI3qwrINongcN+",
      "include_colab_link": true
    },
    "kernelspec": {
      "name": "python3",
      "display_name": "Python 3"
    },
    "language_info": {
      "name": "python"
    }
  },
  "cells": [
    {
      "cell_type": "markdown",
      "metadata": {
        "id": "view-in-github",
        "colab_type": "text"
      },
      "source": [
        "<a href=\"https://colab.research.google.com/github/davidsadovy/data690_fall2022/blob/main/assignment_03/assignment_03.ipynb\" target=\"_parent\"><img src=\"https://colab.research.google.com/assets/colab-badge.svg\" alt=\"Open In Colab\"/></a>"
      ]
    },
    {
      "cell_type": "markdown",
      "source": [
        "# DATA 690 Assignment 03\n",
        "- David Sadovy\n",
        "- 09/18/2022"
      ],
      "metadata": {
        "id": "9bml1QslJ62x"
      }
    },
    {
      "cell_type": "markdown",
      "source": [
        "Write a program that generates 100 random integers between 0 and 9.\n",
        "\n",
        "1. Print them in a 10 by 10 matrix arranged neatly with one space between numbers."
      ],
      "metadata": {
        "id": "cjcmlpBjKmhL"
      }
    },
    {
      "cell_type": "code",
      "execution_count": 318,
      "metadata": {
        "colab": {
          "base_uri": "https://localhost:8080/"
        },
        "id": "QSlIiQTgk2k9",
        "outputId": "eeb35d43-12d2-4577-d11d-b396ac3daf0d"
      },
      "outputs": [
        {
          "output_type": "stream",
          "name": "stdout",
          "text": [
            "7 7 8 4 4 2 1 6 4 9 \n",
            "2 6 1 2 7 3 6 0 7 4 \n",
            "9 1 6 3 9 1 6 9 9 7 \n",
            "2 0 0 8 5 1 6 9 2 3 \n",
            "8 0 0 7 0 5 5 8 2 6 \n",
            "4 2 9 7 3 2 5 3 3 9 \n",
            "3 3 4 0 8 9 4 1 8 2 \n",
            "3 4 1 3 3 8 3 7 7 4 \n",
            "3 2 7 2 7 8 2 4 6 2 \n",
            "8 7 8 1 7 5 2 0 1 9 \n"
          ]
        }
      ],
      "source": [
        "import random       # library for generating random numbers\n",
        "\n",
        "COUNT = 10          # constant allows easy adjustment of matrix size\n",
        "\n",
        "for i in range(COUNT):          # outer loop for rows\n",
        "\n",
        "    for j in range(COUNT):      # inner loop for columns\n",
        "\n",
        "        # generate and print a random number with one space after each number\n",
        "        print(random.randint(0, 9), end=\" \") \n",
        "\n",
        "    print()         # start a new line for next row"
      ]
    },
    {
      "cell_type": "markdown",
      "source": [
        "2.   If the random number is an odd number, print \"@\" instead.\n",
        "\n"
      ],
      "metadata": {
        "id": "VDxW-WYSK4A6"
      }
    },
    {
      "cell_type": "code",
      "source": [
        "for i in range(COUNT):          # outer loop for rows\n",
        "\n",
        "    for j in range(COUNT):      # inner loop for columns\n",
        "\n",
        "        # generate a random number and assign to variable\n",
        "        x = random.randint(0, 9)        \n",
        "\n",
        "        if x % 2 == 1:      # check if random number is odd using modulo\n",
        "\n",
        "            print(\"@\", end=\" \")     # if it's odd, print \"@\" and space\n",
        "\n",
        "        else:\n",
        "\n",
        "            print(x, end=\" \")       # if it's even, print the number and space\n",
        "\n",
        "    print()     # start a new line for next row"
      ],
      "metadata": {
        "colab": {
          "base_uri": "https://localhost:8080/"
        },
        "id": "QxTMc_m1lLGa",
        "outputId": "981d520d-b30e-499a-8ea0-39cc35327437"
      },
      "execution_count": 319,
      "outputs": [
        {
          "output_type": "stream",
          "name": "stdout",
          "text": [
            "@ @ @ @ 2 2 0 4 0 @ \n",
            "@ @ 8 @ 8 @ 4 8 @ 2 \n",
            "@ 8 8 @ 8 @ 4 0 @ @ \n",
            "@ 0 6 2 @ 8 6 @ @ 8 \n",
            "8 4 8 @ 6 @ 8 6 0 2 \n",
            "@ 0 @ 0 8 @ @ @ @ 8 \n",
            "2 @ @ @ @ 2 2 6 0 @ \n",
            "@ @ @ 6 @ 0 8 0 @ 0 \n",
            "@ @ @ 8 @ @ @ 0 6 4 \n",
            "2 8 @ 4 @ @ @ 2 @ 4 \n"
          ]
        }
      ]
    },
    {
      "cell_type": "markdown",
      "source": [
        "3. Calculate and print the total of each row (use \"*\" to separate the total from the numbers)."
      ],
      "metadata": {
        "id": "Kce7iv73K_y-"
      }
    },
    {
      "cell_type": "code",
      "source": [
        "for i in range(COUNT):          # outer loop for rows\n",
        "\n",
        "    row_list = []               # initialize empty list for row of numbers\n",
        "\n",
        "    for j in range(COUNT):      # inner loop for columns\n",
        "\n",
        "        # generate a random number and assign to variable\n",
        "        x = random.randint(0, 9)\n",
        "\n",
        "        print(x, end=\" \")       # print number and space\n",
        "\n",
        "        row_list.append(x)      # append number to list\n",
        "\n",
        "    print(\"*\", end=\" \")         # print asterisk and space\n",
        "\n",
        "    print(sum(row_list))        # calculate and print row sum"
      ],
      "metadata": {
        "colab": {
          "base_uri": "https://localhost:8080/"
        },
        "id": "p0Lrd4saldLI",
        "outputId": "84f17e6b-5b28-4cdf-d324-297cbe3bc372"
      },
      "execution_count": 320,
      "outputs": [
        {
          "output_type": "stream",
          "name": "stdout",
          "text": [
            "2 0 2 3 7 3 6 5 5 6 * 39\n",
            "0 7 6 2 4 6 6 4 8 5 * 48\n",
            "2 3 3 6 1 7 9 8 8 6 * 53\n",
            "7 9 6 3 1 1 8 6 9 2 * 52\n",
            "9 8 6 4 1 0 2 5 2 7 * 44\n",
            "7 1 3 2 9 3 1 8 2 9 * 45\n",
            "3 8 8 3 9 0 6 0 4 3 * 44\n",
            "5 2 1 1 9 4 7 4 0 6 * 39\n",
            "4 3 0 8 8 7 7 8 0 9 * 54\n",
            "1 3 9 8 4 7 1 1 9 6 * 49\n"
          ]
        }
      ]
    },
    {
      "cell_type": "markdown",
      "source": [
        "4. Surround the matrix with asterisks (*)."
      ],
      "metadata": {
        "id": "coVsQTZjLTfE"
      }
    },
    {
      "cell_type": "code",
      "source": [
        "print(\"*\" * (COUNT*2 + 3))      # print row of correct number of asterisks\n",
        "\n",
        "for i in range(COUNT):          # outer loop for rows\n",
        "\n",
        "    print(\"*\", end=\" \")         # print asterisk and space to start row\n",
        "\n",
        "    for j in range(COUNT):      # inner loop for columns\n",
        "\n",
        "        # generate and print random number with one space after each number\n",
        "        print(random.randint(0, 9), end=\" \")\n",
        "\n",
        "    print(\"*\")                  # print asterisk to end row\n",
        "\n",
        "print(\"*\" * (COUNT*2 + 3))      # print row of correct number of asterisks"
      ],
      "metadata": {
        "colab": {
          "base_uri": "https://localhost:8080/"
        },
        "id": "5Bc2oW3RloGo",
        "outputId": "c16cc188-795b-4417-b206-7e8fdd099d01"
      },
      "execution_count": 321,
      "outputs": [
        {
          "output_type": "stream",
          "name": "stdout",
          "text": [
            "***********************\n",
            "* 3 2 6 6 9 8 3 5 7 6 *\n",
            "* 5 5 0 4 4 3 0 4 6 5 *\n",
            "* 5 4 1 4 2 9 2 0 7 3 *\n",
            "* 8 4 2 1 6 1 9 9 0 3 *\n",
            "* 0 6 7 5 7 1 7 6 8 1 *\n",
            "* 3 6 8 9 3 4 8 0 6 6 *\n",
            "* 7 4 8 8 0 3 6 3 0 2 *\n",
            "* 2 9 6 9 0 2 3 4 1 2 *\n",
            "* 1 1 6 7 1 3 5 7 6 5 *\n",
            "* 9 9 2 2 6 4 6 1 4 1 *\n",
            "***********************\n"
          ]
        }
      ]
    },
    {
      "cell_type": "markdown",
      "source": [
        "5. Calculate and Print the total of each row and column.\n",
        "- First solution."
      ],
      "metadata": {
        "id": "JMQ5BqZmLZvy"
      }
    },
    {
      "cell_type": "code",
      "source": [
        "num_list = []       # initialize empty list for random numbers\n",
        "\n",
        "\n",
        "# part 1 - create and print the matrix with row sums\n",
        "for i in range(COUNT):          # outer loop for rows\n",
        "\n",
        "    for j in range(COUNT):      # inner loop for columns\n",
        "\n",
        "        # generate a random number and assign to variable\n",
        "        x = random.randint(0, 9)\n",
        "\n",
        "        print(x, end=\"  \")      # print number and two spaces\n",
        "\n",
        "        num_list.append(x)      # append number to list\n",
        "\n",
        "    print(\"*\", end=\" \")         # print asterisk and space\n",
        "\n",
        "    # calculate and print sum for current row only\n",
        "    print(sum(num_list[COUNT*i : COUNT*(i+1)]))\n",
        "\n",
        "print(\"*  \" * COUNT)            # print row of correct number of asterisks\n",
        " \n",
        "\n",
        "# part 2 - calculate and print the column sums \n",
        "for m in range(COUNT):          # outer loop for rows \n",
        "\n",
        "    column_list = []            # initialize empty list for numbers in column\n",
        "\n",
        "    for n in range(COUNT):      # inner loop for columns\n",
        "\n",
        "        # select members of column and assign to variable\n",
        "        y = num_list[COUNT*n + m]   \n",
        "\n",
        "        column_list.append(y)   # append number to column list\n",
        "\n",
        "    print(sum(column_list), end=\" \")    # print column sum and space"
      ],
      "metadata": {
        "colab": {
          "base_uri": "https://localhost:8080/"
        },
        "id": "b83O-vdfn0h1",
        "outputId": "39e80608-503d-45ad-8304-4d770a5ebd92"
      },
      "execution_count": 322,
      "outputs": [
        {
          "output_type": "stream",
          "name": "stdout",
          "text": [
            "2  2  4  3  4  4  7  6  0  3  * 35\n",
            "4  1  3  7  4  8  5  1  4  9  * 46\n",
            "7  6  5  7  6  0  2  9  7  0  * 49\n",
            "3  0  1  8  4  1  8  0  0  0  * 25\n",
            "5  5  6  5  4  8  6  9  4  7  * 59\n",
            "6  7  3  8  5  7  3  8  2  5  * 54\n",
            "5  9  1  3  6  3  4  1  9  4  * 45\n",
            "8  9  7  7  1  3  7  5  8  1  * 56\n",
            "5  9  1  3  2  6  8  3  1  8  * 46\n",
            "8  9  0  2  5  8  7  6  7  6  * 58\n",
            "*  *  *  *  *  *  *  *  *  *  \n",
            "53 57 31 53 41 48 57 48 42 43 "
          ]
        }
      ]
    },
    {
      "cell_type": "markdown",
      "source": [
        "5. Calculate and Print the total of each row and column.\n",
        "- Second solution.  I wanted to try transposing a matrix.  I thought it might be more elegant, but I'm not sure if it is.  This solution is a little longer than the first solution, but it might be more clear to people who understand transposing matrices.  I also found it much more difficult to get the logic correct.  It took much longer than my first solution and required much more Googling."
      ],
      "metadata": {
        "id": "D2YZAv0p0M2n"
      }
    },
    {
      "cell_type": "code",
      "source": [
        "num_list = []       # initialize empty list for random numbers\n",
        "\n",
        "# append appropriate number of nested lists to represent matrix\n",
        "for k in range(COUNT):\n",
        "    num_list.append([])\n",
        "\n",
        "\n",
        "# part 1 - create and print the matrix with row sums\n",
        "for i in range(COUNT):          # outer loop for rows\n",
        "\n",
        "    for j in range(COUNT):      # inner loop for columns\n",
        "\n",
        "        # generate a random number and assign to variable\n",
        "        x = random.randint(0, 9)\n",
        "\n",
        "        print(x, end=\"  \")      # print number and two spaces\n",
        "\n",
        "        num_list[i].append(x)      # append number to list\n",
        "\n",
        "    print(\"*\", end=\" \")         # print asterisk and space\n",
        "\n",
        "    # calculate and print sum for current row only\n",
        "    print(sum(num_list[i]))\n",
        "\n",
        "print(\"*  \" * COUNT)            # print row of correct number of asterisks\n",
        "\n",
        "\n",
        "# part 2 - calculate and print the column sums\n",
        "# initialize correct size matrix of zeroes to hold transposed matrix\n",
        "num_list_trans = []\n",
        "for p in range(COUNT):\n",
        "    num_list_trans.append([])\n",
        "    for q in range(COUNT):\n",
        "        num_list_trans[p].append(0)\n",
        "\n",
        "# transpose the matrix \n",
        "for m in range(COUNT):\n",
        "    for n in range(COUNT):\n",
        "        num_list_trans[n][m] = num_list[m][n]     \n",
        "\n",
        "# calculate and print sum for each row (transposed column) with space after each\n",
        "for row in num_list_trans:\n",
        "    print(sum(row), end=\" \")"
      ],
      "metadata": {
        "colab": {
          "base_uri": "https://localhost:8080/"
        },
        "id": "cXvs3ODIVfOz",
        "outputId": "593e4aba-c29c-47af-f83a-ddd292f47997"
      },
      "execution_count": 323,
      "outputs": [
        {
          "output_type": "stream",
          "name": "stdout",
          "text": [
            "4  3  2  4  1  7  2  2  1  8  * 34\n",
            "6  0  6  4  8  2  2  0  4  9  * 41\n",
            "8  4  1  7  7  1  1  0  7  9  * 45\n",
            "2  4  0  6  1  8  1  6  9  0  * 37\n",
            "8  6  1  3  9  2  5  5  1  2  * 42\n",
            "5  6  8  5  4  5  4  5  8  5  * 55\n",
            "7  3  8  3  8  4  2  6  6  8  * 55\n",
            "3  1  0  2  4  1  6  2  8  7  * 34\n",
            "5  5  1  3  1  5  6  8  9  2  * 45\n",
            "4  7  0  4  4  6  5  2  4  5  * 41\n",
            "*  *  *  *  *  *  *  *  *  *  \n",
            "52 39 27 41 47 41 34 36 57 55 "
          ]
        }
      ]
    }
  ]
}