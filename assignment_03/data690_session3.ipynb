{
  "nbformat": 4,
  "nbformat_minor": 0,
  "metadata": {
    "colab": {
      "provenance": [],
      "authorship_tag": "ABX9TyNNpSXMNXJ/BPlqFn1WN1a+",
      "include_colab_link": true
    },
    "kernelspec": {
      "name": "python3",
      "display_name": "Python 3"
    },
    "language_info": {
      "name": "python"
    }
  },
  "cells": [
    {
      "cell_type": "markdown",
      "metadata": {
        "id": "view-in-github",
        "colab_type": "text"
      },
      "source": [
        "<a href=\"https://colab.research.google.com/github/davidsadovy/data690_fall2022/blob/main/assignment_03/data690_session3.ipynb\" target=\"_parent\"><img src=\"https://colab.research.google.com/assets/colab-badge.svg\" alt=\"Open In Colab\"/></a>"
      ]
    },
    {
      "cell_type": "code",
      "execution_count": 37,
      "metadata": {
        "colab": {
          "base_uri": "https://localhost:8080/"
        },
        "id": "zQxIyGycaE9Y",
        "outputId": "e3874790-d7b1-44fa-d454-e1208b20c8b2"
      },
      "outputs": [
        {
          "output_type": "stream",
          "name": "stdout",
          "text": [
            "9 7 9 9 0 8 8 4 8 5 \n",
            "7 7 6 4 5 5 5 1 2 8 \n",
            "4 1 2 4 1 8 4 9 8 2 \n",
            "3 6 5 5 4 9 2 7 1 1 \n",
            "0 2 3 7 4 8 3 2 3 2 \n",
            "7 0 8 7 9 5 7 0 9 9 \n",
            "9 4 2 4 0 2 8 9 6 4 \n",
            "2 6 9 7 8 3 2 9 2 3 \n",
            "5 6 5 6 0 8 2 2 4 1 \n",
            "7 3 8 9 7 9 2 5 3 3 \n"
          ]
        }
      ],
      "source": [
        "import random\n",
        "\n",
        "COUNT = 10\n",
        "\n",
        "for i in range(COUNT):\n",
        "    for j in range(COUNT):\n",
        "        print(random.randint(0, 9), end=\" \")\n",
        "    print()"
      ]
    },
    {
      "cell_type": "code",
      "source": [
        "for i in range(COUNT):\n",
        "    for j in range(COUNT):\n",
        "        x = random.randint(0, 9)\n",
        "        if x % 2 == 1:\n",
        "            print(\"@\", end=\" \")\n",
        "        else:\n",
        "            print(x, end=\" \")\n",
        "    print()"
      ],
      "metadata": {
        "colab": {
          "base_uri": "https://localhost:8080/"
        },
        "id": "bx9w3Dz4l-He",
        "outputId": "84973653-9bea-4ff3-c00d-f9e7884727c8"
      },
      "execution_count": 38,
      "outputs": [
        {
          "output_type": "stream",
          "name": "stdout",
          "text": [
            "0 6 @ 2 8 6 6 @ @ @ \n",
            "4 @ @ 0 8 @ 4 8 @ @ \n",
            "@ 4 8 @ 0 @ 6 4 8 2 \n",
            "@ 4 8 @ @ @ @ 6 @ @ \n",
            "@ 0 2 @ 8 0 4 @ @ @ \n",
            "@ @ @ 6 6 4 2 6 @ 4 \n",
            "2 @ @ @ @ 4 8 @ 6 @ \n",
            "@ @ @ @ 2 @ 6 0 @ @ \n",
            "8 0 8 2 @ 2 6 @ @ 8 \n",
            "4 8 @ 8 0 2 8 @ 8 @ \n"
          ]
        }
      ]
    },
    {
      "cell_type": "code",
      "source": [
        "for i in range(COUNT):\n",
        "    for j in range(COUNT):\n",
        "        print(random.randint(0, 9), end=\" \")\n",
        "    print()"
      ],
      "metadata": {
        "colab": {
          "base_uri": "https://localhost:8080/"
        },
        "id": "CTxmM0yznBDI",
        "outputId": "18823d25-8a54-42b9-c004-00460d391297"
      },
      "execution_count": 39,
      "outputs": [
        {
          "output_type": "stream",
          "name": "stdout",
          "text": [
            "5 9 5 2 6 8 0 7 9 1 \n",
            "7 2 0 6 4 6 8 7 3 6 \n",
            "3 1 1 2 9 6 6 9 1 0 \n",
            "7 7 0 0 2 9 7 5 6 1 \n",
            "5 6 5 5 3 5 2 3 9 9 \n",
            "0 7 3 4 1 6 4 4 2 5 \n",
            "3 2 2 0 3 4 7 6 5 4 \n",
            "0 5 3 7 5 4 9 9 6 5 \n",
            "5 3 5 7 8 8 6 9 4 3 \n",
            "7 7 7 0 4 1 1 9 1 1 \n"
          ]
        }
      ]
    },
    {
      "cell_type": "code",
      "source": [
        "for i in range(20):\n",
        "    print(\"random number #\", i+1, \"is\", random.randint(6,9))"
      ],
      "metadata": {
        "colab": {
          "base_uri": "https://localhost:8080/"
        },
        "id": "0T9S3otslYJx",
        "outputId": "f5409fce-3740-4345-9ed8-bf17e9035429"
      },
      "execution_count": 40,
      "outputs": [
        {
          "output_type": "stream",
          "name": "stdout",
          "text": [
            "random number # 1 is 9\n",
            "random number # 2 is 8\n",
            "random number # 3 is 9\n",
            "random number # 4 is 9\n",
            "random number # 5 is 6\n",
            "random number # 6 is 9\n",
            "random number # 7 is 8\n",
            "random number # 8 is 8\n",
            "random number # 9 is 7\n",
            "random number # 10 is 9\n",
            "random number # 11 is 6\n",
            "random number # 12 is 8\n",
            "random number # 13 is 6\n",
            "random number # 14 is 6\n",
            "random number # 15 is 9\n",
            "random number # 16 is 8\n",
            "random number # 17 is 8\n",
            "random number # 18 is 7\n",
            "random number # 19 is 6\n",
            "random number # 20 is 9\n"
          ]
        }
      ]
    },
    {
      "cell_type": "code",
      "source": [
        "random_numbers = []\n",
        "\n",
        "for i in range(25):\n",
        "    random_numbers.append(random.randint(0,9))\n",
        "\n",
        "print(random_numbers)"
      ],
      "metadata": {
        "colab": {
          "base_uri": "https://localhost:8080/"
        },
        "id": "ii0W7U8bn3zW",
        "outputId": "397b44f8-1bad-479f-fa30-0d3b830b428a"
      },
      "execution_count": 42,
      "outputs": [
        {
          "output_type": "stream",
          "name": "stdout",
          "text": [
            "[4, 0, 8, 8, 4, 5, 5, 4, 2, 8, 5, 3, 1, 3, 4, 9, 8, 3, 4, 9, 8, 0, 0, 4, 0]\n"
          ]
        }
      ]
    },
    {
      "cell_type": "code",
      "source": [
        "for i in range(COUNT):\n",
        "    for j in range(COUNT):\n",
        "        print(random.randint(0,9), end=\" \")\n",
        "    \n",
        "    print(\"\\n\")"
      ],
      "metadata": {
        "colab": {
          "base_uri": "https://localhost:8080/"
        },
        "id": "k9XnmLVhokCg",
        "outputId": "7be2666a-b772-4a33-f493-9008edd54a27"
      },
      "execution_count": 49,
      "outputs": [
        {
          "output_type": "stream",
          "name": "stdout",
          "text": [
            "5 0 9 9 6 2 8 1 2 3 \n",
            "\n",
            "4 0 2 7 3 6 3 5 0 4 \n",
            "\n",
            "3 6 2 3 2 3 3 4 5 8 \n",
            "\n",
            "7 8 1 0 7 2 8 5 3 5 \n",
            "\n",
            "1 4 7 9 5 8 1 7 6 9 \n",
            "\n",
            "9 9 6 3 9 8 0 3 8 9 \n",
            "\n",
            "7 5 1 4 8 9 2 9 1 8 \n",
            "\n",
            "1 4 6 2 8 6 0 9 4 2 \n",
            "\n",
            "8 8 1 8 2 1 5 6 9 1 \n",
            "\n",
            "4 0 7 1 2 9 8 9 2 4 \n",
            "\n"
          ]
        }
      ]
    }
  ]
}