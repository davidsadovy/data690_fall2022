{
  "nbformat": 4,
  "nbformat_minor": 0,
  "metadata": {
    "colab": {
      "provenance": [],
      "authorship_tag": "ABX9TyNPj8lqcSHeKPCkYnLjvV6F",
      "include_colab_link": true
    },
    "kernelspec": {
      "name": "python3",
      "display_name": "Python 3"
    },
    "language_info": {
      "name": "python"
    }
  },
  "cells": [
    {
      "cell_type": "markdown",
      "metadata": {
        "id": "view-in-github",
        "colab_type": "text"
      },
      "source": [
        "<a href=\"https://colab.research.google.com/github/davidsadovy/data690_fall2022/blob/main/assignment_05/8_Notebooks/Notes.ipynb\" target=\"_parent\"><img src=\"https://colab.research.google.com/assets/colab-badge.svg\" alt=\"Open In Colab\"/></a>"
      ]
    },
    {
      "cell_type": "markdown",
      "source": [
        "# Assignment 05\n",
        "- Dave Sadovy\n",
        "- 10/04/2022 \n",
        "\n",
        "![green-divider](https://user-images.githubusercontent.com/7065401/52071924-c003ad80-2562-11e9-8297-1c6595f8a7ff.png)"
      ],
      "metadata": {
        "id": "SVaBOf8jzRlp"
      }
    },
    {
      "cell_type": "markdown",
      "source": [
        "# Data Analysis with Python - Full Course for Beginners\n",
        "## NumPy, Pandas, Matplotlib, Seaborn\n",
        "\n",
        "![green-divider](https://user-images.githubusercontent.com/7065401/52071924-c003ad80-2562-11e9-8297-1c6595f8a7ff.png)"
      ],
      "metadata": {
        "id": "caiqaW0Y0rAK"
      }
    },
    {
      "cell_type": "markdown",
      "source": [
        "## Part 1 - Introduction\n",
        "### What is Data Analysis?\n",
        "This brief section introduced the instructor and provided an overview of the topics covered.  Unlike subsequent sections of the course which were presented as Jupyter Notebooks, this section was presented as a series of slides.  Key topics covered were:\n",
        "1.  Definition of Data Analysis\n",
        "2.  Data Analysis Tools\n",
        "3.  Why Python for Data Analysis?\n",
        "4.  The Data Analysis Process\n",
        "5.  Data Analysis vs. Data Science\n",
        "6.  Python & PyData Ecosystem\n",
        "7.  How Python Data Analysts Think\n",
        "8.  Why Python?\n",
        "\n",
        "**Key Takeaways:**  \n",
        "- Python is the preferred language for Data Analysis\n",
        "- R may be needed for advanced statistical methods\n",
        "- The 5-step data analysis process\n",
        "    1.  Data Extraction\n",
        "    2.  Data Cleaning\n",
        "    3.  Data Wrangling\n",
        "    4.  Analysis\n",
        "    5.  Action\n",
        "- Data Science normally involves more programming and math than Data Analysis\n",
        "- The most important libraries for Data Science include Pandas, Matplotlib, and NumPy\n",
        "\n",
        "![green-divider](https://user-images.githubusercontent.com/7065401/52071924-c003ad80-2562-11e9-8297-1c6595f8a7ff.png)\n",
        "\n",
        "\n",
        "\n",
        "\n"
      ],
      "metadata": {
        "id": "hvUr1bVTx3P_"
      }
    },
    {
      "cell_type": "markdown",
      "source": [
        "## Part 2 - Real Life Example of a Python/Pandas Data Analysis Project\n",
        "### Bike Store Sales\n",
        "The real life example in this section demonstrated each of the topics covered in the course, including:\n",
        "1.  Loading data\n",
        "2.  Examining data\n",
        "3.  Numerical analysis and visualization\n",
        "4.  Categorical analysis and visualization\n",
        "5.  Relationship between the columns\n",
        "6.  Column wrangling\n",
        "7.  Selection & Indexing\n",
        "\n",
        "**Key Takeaways:**\n",
        "- This course covers a great deal of material!\n",
        "- This is exactly the material that I hope to learn!\n",
        "- Mastering this material will require repetition!\n",
        "- There is a great deal of power and flexibility in managing data\n",
        "- There is a great deal of power and flexibility in visualizing data\n",
        "\n",
        "## Homework Notebooks\n",
        "### In the `assignment_05/8-Notebooks` directory\n",
        "1.  Pandas-Real-Life-Exercises1\n",
        "2.  Pandas-Real-Life-Exercises2\n",
        "\n",
        "![green-divider](https://user-images.githubusercontent.com/7065401/52071924-c003ad80-2562-11e9-8297-1c6595f8a7ff.png)\n",
        "\n",
        "\n"
      ],
      "metadata": {
        "id": "spW8VZmHyBU5"
      }
    },
    {
      "cell_type": "markdown",
      "source": [
        "## Part 3 - Jupyter Notebooks Tutorial\n",
        "### Interactive Notebooks Tutorial\n",
        "This section provided an excellent introduction to Jupyter Notebooks, which is very similar to Google Colab.  It reinforces several of the topics we've addressed in the past few weeks, including cells as text or code and the use of Markdown.\n",
        "\n",
        "**Key Takeaways:**\n",
        "- `shift + return` runs the cell and advances to the next one.  I don't have to use my mouse to press the `play` button\n",
        "- I needed to install Bokeh in the Colab environment\n",
        "\n",
        "## Homework Notebooks\n",
        "### In the `assignment_05/8-Notebooks` directory\n",
        "1.  Interactive-Jupyterlab-Exercises\n",
        "\n",
        "![green-divider](https://user-images.githubusercontent.com/7065401/52071924-c003ad80-2562-11e9-8297-1c6595f8a7ff.png)"
      ],
      "metadata": {
        "id": "kyxcn_vayMog"
      }
    },
    {
      "cell_type": "markdown",
      "source": [
        "## Part 4 - Intro to NumPy\n",
        "### NumPy: Numerical Computing Library\n",
        "This section covered the essentials of NumPy, including:\n",
        "1.  Basic NumPy arrays\n",
        "2.  Array types\n",
        "3.  Dimensions and shapes\n",
        "4.  Indexing and Slicing of Matrices\n",
        "5.  Summary statistics\n",
        "6.  Broadcasting and vectorized operations\n",
        "7.  Boolean arrays (masks)\n",
        "8.  Linear algebra\n",
        "9.  Size of objects in memory\n",
        "10. Useful NumPy functions\n",
        "\n",
        "**Key Takeaways:**\n",
        "- This is a core library for numerical computing in Python\n",
        "- Similarites and differences between NumPy arrays and Python lists\n",
        "- Tons of built-in functions\n",
        "- Powerful linear algebra capabilities\n",
        "- NumPy's more efficient use of memory and increased speed\n",
        "\n",
        "## Homework Notebooks\n",
        "### In the `assignment_05/8-Notebooks` directory\n",
        "1.  NumPy-Exercises\n",
        "\n",
        "![green-divider](https://user-images.githubusercontent.com/7065401/52071924-c003ad80-2562-11e9-8297-1c6595f8a7ff.png)"
      ],
      "metadata": {
        "id": "SCokgDkxyWyW"
      }
    },
    {
      "cell_type": "markdown",
      "source": [
        "## Part 5 - Intro to Pandas\n",
        "### Pandas - Series\n",
        "Series are simpler than DataFrames, so they make a good place to start with Pandas.  The main topics covered were:\n",
        "1.  Pandas series\n",
        "2.  Indexing\n",
        "3.  Conditional selection (boolean arrays)\n",
        "4.  Operations and methods\n",
        "5.  Boolean arrays\n",
        "6.  Modifying series\n",
        "\n",
        "### Pandas - DataFrames\n",
        "DataFrames are similar to spreadsheets, and are the most important data structure of Pandas.  Topics included:\n",
        "1.  Indexing, selection and slicing\n",
        "2.  Conditional selection (boolean arrays)\n",
        "3.  Dropping stuff\n",
        "4.  Operations\n",
        "5.  Modifying DataFrames\n",
        "6.  Creating columns from other columns\n",
        "7.  Statistical info\n",
        "\n",
        "**Key Takeaways:**\n",
        "- Series similarity to Python dictionaries\n",
        "- When to use `~`, `|`, `&` instead of `not`, `or`, `and`\n",
        "- When to use `.loc` and `.iloc`\n",
        "- I'm starting to get a better feel for Python.  New concepts are implemented exactly how I would expect\n",
        "\n",
        "\n",
        "\n",
        "## Homework Notebooks\n",
        "### In the `assignment_05/8-Notebooks` directory\n",
        "1.  Pandas-Series-Exercises\n",
        "2.  Pandas-DataFrames-Exercises\n",
        "\n",
        "![green-divider](https://user-images.githubusercontent.com/7065401/52071924-c003ad80-2562-11e9-8297-1c6595f8a7ff.png)"
      ],
      "metadata": {
        "id": "Cpo0bIG2yfcZ"
      }
    },
    {
      "cell_type": "markdown",
      "source": [
        "## Part 6 - Data Cleaning\n",
        "This section had four Notebooks addressing different ways to clean data, as well as a real world example.  The four instructional Notebooks addressed:\n",
        "1.  Missing Data\n",
        "2.  Handling Missing Data with Pandas\n",
        "3.  Cleaning not-null values\n",
        "4.  More Visualizations\n",
        "\n",
        "**Key Takeaways:**  There are many different types of problems that may occur with data, and many different techniques for addressing these problems.  I can see this step being very time-consuming for the data analyst.  \n",
        "\n",
        "## Homework Notebooks\n",
        "### In the `assignment_05/8-Notebooks` directory\n",
        "1.  Data-Cleaning-Example\n",
        "\n",
        "![green-divider](https://user-images.githubusercontent.com/7065401/52071924-c003ad80-2562-11e9-8297-1c6595f8a7ff.png)"
      ],
      "metadata": {
        "id": "CjCcspn6yjoO"
      }
    },
    {
      "cell_type": "markdown",
      "source": [
        "## Part 7 - Reading Data from Other Sources\n",
        "This section focused on the following four areas, each covered by a separate Notebook that is included with my Homework:\n",
        "1.  Reading csv and txt files\n",
        "2.  Reading data from relational databases\n",
        "3.  Reading Excel files\n",
        "4.  Reading html tables\n",
        "\n",
        "**Key Takeaways:**  It is possible to read almost anything in Python!\n",
        "\n",
        "## Homework Notebooks\n",
        "### In the `assignment_05/8-Notebooks` directory\n",
        "1.  Reading-CSV-And-TXT-Files\n",
        "2.  Reading-Data-From-Relational-Databases\n",
        "3.  Reading-Excel-Files\n",
        "4.  Reading-HTML-Tables\n",
        "\n",
        "![green-divider](https://user-images.githubusercontent.com/7065401/52071924-c003ad80-2562-11e9-8297-1c6595f8a7ff.png)"
      ],
      "metadata": {
        "id": "vbYsKLZaynvz"
      }
    },
    {
      "cell_type": "markdown",
      "source": [
        "## Part 8 - Python Recap\n",
        "### Python in Under 10 Minutes\n",
        "As someone with limited Python experience, I truly appreciated this review of the basics of the language.  All of the essential topics were covered, including:\n",
        "1.  Indentation based structure\n",
        "2.  Comments\n",
        "3.  Variables\n",
        "4.  Data types\n",
        "5.  Functions\n",
        "6.  Operators\n",
        "7.  Control flow\n",
        "8.  Collections\n",
        "9.  Iterating collections\n",
        "10. Modules\n",
        "11. Exceptions\n",
        "\n",
        "**Key Takeaways:**\n",
        "While I've seen most of this imformation before, I find repetition to be key to effective learning for me.  I'm always grateful for the chance to review this important information, and even happier to get the chance to practice it!\n",
        "\n",
        "## Homework Notebooks\n",
        "### In the `assignment_05/8-Notebooks` directory\n",
        "1.  Python-Under-10-Minutes-Exercises\n",
        "\n",
        "![green-divider](https://user-images.githubusercontent.com/7065401/52071924-c003ad80-2562-11e9-8297-1c6595f8a7ff.png)"
      ],
      "metadata": {
        "id": "itqNcHjNyvp0"
      }
    }
  ]
}