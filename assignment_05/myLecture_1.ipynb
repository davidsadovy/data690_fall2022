{
  "cells": [
    {
      "cell_type": "markdown",
      "metadata": {
        "id": "view-in-github",
        "colab_type": "text"
      },
      "source": [
        "<a href=\"https://colab.research.google.com/github/davidsadovy/data690_fall2022/blob/main/assignment_05/myLecture_1.ipynb\" target=\"_parent\"><img src=\"https://colab.research.google.com/assets/colab-badge.svg\" alt=\"Open In Colab\"/></a>"
      ]
    },
    {
      "cell_type": "markdown",
      "metadata": {
        "id": "aJV39cSdFBNW"
      },
      "source": [
        "![rmotr](https://user-images.githubusercontent.com/7065401/52071918-bda15380-2562-11e9-828c-7f95297e4a82.png)\n",
        "<hr style=\"margin-bottom: 40px;\">\n",
        "\n",
        "<img src=\"https://user-images.githubusercontent.com/7065401/58563302-42466a80-8201-11e9-9948-b3e9f88a5662.jpg\"\n",
        "    style=\"width:400px; float: right; margin: 0 40px 40px 40px;\"></img>\n",
        "\n",
        "# Bike store sales\n",
        "\n",
        "In this class we'll be analyzing sales made on bike stores.\n",
        "\n",
        "[Follow this data in a Google Spreadsheet](https://docs.google.com/spreadsheets/d/1NOe_UrPx6ULF2C5MvHmZ9ODuw8t9M77Q1Y64gP-7JHA/edit?usp=sharing)"
      ]
    },
    {
      "cell_type": "markdown",
      "metadata": {
        "id": "hhpiD1WDFBNZ"
      },
      "source": [
        "![purple-divider](https://user-images.githubusercontent.com/7065401/52071927-c1cd7100-2562-11e9-908a-dde91ba14e59.png)\n",
        "\n",
        "## Hands on! "
      ]
    },
    {
      "cell_type": "code",
      "execution_count": 5,
      "metadata": {
        "id": "_OgfeAC7FBNa"
      },
      "outputs": [],
      "source": [
        "import numpy as np\n",
        "import pandas as pd\n",
        "import matplotlib.pyplot as plt\n",
        "\n",
        "%matplotlib inline"
      ]
    },
    {
      "cell_type": "markdown",
      "metadata": {
        "id": "rjnVK4JnFBNb"
      },
      "source": [
        "![green-divider](https://user-images.githubusercontent.com/7065401/52071924-c003ad80-2562-11e9-8297-1c6595f8a7ff.png)\n",
        "\n",
        "## Loading our data:"
      ]
    },
    {
      "cell_type": "code",
      "execution_count": 6,
      "metadata": {
        "id": "Y8Ox06V6FBNb",
        "outputId": "7abe9617-d6b4-46d0-c58b-cc9ad8733390",
        "colab": {
          "base_uri": "https://localhost:8080/"
        }
      },
      "outputs": [
        {
          "output_type": "stream",
          "name": "stdout",
          "text": [
            "Date,Day,Month,Year,Customer_Age,Age_Group,Customer_Gender,Country,State,Product_Category,Sub_Category,Product,Order_Quantity,Unit_Cost,Unit_Price,Profit,Cost,Revenue\n",
            "2013-11-26,26,November,2013,19,Youth (<25),M,Canada,British Columbia,Accessories,Bike Racks,Hitch Rack - 4-Bike,8,45,120,590,360,950\n",
            "2015-11-26,26,November,2015,19,Youth (<25),M,Canada,British Columbia,Accessories,Bike Racks,Hitch Rack - 4-Bike,8,45,120,590,360,950\n",
            "2014-03-23,23,March,2014,49,Adults (35-64),M,Australia,New South Wales,Accessories,Bike Racks,Hitch Rack - 4-Bike,23,45,120,1366,1035,2401\n",
            "2016-03-23,23,March,2016,49,Adults (35-64),M,Australia,New South Wales,Accessories,Bike Racks,Hitch Rack - 4-Bike,20,45,120,1188,900,2088\n",
            "2014-05-15,15,May,2014,47,Adults (35-64),F,Australia,New South Wales,Accessories,Bike Racks,Hitch Rack - 4-Bike,4,45,120,238,180,418\n",
            "2016-05-15,15,May,2016,47,Adults (35-64),F,Australia,New South Wales,Accessories,Bike Racks,Hitch Rack - 4-Bike,5,45,120,297,225,522\n",
            "2014-05-22,22,May,2014,47,Adults (35-64),F,Australia,Victoria,Accessories,Bike Racks,Hitch Rack - 4-Bike,4,45,120,199,180,379\n",
            "2016-05-22,22,May,2016,47,Adults (35-64),F,Australia,Victoria,Accessories,Bike Racks,Hitch Rack - 4-Bike,2,45,120,100,90,190\n",
            "2014-02-22,22,February,2014,35,Adults (35-64),M,Australia,Victoria,Accessories,Bike Racks,Hitch Rack - 4-Bike,22,45,120,1096,990,2086\n"
          ]
        }
      ],
      "source": [
        "!head data/sales_data.csv"
      ]
    },
    {
      "cell_type": "code",
      "execution_count": 7,
      "metadata": {
        "id": "Vwjb6_Q_FBNc"
      },
      "outputs": [],
      "source": [
        "sales = pd.read_csv(\n",
        "    'data/sales_data.csv',\n",
        "    parse_dates=['Date'])"
      ]
    },
    {
      "cell_type": "markdown",
      "metadata": {
        "id": "lPDipHQ4FBNc"
      },
      "source": [
        "![green-divider](https://user-images.githubusercontent.com/7065401/52071924-c003ad80-2562-11e9-8297-1c6595f8a7ff.png)\n",
        "\n",
        "## The data at a glance:"
      ]
    },
    {
      "cell_type": "code",
      "execution_count": 8,
      "metadata": {
        "id": "u-2LrMDxFBNc",
        "outputId": "acdb5a59-57dd-4e89-a070-adabfdbe2f22",
        "colab": {
          "base_uri": "https://localhost:8080/",
          "height": 444
        }
      },
      "outputs": [
        {
          "output_type": "execute_result",
          "data": {
            "text/plain": [
              "        Date  Day     Month  Year  Customer_Age       Age_Group  \\\n",
              "0 2013-11-26   26  November  2013            19     Youth (<25)   \n",
              "1 2015-11-26   26  November  2015            19     Youth (<25)   \n",
              "2 2014-03-23   23     March  2014            49  Adults (35-64)   \n",
              "3 2016-03-23   23     March  2016            49  Adults (35-64)   \n",
              "4 2014-05-15   15       May  2014            47  Adults (35-64)   \n",
              "\n",
              "  Customer_Gender    Country             State Product_Category Sub_Category  \\\n",
              "0               M     Canada  British Columbia      Accessories   Bike Racks   \n",
              "1               M     Canada  British Columbia      Accessories   Bike Racks   \n",
              "2               M  Australia   New South Wales      Accessories   Bike Racks   \n",
              "3               M  Australia   New South Wales      Accessories   Bike Racks   \n",
              "4               F  Australia   New South Wales      Accessories   Bike Racks   \n",
              "\n",
              "               Product  Order_Quantity  Unit_Cost  Unit_Price  Profit    Cost  \\\n",
              "0  Hitch Rack - 4-Bike             8.0       45.0       120.0   590.0   360.0   \n",
              "1  Hitch Rack - 4-Bike             8.0       45.0       120.0   590.0   360.0   \n",
              "2  Hitch Rack - 4-Bike            23.0       45.0       120.0  1366.0  1035.0   \n",
              "3  Hitch Rack - 4-Bike            20.0       45.0       120.0  1188.0   900.0   \n",
              "4  Hitch Rack - 4-Bike             4.0       45.0       120.0   238.0   180.0   \n",
              "\n",
              "   Revenue  \n",
              "0    950.0  \n",
              "1    950.0  \n",
              "2   2401.0  \n",
              "3   2088.0  \n",
              "4    418.0  "
            ],
            "text/html": [
              "\n",
              "  <div id=\"df-fd95a601-e2c3-4eed-8e0c-9c939c1bdd62\">\n",
              "    <div class=\"colab-df-container\">\n",
              "      <div>\n",
              "<style scoped>\n",
              "    .dataframe tbody tr th:only-of-type {\n",
              "        vertical-align: middle;\n",
              "    }\n",
              "\n",
              "    .dataframe tbody tr th {\n",
              "        vertical-align: top;\n",
              "    }\n",
              "\n",
              "    .dataframe thead th {\n",
              "        text-align: right;\n",
              "    }\n",
              "</style>\n",
              "<table border=\"1\" class=\"dataframe\">\n",
              "  <thead>\n",
              "    <tr style=\"text-align: right;\">\n",
              "      <th></th>\n",
              "      <th>Date</th>\n",
              "      <th>Day</th>\n",
              "      <th>Month</th>\n",
              "      <th>Year</th>\n",
              "      <th>Customer_Age</th>\n",
              "      <th>Age_Group</th>\n",
              "      <th>Customer_Gender</th>\n",
              "      <th>Country</th>\n",
              "      <th>State</th>\n",
              "      <th>Product_Category</th>\n",
              "      <th>Sub_Category</th>\n",
              "      <th>Product</th>\n",
              "      <th>Order_Quantity</th>\n",
              "      <th>Unit_Cost</th>\n",
              "      <th>Unit_Price</th>\n",
              "      <th>Profit</th>\n",
              "      <th>Cost</th>\n",
              "      <th>Revenue</th>\n",
              "    </tr>\n",
              "  </thead>\n",
              "  <tbody>\n",
              "    <tr>\n",
              "      <th>0</th>\n",
              "      <td>2013-11-26</td>\n",
              "      <td>26</td>\n",
              "      <td>November</td>\n",
              "      <td>2013</td>\n",
              "      <td>19</td>\n",
              "      <td>Youth (&lt;25)</td>\n",
              "      <td>M</td>\n",
              "      <td>Canada</td>\n",
              "      <td>British Columbia</td>\n",
              "      <td>Accessories</td>\n",
              "      <td>Bike Racks</td>\n",
              "      <td>Hitch Rack - 4-Bike</td>\n",
              "      <td>8.0</td>\n",
              "      <td>45.0</td>\n",
              "      <td>120.0</td>\n",
              "      <td>590.0</td>\n",
              "      <td>360.0</td>\n",
              "      <td>950.0</td>\n",
              "    </tr>\n",
              "    <tr>\n",
              "      <th>1</th>\n",
              "      <td>2015-11-26</td>\n",
              "      <td>26</td>\n",
              "      <td>November</td>\n",
              "      <td>2015</td>\n",
              "      <td>19</td>\n",
              "      <td>Youth (&lt;25)</td>\n",
              "      <td>M</td>\n",
              "      <td>Canada</td>\n",
              "      <td>British Columbia</td>\n",
              "      <td>Accessories</td>\n",
              "      <td>Bike Racks</td>\n",
              "      <td>Hitch Rack - 4-Bike</td>\n",
              "      <td>8.0</td>\n",
              "      <td>45.0</td>\n",
              "      <td>120.0</td>\n",
              "      <td>590.0</td>\n",
              "      <td>360.0</td>\n",
              "      <td>950.0</td>\n",
              "    </tr>\n",
              "    <tr>\n",
              "      <th>2</th>\n",
              "      <td>2014-03-23</td>\n",
              "      <td>23</td>\n",
              "      <td>March</td>\n",
              "      <td>2014</td>\n",
              "      <td>49</td>\n",
              "      <td>Adults (35-64)</td>\n",
              "      <td>M</td>\n",
              "      <td>Australia</td>\n",
              "      <td>New South Wales</td>\n",
              "      <td>Accessories</td>\n",
              "      <td>Bike Racks</td>\n",
              "      <td>Hitch Rack - 4-Bike</td>\n",
              "      <td>23.0</td>\n",
              "      <td>45.0</td>\n",
              "      <td>120.0</td>\n",
              "      <td>1366.0</td>\n",
              "      <td>1035.0</td>\n",
              "      <td>2401.0</td>\n",
              "    </tr>\n",
              "    <tr>\n",
              "      <th>3</th>\n",
              "      <td>2016-03-23</td>\n",
              "      <td>23</td>\n",
              "      <td>March</td>\n",
              "      <td>2016</td>\n",
              "      <td>49</td>\n",
              "      <td>Adults (35-64)</td>\n",
              "      <td>M</td>\n",
              "      <td>Australia</td>\n",
              "      <td>New South Wales</td>\n",
              "      <td>Accessories</td>\n",
              "      <td>Bike Racks</td>\n",
              "      <td>Hitch Rack - 4-Bike</td>\n",
              "      <td>20.0</td>\n",
              "      <td>45.0</td>\n",
              "      <td>120.0</td>\n",
              "      <td>1188.0</td>\n",
              "      <td>900.0</td>\n",
              "      <td>2088.0</td>\n",
              "    </tr>\n",
              "    <tr>\n",
              "      <th>4</th>\n",
              "      <td>2014-05-15</td>\n",
              "      <td>15</td>\n",
              "      <td>May</td>\n",
              "      <td>2014</td>\n",
              "      <td>47</td>\n",
              "      <td>Adults (35-64)</td>\n",
              "      <td>F</td>\n",
              "      <td>Australia</td>\n",
              "      <td>New South Wales</td>\n",
              "      <td>Accessories</td>\n",
              "      <td>Bike Racks</td>\n",
              "      <td>Hitch Rack - 4-Bike</td>\n",
              "      <td>4.0</td>\n",
              "      <td>45.0</td>\n",
              "      <td>120.0</td>\n",
              "      <td>238.0</td>\n",
              "      <td>180.0</td>\n",
              "      <td>418.0</td>\n",
              "    </tr>\n",
              "  </tbody>\n",
              "</table>\n",
              "</div>\n",
              "      <button class=\"colab-df-convert\" onclick=\"convertToInteractive('df-fd95a601-e2c3-4eed-8e0c-9c939c1bdd62')\"\n",
              "              title=\"Convert this dataframe to an interactive table.\"\n",
              "              style=\"display:none;\">\n",
              "        \n",
              "  <svg xmlns=\"http://www.w3.org/2000/svg\" height=\"24px\"viewBox=\"0 0 24 24\"\n",
              "       width=\"24px\">\n",
              "    <path d=\"M0 0h24v24H0V0z\" fill=\"none\"/>\n",
              "    <path d=\"M18.56 5.44l.94 2.06.94-2.06 2.06-.94-2.06-.94-.94-2.06-.94 2.06-2.06.94zm-11 1L8.5 8.5l.94-2.06 2.06-.94-2.06-.94L8.5 2.5l-.94 2.06-2.06.94zm10 10l.94 2.06.94-2.06 2.06-.94-2.06-.94-.94-2.06-.94 2.06-2.06.94z\"/><path d=\"M17.41 7.96l-1.37-1.37c-.4-.4-.92-.59-1.43-.59-.52 0-1.04.2-1.43.59L10.3 9.45l-7.72 7.72c-.78.78-.78 2.05 0 2.83L4 21.41c.39.39.9.59 1.41.59.51 0 1.02-.2 1.41-.59l7.78-7.78 2.81-2.81c.8-.78.8-2.07 0-2.86zM5.41 20L4 18.59l7.72-7.72 1.47 1.35L5.41 20z\"/>\n",
              "  </svg>\n",
              "      </button>\n",
              "      \n",
              "  <style>\n",
              "    .colab-df-container {\n",
              "      display:flex;\n",
              "      flex-wrap:wrap;\n",
              "      gap: 12px;\n",
              "    }\n",
              "\n",
              "    .colab-df-convert {\n",
              "      background-color: #E8F0FE;\n",
              "      border: none;\n",
              "      border-radius: 50%;\n",
              "      cursor: pointer;\n",
              "      display: none;\n",
              "      fill: #1967D2;\n",
              "      height: 32px;\n",
              "      padding: 0 0 0 0;\n",
              "      width: 32px;\n",
              "    }\n",
              "\n",
              "    .colab-df-convert:hover {\n",
              "      background-color: #E2EBFA;\n",
              "      box-shadow: 0px 1px 2px rgba(60, 64, 67, 0.3), 0px 1px 3px 1px rgba(60, 64, 67, 0.15);\n",
              "      fill: #174EA6;\n",
              "    }\n",
              "\n",
              "    [theme=dark] .colab-df-convert {\n",
              "      background-color: #3B4455;\n",
              "      fill: #D2E3FC;\n",
              "    }\n",
              "\n",
              "    [theme=dark] .colab-df-convert:hover {\n",
              "      background-color: #434B5C;\n",
              "      box-shadow: 0px 1px 3px 1px rgba(0, 0, 0, 0.15);\n",
              "      filter: drop-shadow(0px 1px 2px rgba(0, 0, 0, 0.3));\n",
              "      fill: #FFFFFF;\n",
              "    }\n",
              "  </style>\n",
              "\n",
              "      <script>\n",
              "        const buttonEl =\n",
              "          document.querySelector('#df-fd95a601-e2c3-4eed-8e0c-9c939c1bdd62 button.colab-df-convert');\n",
              "        buttonEl.style.display =\n",
              "          google.colab.kernel.accessAllowed ? 'block' : 'none';\n",
              "\n",
              "        async function convertToInteractive(key) {\n",
              "          const element = document.querySelector('#df-fd95a601-e2c3-4eed-8e0c-9c939c1bdd62');\n",
              "          const dataTable =\n",
              "            await google.colab.kernel.invokeFunction('convertToInteractive',\n",
              "                                                     [key], {});\n",
              "          if (!dataTable) return;\n",
              "\n",
              "          const docLinkHtml = 'Like what you see? Visit the ' +\n",
              "            '<a target=\"_blank\" href=https://colab.research.google.com/notebooks/data_table.ipynb>data table notebook</a>'\n",
              "            + ' to learn more about interactive tables.';\n",
              "          element.innerHTML = '';\n",
              "          dataTable['output_type'] = 'display_data';\n",
              "          await google.colab.output.renderOutput(dataTable, element);\n",
              "          const docLink = document.createElement('div');\n",
              "          docLink.innerHTML = docLinkHtml;\n",
              "          element.appendChild(docLink);\n",
              "        }\n",
              "      </script>\n",
              "    </div>\n",
              "  </div>\n",
              "  "
            ]
          },
          "metadata": {},
          "execution_count": 8
        }
      ],
      "source": [
        "sales.head()"
      ]
    },
    {
      "cell_type": "code",
      "execution_count": 9,
      "metadata": {
        "id": "Yh4hDAJVFBNd",
        "outputId": "b36150df-39c7-4d14-9958-ac258eaf1308",
        "colab": {
          "base_uri": "https://localhost:8080/"
        }
      },
      "outputs": [
        {
          "output_type": "execute_result",
          "data": {
            "text/plain": [
              "(31787, 18)"
            ]
          },
          "metadata": {},
          "execution_count": 9
        }
      ],
      "source": [
        "sales.shape"
      ]
    },
    {
      "cell_type": "code",
      "execution_count": 10,
      "metadata": {
        "id": "rUcY44ICFBNd",
        "outputId": "277084ef-9c35-45e4-fafb-72579f1ec82c",
        "colab": {
          "base_uri": "https://localhost:8080/"
        }
      },
      "outputs": [
        {
          "output_type": "stream",
          "name": "stdout",
          "text": [
            "<class 'pandas.core.frame.DataFrame'>\n",
            "RangeIndex: 31787 entries, 0 to 31786\n",
            "Data columns (total 18 columns):\n",
            " #   Column            Non-Null Count  Dtype         \n",
            "---  ------            --------------  -----         \n",
            " 0   Date              31787 non-null  datetime64[ns]\n",
            " 1   Day               31787 non-null  int64         \n",
            " 2   Month             31787 non-null  object        \n",
            " 3   Year              31787 non-null  int64         \n",
            " 4   Customer_Age      31787 non-null  int64         \n",
            " 5   Age_Group         31786 non-null  object        \n",
            " 6   Customer_Gender   31786 non-null  object        \n",
            " 7   Country           31786 non-null  object        \n",
            " 8   State             31786 non-null  object        \n",
            " 9   Product_Category  31786 non-null  object        \n",
            " 10  Sub_Category      31786 non-null  object        \n",
            " 11  Product           31786 non-null  object        \n",
            " 12  Order_Quantity    31786 non-null  float64       \n",
            " 13  Unit_Cost         31786 non-null  float64       \n",
            " 14  Unit_Price        31786 non-null  float64       \n",
            " 15  Profit            31786 non-null  float64       \n",
            " 16  Cost              31786 non-null  float64       \n",
            " 17  Revenue           31786 non-null  float64       \n",
            "dtypes: datetime64[ns](1), float64(6), int64(3), object(8)\n",
            "memory usage: 4.4+ MB\n"
          ]
        }
      ],
      "source": [
        "sales.info()"
      ]
    },
    {
      "cell_type": "code",
      "execution_count": 11,
      "metadata": {
        "id": "odad7DLEFBNe",
        "outputId": "832e8b19-77b0-4c1c-98a4-3f32df282d80",
        "colab": {
          "base_uri": "https://localhost:8080/",
          "height": 300
        }
      },
      "outputs": [
        {
          "output_type": "execute_result",
          "data": {
            "text/plain": [
              "                Day          Year  Customer_Age  Order_Quantity     Unit_Cost  \\\n",
              "count  31787.000000  31787.000000  31787.000000    31786.000000  31786.000000   \n",
              "mean      15.567842   2014.576210     36.117249       14.958944      6.634241   \n",
              "std        8.818836      1.115437     11.046930        8.718587      8.917699   \n",
              "min        1.000000   2013.000000     17.000000        1.000000      2.000000   \n",
              "25%        8.000000   2014.000000     28.000000        7.000000      2.000000   \n",
              "50%       15.000000   2014.000000     35.000000       15.000000      4.000000   \n",
              "75%       23.000000   2016.000000     43.000000       22.000000      8.000000   \n",
              "max       31.000000   2016.000000     87.000000       32.000000     59.000000   \n",
              "\n",
              "         Unit_Price        Profit          Cost       Revenue  \n",
              "count  31786.000000  31786.000000  31786.000000  31786.000000  \n",
              "mean      16.413641    104.453218     86.511515    190.964733  \n",
              "std       24.170548    143.155602     97.172296    234.889964  \n",
              "min        5.000000     -5.000000      2.000000      4.000000  \n",
              "25%        5.000000     24.000000     27.000000     59.000000  \n",
              "50%        9.000000     55.000000     54.000000    117.000000  \n",
              "75%       22.000000    123.000000    118.000000    221.000000  \n",
              "max      159.000000   2214.000000   1350.000000   3564.000000  "
            ],
            "text/html": [
              "\n",
              "  <div id=\"df-8be35ab1-aa97-431a-a6ec-c75ab48d1a3d\">\n",
              "    <div class=\"colab-df-container\">\n",
              "      <div>\n",
              "<style scoped>\n",
              "    .dataframe tbody tr th:only-of-type {\n",
              "        vertical-align: middle;\n",
              "    }\n",
              "\n",
              "    .dataframe tbody tr th {\n",
              "        vertical-align: top;\n",
              "    }\n",
              "\n",
              "    .dataframe thead th {\n",
              "        text-align: right;\n",
              "    }\n",
              "</style>\n",
              "<table border=\"1\" class=\"dataframe\">\n",
              "  <thead>\n",
              "    <tr style=\"text-align: right;\">\n",
              "      <th></th>\n",
              "      <th>Day</th>\n",
              "      <th>Year</th>\n",
              "      <th>Customer_Age</th>\n",
              "      <th>Order_Quantity</th>\n",
              "      <th>Unit_Cost</th>\n",
              "      <th>Unit_Price</th>\n",
              "      <th>Profit</th>\n",
              "      <th>Cost</th>\n",
              "      <th>Revenue</th>\n",
              "    </tr>\n",
              "  </thead>\n",
              "  <tbody>\n",
              "    <tr>\n",
              "      <th>count</th>\n",
              "      <td>31787.000000</td>\n",
              "      <td>31787.000000</td>\n",
              "      <td>31787.000000</td>\n",
              "      <td>31786.000000</td>\n",
              "      <td>31786.000000</td>\n",
              "      <td>31786.000000</td>\n",
              "      <td>31786.000000</td>\n",
              "      <td>31786.000000</td>\n",
              "      <td>31786.000000</td>\n",
              "    </tr>\n",
              "    <tr>\n",
              "      <th>mean</th>\n",
              "      <td>15.567842</td>\n",
              "      <td>2014.576210</td>\n",
              "      <td>36.117249</td>\n",
              "      <td>14.958944</td>\n",
              "      <td>6.634241</td>\n",
              "      <td>16.413641</td>\n",
              "      <td>104.453218</td>\n",
              "      <td>86.511515</td>\n",
              "      <td>190.964733</td>\n",
              "    </tr>\n",
              "    <tr>\n",
              "      <th>std</th>\n",
              "      <td>8.818836</td>\n",
              "      <td>1.115437</td>\n",
              "      <td>11.046930</td>\n",
              "      <td>8.718587</td>\n",
              "      <td>8.917699</td>\n",
              "      <td>24.170548</td>\n",
              "      <td>143.155602</td>\n",
              "      <td>97.172296</td>\n",
              "      <td>234.889964</td>\n",
              "    </tr>\n",
              "    <tr>\n",
              "      <th>min</th>\n",
              "      <td>1.000000</td>\n",
              "      <td>2013.000000</td>\n",
              "      <td>17.000000</td>\n",
              "      <td>1.000000</td>\n",
              "      <td>2.000000</td>\n",
              "      <td>5.000000</td>\n",
              "      <td>-5.000000</td>\n",
              "      <td>2.000000</td>\n",
              "      <td>4.000000</td>\n",
              "    </tr>\n",
              "    <tr>\n",
              "      <th>25%</th>\n",
              "      <td>8.000000</td>\n",
              "      <td>2014.000000</td>\n",
              "      <td>28.000000</td>\n",
              "      <td>7.000000</td>\n",
              "      <td>2.000000</td>\n",
              "      <td>5.000000</td>\n",
              "      <td>24.000000</td>\n",
              "      <td>27.000000</td>\n",
              "      <td>59.000000</td>\n",
              "    </tr>\n",
              "    <tr>\n",
              "      <th>50%</th>\n",
              "      <td>15.000000</td>\n",
              "      <td>2014.000000</td>\n",
              "      <td>35.000000</td>\n",
              "      <td>15.000000</td>\n",
              "      <td>4.000000</td>\n",
              "      <td>9.000000</td>\n",
              "      <td>55.000000</td>\n",
              "      <td>54.000000</td>\n",
              "      <td>117.000000</td>\n",
              "    </tr>\n",
              "    <tr>\n",
              "      <th>75%</th>\n",
              "      <td>23.000000</td>\n",
              "      <td>2016.000000</td>\n",
              "      <td>43.000000</td>\n",
              "      <td>22.000000</td>\n",
              "      <td>8.000000</td>\n",
              "      <td>22.000000</td>\n",
              "      <td>123.000000</td>\n",
              "      <td>118.000000</td>\n",
              "      <td>221.000000</td>\n",
              "    </tr>\n",
              "    <tr>\n",
              "      <th>max</th>\n",
              "      <td>31.000000</td>\n",
              "      <td>2016.000000</td>\n",
              "      <td>87.000000</td>\n",
              "      <td>32.000000</td>\n",
              "      <td>59.000000</td>\n",
              "      <td>159.000000</td>\n",
              "      <td>2214.000000</td>\n",
              "      <td>1350.000000</td>\n",
              "      <td>3564.000000</td>\n",
              "    </tr>\n",
              "  </tbody>\n",
              "</table>\n",
              "</div>\n",
              "      <button class=\"colab-df-convert\" onclick=\"convertToInteractive('df-8be35ab1-aa97-431a-a6ec-c75ab48d1a3d')\"\n",
              "              title=\"Convert this dataframe to an interactive table.\"\n",
              "              style=\"display:none;\">\n",
              "        \n",
              "  <svg xmlns=\"http://www.w3.org/2000/svg\" height=\"24px\"viewBox=\"0 0 24 24\"\n",
              "       width=\"24px\">\n",
              "    <path d=\"M0 0h24v24H0V0z\" fill=\"none\"/>\n",
              "    <path d=\"M18.56 5.44l.94 2.06.94-2.06 2.06-.94-2.06-.94-.94-2.06-.94 2.06-2.06.94zm-11 1L8.5 8.5l.94-2.06 2.06-.94-2.06-.94L8.5 2.5l-.94 2.06-2.06.94zm10 10l.94 2.06.94-2.06 2.06-.94-2.06-.94-.94-2.06-.94 2.06-2.06.94z\"/><path d=\"M17.41 7.96l-1.37-1.37c-.4-.4-.92-.59-1.43-.59-.52 0-1.04.2-1.43.59L10.3 9.45l-7.72 7.72c-.78.78-.78 2.05 0 2.83L4 21.41c.39.39.9.59 1.41.59.51 0 1.02-.2 1.41-.59l7.78-7.78 2.81-2.81c.8-.78.8-2.07 0-2.86zM5.41 20L4 18.59l7.72-7.72 1.47 1.35L5.41 20z\"/>\n",
              "  </svg>\n",
              "      </button>\n",
              "      \n",
              "  <style>\n",
              "    .colab-df-container {\n",
              "      display:flex;\n",
              "      flex-wrap:wrap;\n",
              "      gap: 12px;\n",
              "    }\n",
              "\n",
              "    .colab-df-convert {\n",
              "      background-color: #E8F0FE;\n",
              "      border: none;\n",
              "      border-radius: 50%;\n",
              "      cursor: pointer;\n",
              "      display: none;\n",
              "      fill: #1967D2;\n",
              "      height: 32px;\n",
              "      padding: 0 0 0 0;\n",
              "      width: 32px;\n",
              "    }\n",
              "\n",
              "    .colab-df-convert:hover {\n",
              "      background-color: #E2EBFA;\n",
              "      box-shadow: 0px 1px 2px rgba(60, 64, 67, 0.3), 0px 1px 3px 1px rgba(60, 64, 67, 0.15);\n",
              "      fill: #174EA6;\n",
              "    }\n",
              "\n",
              "    [theme=dark] .colab-df-convert {\n",
              "      background-color: #3B4455;\n",
              "      fill: #D2E3FC;\n",
              "    }\n",
              "\n",
              "    [theme=dark] .colab-df-convert:hover {\n",
              "      background-color: #434B5C;\n",
              "      box-shadow: 0px 1px 3px 1px rgba(0, 0, 0, 0.15);\n",
              "      filter: drop-shadow(0px 1px 2px rgba(0, 0, 0, 0.3));\n",
              "      fill: #FFFFFF;\n",
              "    }\n",
              "  </style>\n",
              "\n",
              "      <script>\n",
              "        const buttonEl =\n",
              "          document.querySelector('#df-8be35ab1-aa97-431a-a6ec-c75ab48d1a3d button.colab-df-convert');\n",
              "        buttonEl.style.display =\n",
              "          google.colab.kernel.accessAllowed ? 'block' : 'none';\n",
              "\n",
              "        async function convertToInteractive(key) {\n",
              "          const element = document.querySelector('#df-8be35ab1-aa97-431a-a6ec-c75ab48d1a3d');\n",
              "          const dataTable =\n",
              "            await google.colab.kernel.invokeFunction('convertToInteractive',\n",
              "                                                     [key], {});\n",
              "          if (!dataTable) return;\n",
              "\n",
              "          const docLinkHtml = 'Like what you see? Visit the ' +\n",
              "            '<a target=\"_blank\" href=https://colab.research.google.com/notebooks/data_table.ipynb>data table notebook</a>'\n",
              "            + ' to learn more about interactive tables.';\n",
              "          element.innerHTML = '';\n",
              "          dataTable['output_type'] = 'display_data';\n",
              "          await google.colab.output.renderOutput(dataTable, element);\n",
              "          const docLink = document.createElement('div');\n",
              "          docLink.innerHTML = docLinkHtml;\n",
              "          element.appendChild(docLink);\n",
              "        }\n",
              "      </script>\n",
              "    </div>\n",
              "  </div>\n",
              "  "
            ]
          },
          "metadata": {},
          "execution_count": 11
        }
      ],
      "source": [
        "sales.describe()"
      ]
    },
    {
      "cell_type": "markdown",
      "metadata": {
        "id": "El0bbxjbFBNe"
      },
      "source": [
        "![green-divider](https://user-images.githubusercontent.com/7065401/52071924-c003ad80-2562-11e9-8297-1c6595f8a7ff.png)\n",
        "\n",
        "## Numerical analysis and visualization\n",
        "\n",
        "We'll analyze the `Unit_Cost` column:"
      ]
    },
    {
      "cell_type": "code",
      "execution_count": 12,
      "metadata": {
        "id": "DNRJVwBgFBNe",
        "outputId": "ae6f4beb-3d54-4d7c-dabe-69391474477c",
        "colab": {
          "base_uri": "https://localhost:8080/"
        }
      },
      "outputs": [
        {
          "output_type": "execute_result",
          "data": {
            "text/plain": [
              "count    31786.000000\n",
              "mean         6.634241\n",
              "std          8.917699\n",
              "min          2.000000\n",
              "25%          2.000000\n",
              "50%          4.000000\n",
              "75%          8.000000\n",
              "max         59.000000\n",
              "Name: Unit_Cost, dtype: float64"
            ]
          },
          "metadata": {},
          "execution_count": 12
        }
      ],
      "source": [
        "sales['Unit_Cost'].describe()"
      ]
    },
    {
      "cell_type": "code",
      "execution_count": 13,
      "metadata": {
        "id": "07YlAlvzFBNe",
        "outputId": "9e63667a-6cff-43dc-de7e-55f63a53628d",
        "colab": {
          "base_uri": "https://localhost:8080/"
        }
      },
      "outputs": [
        {
          "output_type": "execute_result",
          "data": {
            "text/plain": [
              "6.634241489964135"
            ]
          },
          "metadata": {},
          "execution_count": 13
        }
      ],
      "source": [
        "sales['Unit_Cost'].mean()"
      ]
    },
    {
      "cell_type": "code",
      "execution_count": 14,
      "metadata": {
        "id": "rKCWnVSrFBNf",
        "outputId": "24782edc-53ba-4bfa-d2b7-a574adcdee25",
        "colab": {
          "base_uri": "https://localhost:8080/"
        }
      },
      "outputs": [
        {
          "output_type": "execute_result",
          "data": {
            "text/plain": [
              "4.0"
            ]
          },
          "metadata": {},
          "execution_count": 14
        }
      ],
      "source": [
        "sales['Unit_Cost'].median()"
      ]
    },
    {
      "cell_type": "code",
      "execution_count": 15,
      "metadata": {
        "id": "R9C1NnU9FBNf",
        "outputId": "3b19bdf4-b961-4bd6-81d4-0d89606a02e8",
        "colab": {
          "base_uri": "https://localhost:8080/",
          "height": 391
        }
      },
      "outputs": [
        {
          "output_type": "execute_result",
          "data": {
            "text/plain": [
              "<matplotlib.axes._subplots.AxesSubplot at 0x7fb24a4621d0>"
            ]
          },
          "metadata": {},
          "execution_count": 15
        },
        {
          "output_type": "display_data",
          "data": {
            "text/plain": [
              "<Figure size 1008x432 with 1 Axes>"
            ],
            "image/png": "[encoded data removed]"
          },
          "metadata": {
            "needs_background": "light"
          }
        }
      ],
      "source": [
        "sales['Unit_Cost'].plot(kind='box', vert=False, figsize=(14,6))"
      ]
    },
    {
      "cell_type": "code",
      "execution_count": 16,
      "metadata": {
        "id": "Jr28v1CtFBNi",
        "outputId": "46a3d33e-b3c4-4e20-8267-7b03f5a52937",
        "colab": {
          "base_uri": "https://localhost:8080/",
          "height": 391
        }
      },
      "outputs": [
        {
          "output_type": "execute_result",
          "data": {
            "text/plain": [
              "<matplotlib.axes._subplots.AxesSubplot at 0x7fb24a3a2850>"
            ]
          },
          "metadata": {},
          "execution_count": 16
        },
        {
          "output_type": "display_data",
          "data": {
            "text/plain": [
              "<Figure size 1008x432 with 1 Axes>"
            ],
            "image/png": "[encoded data removed]"
          },
          "metadata": {
            "needs_background": "light"
          }
        }
      ],
      "source": [
        "sales['Unit_Cost'].plot(kind='density', figsize=(14,6)) # kde"
      ]
    },
    {
      "cell_type": "code",
      "execution_count": 17,
      "metadata": {
        "id": "putACof1FBNi",
        "outputId": "fd180a49-f0cc-4017-ae7b-586fb12c4154",
        "colab": {
          "base_uri": "https://localhost:8080/",
          "height": 391
        }
      },
      "outputs": [
        {
          "output_type": "execute_result",
          "data": {
            "text/plain": [
              "<matplotlib.lines.Line2D at 0x7fb23bcee290>"
            ]
          },
          "metadata": {},
          "execution_count": 17
        },
        {
          "output_type": "display_data",
          "data": {
            "text/plain": [
              "<Figure size 1008x432 with 1 Axes>"
            ],
            "image/png": "[encoded data removed]"
          },
          "metadata": {
            "needs_background": "light"
          }
        }
      ],
      "source": [
        "ax = sales['Unit_Cost'].plot(kind='density', figsize=(14,6)) # kde\n",
        "ax.axvline(sales['Unit_Cost'].mean(), color='red')\n",
        "ax.axvline(sales['Unit_Cost'].median(), color='green')"
      ]
    },
    {
      "cell_type": "code",
      "execution_count": 18,
      "metadata": {
        "id": "O3p455hLFBNj",
        "outputId": "828391a5-8137-4853-9109-ecc38cf3ae22",
        "colab": {
          "base_uri": "https://localhost:8080/",
          "height": 405
        }
      },
      "outputs": [
        {
          "output_type": "execute_result",
          "data": {
            "text/plain": [
              "Text(0.5, 0, 'dollars')"
            ]
          },
          "metadata": {},
          "execution_count": 18
        },
        {
          "output_type": "display_data",
          "data": {
            "text/plain": [
              "<Figure size 1008x432 with 1 Axes>"
            ],
            "image/png": "[encoded data removed]"
          },
          "metadata": {
            "needs_background": "light"
          }
        }
      ],
      "source": [
        "ax = sales['Unit_Cost'].plot(kind='hist', figsize=(14,6))\n",
        "ax.set_ylabel('Number of Sales')\n",
        "ax.set_xlabel('dollars')"
      ]
    },
    {
      "cell_type": "markdown",
      "metadata": {
        "id": "x9VlbMPiFBNj"
      },
      "source": [
        "![green-divider](https://user-images.githubusercontent.com/7065401/52071924-c003ad80-2562-11e9-8297-1c6595f8a7ff.png)\n",
        "\n",
        "## Categorical analysis and visualization\n",
        "\n",
        "We'll analyze the `Age_Group` column:"
      ]
    },
    {
      "cell_type": "code",
      "execution_count": 19,
      "metadata": {
        "id": "FhRRQMbtFBNj",
        "outputId": "7e016651-ab33-4375-f5cd-9d00cde66886",
        "colab": {
          "base_uri": "https://localhost:8080/",
          "height": 444
        }
      },
      "outputs": [
        {
          "output_type": "execute_result",
          "data": {
            "text/plain": [
              "        Date  Day     Month  Year  Customer_Age       Age_Group  \\\n",
              "0 2013-11-26   26  November  2013            19     Youth (<25)   \n",
              "1 2015-11-26   26  November  2015            19     Youth (<25)   \n",
              "2 2014-03-23   23     March  2014            49  Adults (35-64)   \n",
              "3 2016-03-23   23     March  2016            49  Adults (35-64)   \n",
              "4 2014-05-15   15       May  2014            47  Adults (35-64)   \n",
              "\n",
              "  Customer_Gender    Country             State Product_Category Sub_Category  \\\n",
              "0               M     Canada  British Columbia      Accessories   Bike Racks   \n",
              "1               M     Canada  British Columbia      Accessories   Bike Racks   \n",
              "2               M  Australia   New South Wales      Accessories   Bike Racks   \n",
              "3               M  Australia   New South Wales      Accessories   Bike Racks   \n",
              "4               F  Australia   New South Wales      Accessories   Bike Racks   \n",
              "\n",
              "               Product  Order_Quantity  Unit_Cost  Unit_Price  Profit    Cost  \\\n",
              "0  Hitch Rack - 4-Bike             8.0       45.0       120.0   590.0   360.0   \n",
              "1  Hitch Rack - 4-Bike             8.0       45.0       120.0   590.0   360.0   \n",
              "2  Hitch Rack - 4-Bike            23.0       45.0       120.0  1366.0  1035.0   \n",
              "3  Hitch Rack - 4-Bike            20.0       45.0       120.0  1188.0   900.0   \n",
              "4  Hitch Rack - 4-Bike             4.0       45.0       120.0   238.0   180.0   \n",
              "\n",
              "   Revenue  \n",
              "0    950.0  \n",
              "1    950.0  \n",
              "2   2401.0  \n",
              "3   2088.0  \n",
              "4    418.0  "
            ],
            "text/html": [
              "\n",
              "  <div id=\"df-09474af6-c031-4ebe-9895-8f14247f32ec\">\n",
              "    <div class=\"colab-df-container\">\n",
              "      <div>\n",
              "<style scoped>\n",
              "    .dataframe tbody tr th:only-of-type {\n",
              "        vertical-align: middle;\n",
              "    }\n",
              "\n",
              "    .dataframe tbody tr th {\n",
              "        vertical-align: top;\n",
              "    }\n",
              "\n",
              "    .dataframe thead th {\n",
              "        text-align: right;\n",
              "    }\n",
              "</style>\n",
              "<table border=\"1\" class=\"dataframe\">\n",
              "  <thead>\n",
              "    <tr style=\"text-align: right;\">\n",
              "      <th></th>\n",
              "      <th>Date</th>\n",
              "      <th>Day</th>\n",
              "      <th>Month</th>\n",
              "      <th>Year</th>\n",
              "      <th>Customer_Age</th>\n",
              "      <th>Age_Group</th>\n",
              "      <th>Customer_Gender</th>\n",
              "      <th>Country</th>\n",
              "      <th>State</th>\n",
              "      <th>Product_Category</th>\n",
              "      <th>Sub_Category</th>\n",
              "      <th>Product</th>\n",
              "      <th>Order_Quantity</th>\n",
              "      <th>Unit_Cost</th>\n",
              "      <th>Unit_Price</th>\n",
              "      <th>Profit</th>\n",
              "      <th>Cost</th>\n",
              "      <th>Revenue</th>\n",
              "    </tr>\n",
              "  </thead>\n",
              "  <tbody>\n",
              "    <tr>\n",
              "      <th>0</th>\n",
              "      <td>2013-11-26</td>\n",
              "      <td>26</td>\n",
              "      <td>November</td>\n",
              "      <td>2013</td>\n",
              "      <td>19</td>\n",
              "      <td>Youth (&lt;25)</td>\n",
              "      <td>M</td>\n",
              "      <td>Canada</td>\n",
              "      <td>British Columbia</td>\n",
              "      <td>Accessories</td>\n",
              "      <td>Bike Racks</td>\n",
              "      <td>Hitch Rack - 4-Bike</td>\n",
              "      <td>8.0</td>\n",
              "      <td>45.0</td>\n",
              "      <td>120.0</td>\n",
              "      <td>590.0</td>\n",
              "      <td>360.0</td>\n",
              "      <td>950.0</td>\n",
              "    </tr>\n",
              "    <tr>\n",
              "      <th>1</th>\n",
              "      <td>2015-11-26</td>\n",
              "      <td>26</td>\n",
              "      <td>November</td>\n",
              "      <td>2015</td>\n",
              "      <td>19</td>\n",
              "      <td>Youth (&lt;25)</td>\n",
              "      <td>M</td>\n",
              "      <td>Canada</td>\n",
              "      <td>British Columbia</td>\n",
              "      <td>Accessories</td>\n",
              "      <td>Bike Racks</td>\n",
              "      <td>Hitch Rack - 4-Bike</td>\n",
              "      <td>8.0</td>\n",
              "      <td>45.0</td>\n",
              "      <td>120.0</td>\n",
              "      <td>590.0</td>\n",
              "      <td>360.0</td>\n",
              "      <td>950.0</td>\n",
              "    </tr>\n",
              "    <tr>\n",
              "      <th>2</th>\n",
              "      <td>2014-03-23</td>\n",
              "      <td>23</td>\n",
              "      <td>March</td>\n",
              "      <td>2014</td>\n",
              "      <td>49</td>\n",
              "      <td>Adults (35-64)</td>\n",
              "      <td>M</td>\n",
              "      <td>Australia</td>\n",
              "      <td>New South Wales</td>\n",
              "      <td>Accessories</td>\n",
              "      <td>Bike Racks</td>\n",
              "      <td>Hitch Rack - 4-Bike</td>\n",
              "      <td>23.0</td>\n",
              "      <td>45.0</td>\n",
              "      <td>120.0</td>\n",
              "      <td>1366.0</td>\n",
              "      <td>1035.0</td>\n",
              "      <td>2401.0</td>\n",
              "    </tr>\n",
              "    <tr>\n",
              "      <th>3</th>\n",
              "      <td>2016-03-23</td>\n",
              "      <td>23</td>\n",
              "      <td>March</td>\n",
              "      <td>2016</td>\n",
              "      <td>49</td>\n",
              "      <td>Adults (35-64)</td>\n",
              "      <td>M</td>\n",
              "      <td>Australia</td>\n",
              "      <td>New South Wales</td>\n",
              "      <td>Accessories</td>\n",
              "      <td>Bike Racks</td>\n",
              "      <td>Hitch Rack - 4-Bike</td>\n",
              "      <td>20.0</td>\n",
              "      <td>45.0</td>\n",
              "      <td>120.0</td>\n",
              "      <td>1188.0</td>\n",
              "      <td>900.0</td>\n",
              "      <td>2088.0</td>\n",
              "    </tr>\n",
              "    <tr>\n",
              "      <th>4</th>\n",
              "      <td>2014-05-15</td>\n",
              "      <td>15</td>\n",
              "      <td>May</td>\n",
              "      <td>2014</td>\n",
              "      <td>47</td>\n",
              "      <td>Adults (35-64)</td>\n",
              "      <td>F</td>\n",
              "      <td>Australia</td>\n",
              "      <td>New South Wales</td>\n",
              "      <td>Accessories</td>\n",
              "      <td>Bike Racks</td>\n",
              "      <td>Hitch Rack - 4-Bike</td>\n",
              "      <td>4.0</td>\n",
              "      <td>45.0</td>\n",
              "      <td>120.0</td>\n",
              "      <td>238.0</td>\n",
              "      <td>180.0</td>\n",
              "      <td>418.0</td>\n",
              "    </tr>\n",
              "  </tbody>\n",
              "</table>\n",
              "</div>\n",
              "      <button class=\"colab-df-convert\" onclick=\"convertToInteractive('df-09474af6-c031-4ebe-9895-8f14247f32ec')\"\n",
              "              title=\"Convert this dataframe to an interactive table.\"\n",
              "              style=\"display:none;\">\n",
              "        \n",
              "  <svg xmlns=\"http://www.w3.org/2000/svg\" height=\"24px\"viewBox=\"0 0 24 24\"\n",
              "       width=\"24px\">\n",
              "    <path d=\"M0 0h24v24H0V0z\" fill=\"none\"/>\n",
              "    <path d=\"M18.56 5.44l.94 2.06.94-2.06 2.06-.94-2.06-.94-.94-2.06-.94 2.06-2.06.94zm-11 1L8.5 8.5l.94-2.06 2.06-.94-2.06-.94L8.5 2.5l-.94 2.06-2.06.94zm10 10l.94 2.06.94-2.06 2.06-.94-2.06-.94-.94-2.06-.94 2.06-2.06.94z\"/><path d=\"M17.41 7.96l-1.37-1.37c-.4-.4-.92-.59-1.43-.59-.52 0-1.04.2-1.43.59L10.3 9.45l-7.72 7.72c-.78.78-.78 2.05 0 2.83L4 21.41c.39.39.9.59 1.41.59.51 0 1.02-.2 1.41-.59l7.78-7.78 2.81-2.81c.8-.78.8-2.07 0-2.86zM5.41 20L4 18.59l7.72-7.72 1.47 1.35L5.41 20z\"/>\n",
              "  </svg>\n",
              "      </button>\n",
              "      \n",
              "  <style>\n",
              "    .colab-df-container {\n",
              "      display:flex;\n",
              "      flex-wrap:wrap;\n",
              "      gap: 12px;\n",
              "    }\n",
              "\n",
              "    .colab-df-convert {\n",
              "      background-color: #E8F0FE;\n",
              "      border: none;\n",
              "      border-radius: 50%;\n",
              "      cursor: pointer;\n",
              "      display: none;\n",
              "      fill: #1967D2;\n",
              "      height: 32px;\n",
              "      padding: 0 0 0 0;\n",
              "      width: 32px;\n",
              "    }\n",
              "\n",
              "    .colab-df-convert:hover {\n",
              "      background-color: #E2EBFA;\n",
              "      box-shadow: 0px 1px 2px rgba(60, 64, 67, 0.3), 0px 1px 3px 1px rgba(60, 64, 67, 0.15);\n",
              "      fill: #174EA6;\n",
              "    }\n",
              "\n",
              "    [theme=dark] .colab-df-convert {\n",
              "      background-color: #3B4455;\n",
              "      fill: #D2E3FC;\n",
              "    }\n",
              "\n",
              "    [theme=dark] .colab-df-convert:hover {\n",
              "      background-color: #434B5C;\n",
              "      box-shadow: 0px 1px 3px 1px rgba(0, 0, 0, 0.15);\n",
              "      filter: drop-shadow(0px 1px 2px rgba(0, 0, 0, 0.3));\n",
              "      fill: #FFFFFF;\n",
              "    }\n",
              "  </style>\n",
              "\n",
              "      <script>\n",
              "        const buttonEl =\n",
              "          document.querySelector('#df-09474af6-c031-4ebe-9895-8f14247f32ec button.colab-df-convert');\n",
              "        buttonEl.style.display =\n",
              "          google.colab.kernel.accessAllowed ? 'block' : 'none';\n",
              "\n",
              "        async function convertToInteractive(key) {\n",
              "          const element = document.querySelector('#df-09474af6-c031-4ebe-9895-8f14247f32ec');\n",
              "          const dataTable =\n",
              "            await google.colab.kernel.invokeFunction('convertToInteractive',\n",
              "                                                     [key], {});\n",
              "          if (!dataTable) return;\n",
              "\n",
              "          const docLinkHtml = 'Like what you see? Visit the ' +\n",
              "            '<a target=\"_blank\" href=https://colab.research.google.com/notebooks/data_table.ipynb>data table notebook</a>'\n",
              "            + ' to learn more about interactive tables.';\n",
              "          element.innerHTML = '';\n",
              "          dataTable['output_type'] = 'display_data';\n",
              "          await google.colab.output.renderOutput(dataTable, element);\n",
              "          const docLink = document.createElement('div');\n",
              "          docLink.innerHTML = docLinkHtml;\n",
              "          element.appendChild(docLink);\n",
              "        }\n",
              "      </script>\n",
              "    </div>\n",
              "  </div>\n",
              "  "
            ]
          },
          "metadata": {},
          "execution_count": 19
        }
      ],
      "source": [
        "sales.head()"
      ]
    },
    {
      "cell_type": "code",
      "execution_count": 20,
      "metadata": {
        "id": "SlytmzCeFBNj",
        "outputId": "78378e60-3e13-4ba2-be22-dc8d18e46331",
        "colab": {
          "base_uri": "https://localhost:8080/"
        }
      },
      "outputs": [
        {
          "output_type": "execute_result",
          "data": {
            "text/plain": [
              "Adults (35-64)          16024\n",
              "Young Adults (25-34)    10660\n",
              "Youth (<25)              4906\n",
              "Seniors (64+)             196\n",
              "Name: Age_Group, dtype: int64"
            ]
          },
          "metadata": {},
          "execution_count": 20
        }
      ],
      "source": [
        "sales['Age_Group'].value_counts()"
      ]
    },
    {
      "cell_type": "code",
      "execution_count": 21,
      "metadata": {
        "id": "tO0-berlFBNk",
        "outputId": "29eee3da-98b5-4d03-f516-cce195e33869",
        "colab": {
          "base_uri": "https://localhost:8080/",
          "height": 374
        }
      },
      "outputs": [
        {
          "output_type": "execute_result",
          "data": {
            "text/plain": [
              "<matplotlib.axes._subplots.AxesSubplot at 0x7fb23bb82910>"
            ]
          },
          "metadata": {},
          "execution_count": 21
        },
        {
          "output_type": "display_data",
          "data": {
            "text/plain": [
              "<Figure size 432x432 with 1 Axes>"
            ],
            "image/png": "[encoded data removed]"
          },
          "metadata": {}
        }
      ],
      "source": [
        "sales['Age_Group'].value_counts().plot(kind='pie', figsize=(6,6))"
      ]
    },
    {
      "cell_type": "code",
      "execution_count": 22,
      "metadata": {
        "id": "6lkOX7t3FBNk",
        "outputId": "0e5f4511-b148-402e-89de-4d466758592f",
        "colab": {
          "base_uri": "https://localhost:8080/",
          "height": 485
        }
      },
      "outputs": [
        {
          "output_type": "execute_result",
          "data": {
            "text/plain": [
              "Text(0, 0.5, 'Number of Sales')"
            ]
          },
          "metadata": {},
          "execution_count": 22
        },
        {
          "output_type": "display_data",
          "data": {
            "text/plain": [
              "<Figure size 1008x432 with 1 Axes>"
            ],
            "image/png": "[encoded data removed]"
          },
          "metadata": {
            "needs_background": "light"
          }
        }
      ],
      "source": [
        "ax = sales['Age_Group'].value_counts().plot(kind='bar', figsize=(14,6))\n",
        "ax.set_ylabel('Number of Sales')"
      ]
    },
    {
      "cell_type": "markdown",
      "metadata": {
        "id": "3NPJSfJkFBNk"
      },
      "source": [
        "![green-divider](https://user-images.githubusercontent.com/7065401/52071924-c003ad80-2562-11e9-8297-1c6595f8a7ff.png)\n",
        "\n",
        "## Relationship between the columns?\n",
        "\n",
        "Can we find any significant relationship?"
      ]
    },
    {
      "cell_type": "code",
      "execution_count": 23,
      "metadata": {
        "id": "efoS5BbMFBNk",
        "outputId": "bc06f2e6-c11c-4bbb-8217-88a2c812329a",
        "colab": {
          "base_uri": "https://localhost:8080/",
          "height": 332
        }
      },
      "outputs": [
        {
          "output_type": "execute_result",
          "data": {
            "text/plain": [
              "                     Day      Year  Customer_Age  Order_Quantity  Unit_Cost  \\\n",
              "Day             1.000000 -0.002151     -0.018286       -0.005848   0.012750   \n",
              "Year           -0.002151  1.000000      0.019906       -0.027991  -0.014624   \n",
              "Customer_Age   -0.018286  0.019906      1.000000        0.001483   0.024681   \n",
              "Order_Quantity -0.005848 -0.027991      0.001483        1.000000  -0.163732   \n",
              "Unit_Cost       0.012750 -0.014624      0.024681       -0.163732   1.000000   \n",
              "Unit_Price      0.012456 -0.015466      0.027963       -0.165186   0.990183   \n",
              "Profit          0.007728 -0.025775      0.047002        0.315624   0.601350   \n",
              "Cost            0.007333 -0.028147      0.033729        0.407931   0.621619   \n",
              "Revenue         0.007743 -0.027353      0.042599        0.361118   0.623657   \n",
              "\n",
              "                Unit_Price    Profit      Cost   Revenue  \n",
              "Day               0.012456  0.007728  0.007333  0.007743  \n",
              "Year             -0.015466 -0.025775 -0.028147 -0.027353  \n",
              "Customer_Age      0.027963  0.047002  0.033729  0.042599  \n",
              "Order_Quantity   -0.165186  0.315624  0.407931  0.361118  \n",
              "Unit_Cost         0.990183  0.601350  0.621619  0.623657  \n",
              "Unit_Price        1.000000  0.632052  0.605766  0.635810  \n",
              "Profit            0.632052  1.000000  0.907115  0.984725  \n",
              "Cost              0.605766  0.907115  1.000000  0.966541  \n",
              "Revenue           0.635810  0.984725  0.966541  1.000000  "
            ],
            "text/html": [
              "\n",
              "  <div id=\"df-412190d2-c6ad-4336-93dd-410a77de7a94\">\n",
              "    <div class=\"colab-df-container\">\n",
              "      <div>\n",
              "<style scoped>\n",
              "    .dataframe tbody tr th:only-of-type {\n",
              "        vertical-align: middle;\n",
              "    }\n",
              "\n",
              "    .dataframe tbody tr th {\n",
              "        vertical-align: top;\n",
              "    }\n",
              "\n",
              "    .dataframe thead th {\n",
              "        text-align: right;\n",
              "    }\n",
              "</style>\n",
              "<table border=\"1\" class=\"dataframe\">\n",
              "  <thead>\n",
              "    <tr style=\"text-align: right;\">\n",
              "      <th></th>\n",
              "      <th>Day</th>\n",
              "      <th>Year</th>\n",
              "      <th>Customer_Age</th>\n",
              "      <th>Order_Quantity</th>\n",
              "      <th>Unit_Cost</th>\n",
              "      <th>Unit_Price</th>\n",
              "      <th>Profit</th>\n",
              "      <th>Cost</th>\n",
              "      <th>Revenue</th>\n",
              "    </tr>\n",
              "  </thead>\n",
              "  <tbody>\n",
              "    <tr>\n",
              "      <th>Day</th>\n",
              "      <td>1.000000</td>\n",
              "      <td>-0.002151</td>\n",
              "      <td>-0.018286</td>\n",
              "      <td>-0.005848</td>\n",
              "      <td>0.012750</td>\n",
              "      <td>0.012456</td>\n",
              "      <td>0.007728</td>\n",
              "      <td>0.007333</td>\n",
              "      <td>0.007743</td>\n",
              "    </tr>\n",
              "    <tr>\n",
              "      <th>Year</th>\n",
              "      <td>-0.002151</td>\n",
              "      <td>1.000000</td>\n",
              "      <td>0.019906</td>\n",
              "      <td>-0.027991</td>\n",
              "      <td>-0.014624</td>\n",
              "      <td>-0.015466</td>\n",
              "      <td>-0.025775</td>\n",
              "      <td>-0.028147</td>\n",
              "      <td>-0.027353</td>\n",
              "    </tr>\n",
              "    <tr>\n",
              "      <th>Customer_Age</th>\n",
              "      <td>-0.018286</td>\n",
              "      <td>0.019906</td>\n",
              "      <td>1.000000</td>\n",
              "      <td>0.001483</td>\n",
              "      <td>0.024681</td>\n",
              "      <td>0.027963</td>\n",
              "      <td>0.047002</td>\n",
              "      <td>0.033729</td>\n",
              "      <td>0.042599</td>\n",
              "    </tr>\n",
              "    <tr>\n",
              "      <th>Order_Quantity</th>\n",
              "      <td>-0.005848</td>\n",
              "      <td>-0.027991</td>\n",
              "      <td>0.001483</td>\n",
              "      <td>1.000000</td>\n",
              "      <td>-0.163732</td>\n",
              "      <td>-0.165186</td>\n",
              "      <td>0.315624</td>\n",
              "      <td>0.407931</td>\n",
              "      <td>0.361118</td>\n",
              "    </tr>\n",
              "    <tr>\n",
              "      <th>Unit_Cost</th>\n",
              "      <td>0.012750</td>\n",
              "      <td>-0.014624</td>\n",
              "      <td>0.024681</td>\n",
              "      <td>-0.163732</td>\n",
              "      <td>1.000000</td>\n",
              "      <td>0.990183</td>\n",
              "      <td>0.601350</td>\n",
              "      <td>0.621619</td>\n",
              "      <td>0.623657</td>\n",
              "    </tr>\n",
              "    <tr>\n",
              "      <th>Unit_Price</th>\n",
              "      <td>0.012456</td>\n",
              "      <td>-0.015466</td>\n",
              "      <td>0.027963</td>\n",
              "      <td>-0.165186</td>\n",
              "      <td>0.990183</td>\n",
              "      <td>1.000000</td>\n",
              "      <td>0.632052</td>\n",
              "      <td>0.605766</td>\n",
              "      <td>0.635810</td>\n",
              "    </tr>\n",
              "    <tr>\n",
              "      <th>Profit</th>\n",
              "      <td>0.007728</td>\n",
              "      <td>-0.025775</td>\n",
              "      <td>0.047002</td>\n",
              "      <td>0.315624</td>\n",
              "      <td>0.601350</td>\n",
              "      <td>0.632052</td>\n",
              "      <td>1.000000</td>\n",
              "      <td>0.907115</td>\n",
              "      <td>0.984725</td>\n",
              "    </tr>\n",
              "    <tr>\n",
              "      <th>Cost</th>\n",
              "      <td>0.007333</td>\n",
              "      <td>-0.028147</td>\n",
              "      <td>0.033729</td>\n",
              "      <td>0.407931</td>\n",
              "      <td>0.621619</td>\n",
              "      <td>0.605766</td>\n",
              "      <td>0.907115</td>\n",
              "      <td>1.000000</td>\n",
              "      <td>0.966541</td>\n",
              "    </tr>\n",
              "    <tr>\n",
              "      <th>Revenue</th>\n",
              "      <td>0.007743</td>\n",
              "      <td>-0.027353</td>\n",
              "      <td>0.042599</td>\n",
              "      <td>0.361118</td>\n",
              "      <td>0.623657</td>\n",
              "      <td>0.635810</td>\n",
              "      <td>0.984725</td>\n",
              "      <td>0.966541</td>\n",
              "      <td>1.000000</td>\n",
              "    </tr>\n",
              "  </tbody>\n",
              "</table>\n",
              "</div>\n",
              "      <button class=\"colab-df-convert\" onclick=\"convertToInteractive('df-412190d2-c6ad-4336-93dd-410a77de7a94')\"\n",
              "              title=\"Convert this dataframe to an interactive table.\"\n",
              "              style=\"display:none;\">\n",
              "        \n",
              "  <svg xmlns=\"http://www.w3.org/2000/svg\" height=\"24px\"viewBox=\"0 0 24 24\"\n",
              "       width=\"24px\">\n",
              "    <path d=\"M0 0h24v24H0V0z\" fill=\"none\"/>\n",
              "    <path d=\"M18.56 5.44l.94 2.06.94-2.06 2.06-.94-2.06-.94-.94-2.06-.94 2.06-2.06.94zm-11 1L8.5 8.5l.94-2.06 2.06-.94-2.06-.94L8.5 2.5l-.94 2.06-2.06.94zm10 10l.94 2.06.94-2.06 2.06-.94-2.06-.94-.94-2.06-.94 2.06-2.06.94z\"/><path d=\"M17.41 7.96l-1.37-1.37c-.4-.4-.92-.59-1.43-.59-.52 0-1.04.2-1.43.59L10.3 9.45l-7.72 7.72c-.78.78-.78 2.05 0 2.83L4 21.41c.39.39.9.59 1.41.59.51 0 1.02-.2 1.41-.59l7.78-7.78 2.81-2.81c.8-.78.8-2.07 0-2.86zM5.41 20L4 18.59l7.72-7.72 1.47 1.35L5.41 20z\"/>\n",
              "  </svg>\n",
              "      </button>\n",
              "      \n",
              "  <style>\n",
              "    .colab-df-container {\n",
              "      display:flex;\n",
              "      flex-wrap:wrap;\n",
              "      gap: 12px;\n",
              "    }\n",
              "\n",
              "    .colab-df-convert {\n",
              "      background-color: #E8F0FE;\n",
              "      border: none;\n",
              "      border-radius: 50%;\n",
              "      cursor: pointer;\n",
              "      display: none;\n",
              "      fill: #1967D2;\n",
              "      height: 32px;\n",
              "      padding: 0 0 0 0;\n",
              "      width: 32px;\n",
              "    }\n",
              "\n",
              "    .colab-df-convert:hover {\n",
              "      background-color: #E2EBFA;\n",
              "      box-shadow: 0px 1px 2px rgba(60, 64, 67, 0.3), 0px 1px 3px 1px rgba(60, 64, 67, 0.15);\n",
              "      fill: #174EA6;\n",
              "    }\n",
              "\n",
              "    [theme=dark] .colab-df-convert {\n",
              "      background-color: #3B4455;\n",
              "      fill: #D2E3FC;\n",
              "    }\n",
              "\n",
              "    [theme=dark] .colab-df-convert:hover {\n",
              "      background-color: #434B5C;\n",
              "      box-shadow: 0px 1px 3px 1px rgba(0, 0, 0, 0.15);\n",
              "      filter: drop-shadow(0px 1px 2px rgba(0, 0, 0, 0.3));\n",
              "      fill: #FFFFFF;\n",
              "    }\n",
              "  </style>\n",
              "\n",
              "      <script>\n",
              "        const buttonEl =\n",
              "          document.querySelector('#df-412190d2-c6ad-4336-93dd-410a77de7a94 button.colab-df-convert');\n",
              "        buttonEl.style.display =\n",
              "          google.colab.kernel.accessAllowed ? 'block' : 'none';\n",
              "\n",
              "        async function convertToInteractive(key) {\n",
              "          const element = document.querySelector('#df-412190d2-c6ad-4336-93dd-410a77de7a94');\n",
              "          const dataTable =\n",
              "            await google.colab.kernel.invokeFunction('convertToInteractive',\n",
              "                                                     [key], {});\n",
              "          if (!dataTable) return;\n",
              "\n",
              "          const docLinkHtml = 'Like what you see? Visit the ' +\n",
              "            '<a target=\"_blank\" href=https://colab.research.google.com/notebooks/data_table.ipynb>data table notebook</a>'\n",
              "            + ' to learn more about interactive tables.';\n",
              "          element.innerHTML = '';\n",
              "          dataTable['output_type'] = 'display_data';\n",
              "          await google.colab.output.renderOutput(dataTable, element);\n",
              "          const docLink = document.createElement('div');\n",
              "          docLink.innerHTML = docLinkHtml;\n",
              "          element.appendChild(docLink);\n",
              "        }\n",
              "      </script>\n",
              "    </div>\n",
              "  </div>\n",
              "  "
            ]
          },
          "metadata": {},
          "execution_count": 23
        }
      ],
      "source": [
        "corr = sales.corr()\n",
        "\n",
        "corr"
      ]
    },
    {
      "cell_type": "code",
      "execution_count": 24,
      "metadata": {
        "id": "lr6iB3bfFBNl",
        "outputId": "7735c7d0-6d7a-485d-904f-e9bc15f3f6fe",
        "colab": {
          "base_uri": "https://localhost:8080/",
          "height": 564
        }
      },
      "outputs": [
        {
          "output_type": "display_data",
          "data": {
            "text/plain": [
              "<Figure size 576x576 with 1 Axes>"
            ],
            "image/png": "[encoded data removed]"
          },
          "metadata": {
            "needs_background": "light"
          }
        }
      ],
      "source": [
        "fig = plt.figure(figsize=(8,8))\n",
        "plt.matshow(corr, cmap='RdBu', fignum=fig.number)\n",
        "plt.xticks(range(len(corr.columns)), corr.columns, rotation='vertical');\n",
        "plt.yticks(range(len(corr.columns)), corr.columns);"
      ]
    },
    {
      "cell_type": "code",
      "execution_count": 25,
      "metadata": {
        "id": "dAhu0clAFBNl",
        "outputId": "449fe2aa-2370-4f7c-b87d-87d5ac4ceba9",
        "colab": {
          "base_uri": "https://localhost:8080/",
          "height": 406
        }
      },
      "outputs": [
        {
          "output_type": "execute_result",
          "data": {
            "text/plain": [
              "<matplotlib.axes._subplots.AxesSubplot at 0x7fb24a560a10>"
            ]
          },
          "metadata": {},
          "execution_count": 25
        },
        {
          "output_type": "display_data",
          "data": {
            "text/plain": [
              "<Figure size 432x432 with 1 Axes>"
            ],
            "image/png": "[encoded data removed]"
          },
          "metadata": {
            "needs_background": "light"
          }
        }
      ],
      "source": [
        "sales.plot(kind='scatter', x='Customer_Age', y='Revenue', figsize=(6,6))"
      ]
    },
    {
      "cell_type": "code",
      "execution_count": 26,
      "metadata": {
        "id": "L3eniSdXFBNm",
        "outputId": "1155d737-269f-4cd8-c0e0-30dd9bed856f",
        "colab": {
          "base_uri": "https://localhost:8080/",
          "height": 405
        }
      },
      "outputs": [
        {
          "output_type": "execute_result",
          "data": {
            "text/plain": [
              "<matplotlib.axes._subplots.AxesSubplot at 0x7fb23b9e5110>"
            ]
          },
          "metadata": {},
          "execution_count": 26
        },
        {
          "output_type": "display_data",
          "data": {
            "text/plain": [
              "<Figure size 432x432 with 1 Axes>"
            ],
            "image/png": "[encoded data removed]"
          },
          "metadata": {
            "needs_background": "light"
          }
        }
      ],
      "source": [
        "sales.plot(kind='scatter', x='Revenue', y='Profit', figsize=(6,6))"
      ]
    },
    {
      "cell_type": "code",
      "execution_count": 27,
      "metadata": {
        "id": "d4XMZx7pFBNm",
        "outputId": "30358ebc-e632-4cd4-df7c-240a051d9143",
        "colab": {
          "base_uri": "https://localhost:8080/",
          "height": 493
        }
      },
      "outputs": [
        {
          "output_type": "stream",
          "name": "stderr",
          "text": [
            "/usr/local/lib/python3.7/dist-packages/matplotlib/cbook/__init__.py:1376: VisibleDeprecationWarning: Creating an ndarray from ragged nested sequences (which is a list-or-tuple of lists-or-tuples-or ndarrays with different lengths or shapes) is deprecated. If you meant to do this, you must specify 'dtype=object' when creating the ndarray.\n",
            "  X = np.atleast_1d(X.T if isinstance(X, np.ndarray) else np.asarray(X))\n"
          ]
        },
        {
          "output_type": "execute_result",
          "data": {
            "text/plain": [
              "Text(0, 0.5, 'Profit')"
            ]
          },
          "metadata": {},
          "execution_count": 27
        },
        {
          "output_type": "display_data",
          "data": {
            "text/plain": [
              "<Figure size 720x432 with 1 Axes>"
            ],
            "image/png": "[encoded data removed]"
          },
          "metadata": {
            "needs_background": "light"
          }
        }
      ],
      "source": [
        "ax = sales[['Profit', 'Age_Group']].boxplot(by='Age_Group', figsize=(10,6))\n",
        "ax.set_ylabel('Profit')"
      ]
    },
    {
      "cell_type": "code",
      "execution_count": 28,
      "metadata": {
        "id": "g4bJa9owFBNm",
        "outputId": "18c37dff-1a3c-4906-f761-01bb114e0dfd",
        "colab": {
          "base_uri": "https://localhost:8080/",
          "height": 608
        }
      },
      "outputs": [
        {
          "output_type": "execute_result",
          "data": {
            "text/plain": [
              "Year                 AxesSubplot(0.125,0.536818;0.227941x0.343182)\n",
              "Customer_Age      AxesSubplot(0.398529,0.536818;0.227941x0.343182)\n",
              "Order_Quantity    AxesSubplot(0.672059,0.536818;0.227941x0.343182)\n",
              "Unit_Cost               AxesSubplot(0.125,0.125;0.227941x0.343182)\n",
              "Unit_Price           AxesSubplot(0.398529,0.125;0.227941x0.343182)\n",
              "Profit               AxesSubplot(0.672059,0.125;0.227941x0.343182)\n",
              "dtype: object"
            ]
          },
          "metadata": {},
          "execution_count": 28
        },
        {
          "output_type": "display_data",
          "data": {
            "text/plain": [
              "<Figure size 1008x576 with 6 Axes>"
            ],
            "image/png": "[encoded data removed]"
          },
          "metadata": {
            "needs_background": "light"
          }
        }
      ],
      "source": [
        "boxplot_cols = ['Year', 'Customer_Age', 'Order_Quantity', 'Unit_Cost', 'Unit_Price', 'Profit']\n",
        "\n",
        "sales[boxplot_cols].plot(kind='box', subplots=True, layout=(2,3), figsize=(14,8))"
      ]
    },
    {
      "cell_type": "markdown",
      "metadata": {
        "id": "yh3BvgxxFBNm"
      },
      "source": [
        "![green-divider](https://user-images.githubusercontent.com/7065401/52071924-c003ad80-2562-11e9-8297-1c6595f8a7ff.png)\n",
        "\n",
        "## Column wrangling\n",
        "\n",
        "We can also create new columns or modify existing ones.\n",
        "\n",
        "### Add and calculate a new `Revenue_per_Age` column"
      ]
    },
    {
      "cell_type": "code",
      "execution_count": 29,
      "metadata": {
        "id": "QfCFpXbHFBNm",
        "outputId": "d74a2e1d-6b40-4d8e-ae33-39ef543aa109",
        "colab": {
          "base_uri": "https://localhost:8080/"
        }
      },
      "outputs": [
        {
          "output_type": "execute_result",
          "data": {
            "text/plain": [
              "0    50.000000\n",
              "1    50.000000\n",
              "2    49.000000\n",
              "3    42.612245\n",
              "4     8.893617\n",
              "Name: Revenue_per_Age, dtype: float64"
            ]
          },
          "metadata": {},
          "execution_count": 29
        }
      ],
      "source": [
        "sales['Revenue_per_Age'] = sales['Revenue'] / sales['Customer_Age']\n",
        "\n",
        "sales['Revenue_per_Age'].head()"
      ]
    },
    {
      "cell_type": "code",
      "execution_count": 30,
      "metadata": {
        "id": "VGjZei5gFBNm",
        "outputId": "8407b444-afdf-4f38-88aa-49cc872d408c",
        "colab": {
          "base_uri": "https://localhost:8080/",
          "height": 391
        }
      },
      "outputs": [
        {
          "output_type": "execute_result",
          "data": {
            "text/plain": [
              "<matplotlib.axes._subplots.AxesSubplot at 0x7fb23b5cc050>"
            ]
          },
          "metadata": {},
          "execution_count": 30
        },
        {
          "output_type": "display_data",
          "data": {
            "text/plain": [
              "<Figure size 1008x432 with 1 Axes>"
            ],
            "image/png": "[encoded data removed]"
          },
          "metadata": {
            "needs_background": "light"
          }
        }
      ],
      "source": [
        "sales['Revenue_per_Age'].plot(kind='density', figsize=(14,6))"
      ]
    },
    {
      "cell_type": "code",
      "execution_count": 31,
      "metadata": {
        "id": "N1o1OKJXFBNm",
        "outputId": "59357985-ba0d-4be3-9c0d-9335e2193c13",
        "colab": {
          "base_uri": "https://localhost:8080/",
          "height": 391
        }
      },
      "outputs": [
        {
          "output_type": "execute_result",
          "data": {
            "text/plain": [
              "<matplotlib.axes._subplots.AxesSubplot at 0x7fb23b559250>"
            ]
          },
          "metadata": {},
          "execution_count": 31
        },
        {
          "output_type": "display_data",
          "data": {
            "text/plain": [
              "<Figure size 1008x432 with 1 Axes>"
            ],
            "image/png": "[encoded data removed]"
          },
          "metadata": {
            "needs_background": "light"
          }
        }
      ],
      "source": [
        "sales['Revenue_per_Age'].plot(kind='hist', figsize=(14,6))"
      ]
    },
    {
      "cell_type": "markdown",
      "metadata": {
        "id": "3B3hMGYIFBNn"
      },
      "source": [
        "### Add and calculate a new `Calculated_Cost` column\n",
        "\n",
        "Use this formula\n",
        "\n",
        "$$ Calculated\\_Cost = Order\\_Quantity * Unit\\_Cost $$"
      ]
    },
    {
      "cell_type": "code",
      "execution_count": 32,
      "metadata": {
        "id": "KzCQgz1oFBNn",
        "outputId": "c8f8e26a-b731-4362-a818-4c8715a89f2d",
        "colab": {
          "base_uri": "https://localhost:8080/"
        }
      },
      "outputs": [
        {
          "output_type": "execute_result",
          "data": {
            "text/plain": [
              "0     360.0\n",
              "1     360.0\n",
              "2    1035.0\n",
              "3     900.0\n",
              "4     180.0\n",
              "Name: Calculated_Cost, dtype: float64"
            ]
          },
          "metadata": {},
          "execution_count": 32
        }
      ],
      "source": [
        "sales['Calculated_Cost'] = sales['Order_Quantity'] * sales['Unit_Cost']\n",
        "\n",
        "sales['Calculated_Cost'].head()"
      ]
    },
    {
      "cell_type": "code",
      "execution_count": 33,
      "metadata": {
        "id": "B--Pi32PFBNn",
        "outputId": "9b7b6f4e-ac62-45e0-e09b-b8e324a29c33",
        "colab": {
          "base_uri": "https://localhost:8080/"
        }
      },
      "outputs": [
        {
          "output_type": "execute_result",
          "data": {
            "text/plain": [
              "1"
            ]
          },
          "metadata": {},
          "execution_count": 33
        }
      ],
      "source": [
        "(sales['Calculated_Cost'] != sales['Cost']).sum()"
      ]
    },
    {
      "cell_type": "markdown",
      "metadata": {
        "id": "SC7n0vbJFBNn"
      },
      "source": [
        "We can see the relationship between `Cost` and `Profit` using a scatter plot:"
      ]
    },
    {
      "cell_type": "code",
      "execution_count": 34,
      "metadata": {
        "id": "1a-1_PHxFBNn",
        "outputId": "98669e84-beba-40bc-d9f1-f7ad33697da5",
        "colab": {
          "base_uri": "https://localhost:8080/",
          "height": 406
        }
      },
      "outputs": [
        {
          "output_type": "execute_result",
          "data": {
            "text/plain": [
              "<matplotlib.axes._subplots.AxesSubplot at 0x7fb23b4dbf90>"
            ]
          },
          "metadata": {},
          "execution_count": 34
        },
        {
          "output_type": "display_data",
          "data": {
            "text/plain": [
              "<Figure size 432x432 with 1 Axes>"
            ],
            "image/png": "[encoded data removed]"
          },
          "metadata": {
            "needs_background": "light"
          }
        }
      ],
      "source": [
        "sales.plot(kind='scatter', x='Calculated_Cost', y='Profit', figsize=(6,6))"
      ]
    },
    {
      "cell_type": "markdown",
      "metadata": {
        "id": "WZOzLGWqFBNn"
      },
      "source": [
        "### Add and calculate a new `Calculated_Revenue` column\n",
        "\n",
        "Use this formula\n",
        "\n",
        "$$ Calculated\\_Revenue = Cost + Profit $$"
      ]
    },
    {
      "cell_type": "code",
      "execution_count": 35,
      "metadata": {
        "id": "N4DQEtG4FBNn",
        "outputId": "258005cb-4699-4e56-c13a-5b5f6646fa07",
        "colab": {
          "base_uri": "https://localhost:8080/"
        }
      },
      "outputs": [
        {
          "output_type": "execute_result",
          "data": {
            "text/plain": [
              "0     950.0\n",
              "1     950.0\n",
              "2    2401.0\n",
              "3    2088.0\n",
              "4     418.0\n",
              "Name: Calculated_Revenue, dtype: float64"
            ]
          },
          "metadata": {},
          "execution_count": 35
        }
      ],
      "source": [
        "sales['Calculated_Revenue'] = sales['Cost'] + sales['Profit']\n",
        "\n",
        "sales['Calculated_Revenue'].head()"
      ]
    },
    {
      "cell_type": "code",
      "execution_count": 36,
      "metadata": {
        "id": "Lu5zezo1FBNn",
        "outputId": "6d22451c-646c-4c09-8309-8bc2272ffdab",
        "colab": {
          "base_uri": "https://localhost:8080/"
        }
      },
      "outputs": [
        {
          "output_type": "execute_result",
          "data": {
            "text/plain": [
              "1"
            ]
          },
          "metadata": {},
          "execution_count": 36
        }
      ],
      "source": [
        "(sales['Calculated_Revenue'] != sales['Revenue']).sum()"
      ]
    },
    {
      "cell_type": "code",
      "execution_count": 37,
      "metadata": {
        "id": "FDlVekykFBNo",
        "outputId": "1dd24f7c-f0a4-4226-80f2-e754b7ad7a0f",
        "colab": {
          "base_uri": "https://localhost:8080/",
          "height": 473
        }
      },
      "outputs": [
        {
          "output_type": "execute_result",
          "data": {
            "text/plain": [
              "        Date  Day     Month  Year  Customer_Age       Age_Group  \\\n",
              "0 2013-11-26   26  November  2013            19     Youth (<25)   \n",
              "1 2015-11-26   26  November  2015            19     Youth (<25)   \n",
              "2 2014-03-23   23     March  2014            49  Adults (35-64)   \n",
              "3 2016-03-23   23     March  2016            49  Adults (35-64)   \n",
              "4 2014-05-15   15       May  2014            47  Adults (35-64)   \n",
              "\n",
              "  Customer_Gender    Country             State Product_Category  ...  \\\n",
              "0               M     Canada  British Columbia      Accessories  ...   \n",
              "1               M     Canada  British Columbia      Accessories  ...   \n",
              "2               M  Australia   New South Wales      Accessories  ...   \n",
              "3               M  Australia   New South Wales      Accessories  ...   \n",
              "4               F  Australia   New South Wales      Accessories  ...   \n",
              "\n",
              "               Product Order_Quantity  Unit_Cost  Unit_Price  Profit    Cost  \\\n",
              "0  Hitch Rack - 4-Bike            8.0       45.0       120.0   590.0   360.0   \n",
              "1  Hitch Rack - 4-Bike            8.0       45.0       120.0   590.0   360.0   \n",
              "2  Hitch Rack - 4-Bike           23.0       45.0       120.0  1366.0  1035.0   \n",
              "3  Hitch Rack - 4-Bike           20.0       45.0       120.0  1188.0   900.0   \n",
              "4  Hitch Rack - 4-Bike            4.0       45.0       120.0   238.0   180.0   \n",
              "\n",
              "   Revenue  Revenue_per_Age  Calculated_Cost  Calculated_Revenue  \n",
              "0    950.0        50.000000            360.0               950.0  \n",
              "1    950.0        50.000000            360.0               950.0  \n",
              "2   2401.0        49.000000           1035.0              2401.0  \n",
              "3   2088.0        42.612245            900.0              2088.0  \n",
              "4    418.0         8.893617            180.0               418.0  \n",
              "\n",
              "[5 rows x 21 columns]"
            ],
            "text/html": [
              "\n",
              "  <div id=\"df-859fcb0c-4e05-492a-b2b0-e22a2cf56d65\">\n",
              "    <div class=\"colab-df-container\">\n",
              "      <div>\n",
              "<style scoped>\n",
              "    .dataframe tbody tr th:only-of-type {\n",
              "        vertical-align: middle;\n",
              "    }\n",
              "\n",
              "    .dataframe tbody tr th {\n",
              "        vertical-align: top;\n",
              "    }\n",
              "\n",
              "    .dataframe thead th {\n",
              "        text-align: right;\n",
              "    }\n",
              "</style>\n",
              "<table border=\"1\" class=\"dataframe\">\n",
              "  <thead>\n",
              "    <tr style=\"text-align: right;\">\n",
              "      <th></th>\n",
              "      <th>Date</th>\n",
              "      <th>Day</th>\n",
              "      <th>Month</th>\n",
              "      <th>Year</th>\n",
              "      <th>Customer_Age</th>\n",
              "      <th>Age_Group</th>\n",
              "      <th>Customer_Gender</th>\n",
              "      <th>Country</th>\n",
              "      <th>State</th>\n",
              "      <th>Product_Category</th>\n",
              "      <th>...</th>\n",
              "      <th>Product</th>\n",
              "      <th>Order_Quantity</th>\n",
              "      <th>Unit_Cost</th>\n",
              "      <th>Unit_Price</th>\n",
              "      <th>Profit</th>\n",
              "      <th>Cost</th>\n",
              "      <th>Revenue</th>\n",
              "      <th>Revenue_per_Age</th>\n",
              "      <th>Calculated_Cost</th>\n",
              "      <th>Calculated_Revenue</th>\n",
              "    </tr>\n",
              "  </thead>\n",
              "  <tbody>\n",
              "    <tr>\n",
              "      <th>0</th>\n",
              "      <td>2013-11-26</td>\n",
              "      <td>26</td>\n",
              "      <td>November</td>\n",
              "      <td>2013</td>\n",
              "      <td>19</td>\n",
              "      <td>Youth (&lt;25)</td>\n",
              "      <td>M</td>\n",
              "      <td>Canada</td>\n",
              "      <td>British Columbia</td>\n",
              "      <td>Accessories</td>\n",
              "      <td>...</td>\n",
              "      <td>Hitch Rack - 4-Bike</td>\n",
              "      <td>8.0</td>\n",
              "      <td>45.0</td>\n",
              "      <td>120.0</td>\n",
              "      <td>590.0</td>\n",
              "      <td>360.0</td>\n",
              "      <td>950.0</td>\n",
              "      <td>50.000000</td>\n",
              "      <td>360.0</td>\n",
              "      <td>950.0</td>\n",
              "    </tr>\n",
              "    <tr>\n",
              "      <th>1</th>\n",
              "      <td>2015-11-26</td>\n",
              "      <td>26</td>\n",
              "      <td>November</td>\n",
              "      <td>2015</td>\n",
              "      <td>19</td>\n",
              "      <td>Youth (&lt;25)</td>\n",
              "      <td>M</td>\n",
              "      <td>Canada</td>\n",
              "      <td>British Columbia</td>\n",
              "      <td>Accessories</td>\n",
              "      <td>...</td>\n",
              "      <td>Hitch Rack - 4-Bike</td>\n",
              "      <td>8.0</td>\n",
              "      <td>45.0</td>\n",
              "      <td>120.0</td>\n",
              "      <td>590.0</td>\n",
              "      <td>360.0</td>\n",
              "      <td>950.0</td>\n",
              "      <td>50.000000</td>\n",
              "      <td>360.0</td>\n",
              "      <td>950.0</td>\n",
              "    </tr>\n",
              "    <tr>\n",
              "      <th>2</th>\n",
              "      <td>2014-03-23</td>\n",
              "      <td>23</td>\n",
              "      <td>March</td>\n",
              "      <td>2014</td>\n",
              "      <td>49</td>\n",
              "      <td>Adults (35-64)</td>\n",
              "      <td>M</td>\n",
              "      <td>Australia</td>\n",
              "      <td>New South Wales</td>\n",
              "      <td>Accessories</td>\n",
              "      <td>...</td>\n",
              "      <td>Hitch Rack - 4-Bike</td>\n",
              "      <td>23.0</td>\n",
              "      <td>45.0</td>\n",
              "      <td>120.0</td>\n",
              "      <td>1366.0</td>\n",
              "      <td>1035.0</td>\n",
              "      <td>2401.0</td>\n",
              "      <td>49.000000</td>\n",
              "      <td>1035.0</td>\n",
              "      <td>2401.0</td>\n",
              "    </tr>\n",
              "    <tr>\n",
              "      <th>3</th>\n",
              "      <td>2016-03-23</td>\n",
              "      <td>23</td>\n",
              "      <td>March</td>\n",
              "      <td>2016</td>\n",
              "      <td>49</td>\n",
              "      <td>Adults (35-64)</td>\n",
              "      <td>M</td>\n",
              "      <td>Australia</td>\n",
              "      <td>New South Wales</td>\n",
              "      <td>Accessories</td>\n",
              "      <td>...</td>\n",
              "      <td>Hitch Rack - 4-Bike</td>\n",
              "      <td>20.0</td>\n",
              "      <td>45.0</td>\n",
              "      <td>120.0</td>\n",
              "      <td>1188.0</td>\n",
              "      <td>900.0</td>\n",
              "      <td>2088.0</td>\n",
              "      <td>42.612245</td>\n",
              "      <td>900.0</td>\n",
              "      <td>2088.0</td>\n",
              "    </tr>\n",
              "    <tr>\n",
              "      <th>4</th>\n",
              "      <td>2014-05-15</td>\n",
              "      <td>15</td>\n",
              "      <td>May</td>\n",
              "      <td>2014</td>\n",
              "      <td>47</td>\n",
              "      <td>Adults (35-64)</td>\n",
              "      <td>F</td>\n",
              "      <td>Australia</td>\n",
              "      <td>New South Wales</td>\n",
              "      <td>Accessories</td>\n",
              "      <td>...</td>\n",
              "      <td>Hitch Rack - 4-Bike</td>\n",
              "      <td>4.0</td>\n",
              "      <td>45.0</td>\n",
              "      <td>120.0</td>\n",
              "      <td>238.0</td>\n",
              "      <td>180.0</td>\n",
              "      <td>418.0</td>\n",
              "      <td>8.893617</td>\n",
              "      <td>180.0</td>\n",
              "      <td>418.0</td>\n",
              "    </tr>\n",
              "  </tbody>\n",
              "</table>\n",
              "<p>5 rows × 21 columns</p>\n",
              "</div>\n",
              "      <button class=\"colab-df-convert\" onclick=\"convertToInteractive('df-859fcb0c-4e05-492a-b2b0-e22a2cf56d65')\"\n",
              "              title=\"Convert this dataframe to an interactive table.\"\n",
              "              style=\"display:none;\">\n",
              "        \n",
              "  <svg xmlns=\"http://www.w3.org/2000/svg\" height=\"24px\"viewBox=\"0 0 24 24\"\n",
              "       width=\"24px\">\n",
              "    <path d=\"M0 0h24v24H0V0z\" fill=\"none\"/>\n",
              "    <path d=\"M18.56 5.44l.94 2.06.94-2.06 2.06-.94-2.06-.94-.94-2.06-.94 2.06-2.06.94zm-11 1L8.5 8.5l.94-2.06 2.06-.94-2.06-.94L8.5 2.5l-.94 2.06-2.06.94zm10 10l.94 2.06.94-2.06 2.06-.94-2.06-.94-.94-2.06-.94 2.06-2.06.94z\"/><path d=\"M17.41 7.96l-1.37-1.37c-.4-.4-.92-.59-1.43-.59-.52 0-1.04.2-1.43.59L10.3 9.45l-7.72 7.72c-.78.78-.78 2.05 0 2.83L4 21.41c.39.39.9.59 1.41.59.51 0 1.02-.2 1.41-.59l7.78-7.78 2.81-2.81c.8-.78.8-2.07 0-2.86zM5.41 20L4 18.59l7.72-7.72 1.47 1.35L5.41 20z\"/>\n",
              "  </svg>\n",
              "      </button>\n",
              "      \n",
              "  <style>\n",
              "    .colab-df-container {\n",
              "      display:flex;\n",
              "      flex-wrap:wrap;\n",
              "      gap: 12px;\n",
              "    }\n",
              "\n",
              "    .colab-df-convert {\n",
              "      background-color: #E8F0FE;\n",
              "      border: none;\n",
              "      border-radius: 50%;\n",
              "      cursor: pointer;\n",
              "      display: none;\n",
              "      fill: #1967D2;\n",
              "      height: 32px;\n",
              "      padding: 0 0 0 0;\n",
              "      width: 32px;\n",
              "    }\n",
              "\n",
              "    .colab-df-convert:hover {\n",
              "      background-color: #E2EBFA;\n",
              "      box-shadow: 0px 1px 2px rgba(60, 64, 67, 0.3), 0px 1px 3px 1px rgba(60, 64, 67, 0.15);\n",
              "      fill: #174EA6;\n",
              "    }\n",
              "\n",
              "    [theme=dark] .colab-df-convert {\n",
              "      background-color: #3B4455;\n",
              "      fill: #D2E3FC;\n",
              "    }\n",
              "\n",
              "    [theme=dark] .colab-df-convert:hover {\n",
              "      background-color: #434B5C;\n",
              "      box-shadow: 0px 1px 3px 1px rgba(0, 0, 0, 0.15);\n",
              "      filter: drop-shadow(0px 1px 2px rgba(0, 0, 0, 0.3));\n",
              "      fill: #FFFFFF;\n",
              "    }\n",
              "  </style>\n",
              "\n",
              "      <script>\n",
              "        const buttonEl =\n",
              "          document.querySelector('#df-859fcb0c-4e05-492a-b2b0-e22a2cf56d65 button.colab-df-convert');\n",
              "        buttonEl.style.display =\n",
              "          google.colab.kernel.accessAllowed ? 'block' : 'none';\n",
              "\n",
              "        async function convertToInteractive(key) {\n",
              "          const element = document.querySelector('#df-859fcb0c-4e05-492a-b2b0-e22a2cf56d65');\n",
              "          const dataTable =\n",
              "            await google.colab.kernel.invokeFunction('convertToInteractive',\n",
              "                                                     [key], {});\n",
              "          if (!dataTable) return;\n",
              "\n",
              "          const docLinkHtml = 'Like what you see? Visit the ' +\n",
              "            '<a target=\"_blank\" href=https://colab.research.google.com/notebooks/data_table.ipynb>data table notebook</a>'\n",
              "            + ' to learn more about interactive tables.';\n",
              "          element.innerHTML = '';\n",
              "          dataTable['output_type'] = 'display_data';\n",
              "          await google.colab.output.renderOutput(dataTable, element);\n",
              "          const docLink = document.createElement('div');\n",
              "          docLink.innerHTML = docLinkHtml;\n",
              "          element.appendChild(docLink);\n",
              "        }\n",
              "      </script>\n",
              "    </div>\n",
              "  </div>\n",
              "  "
            ]
          },
          "metadata": {},
          "execution_count": 37
        }
      ],
      "source": [
        "sales.head()"
      ]
    },
    {
      "cell_type": "code",
      "execution_count": 38,
      "metadata": {
        "id": "V_Ew_DZDFBNo",
        "outputId": "2fb28d0e-d2ee-4fe1-b085-3d03d08ee329",
        "colab": {
          "base_uri": "https://localhost:8080/",
          "height": 391
        }
      },
      "outputs": [
        {
          "output_type": "execute_result",
          "data": {
            "text/plain": [
              "<matplotlib.axes._subplots.AxesSubplot at 0x7fb24a560310>"
            ]
          },
          "metadata": {},
          "execution_count": 38
        },
        {
          "output_type": "display_data",
          "data": {
            "text/plain": [
              "<Figure size 1008x432 with 1 Axes>"
            ],
            "image/png": "[encoded data removed]"
          },
          "metadata": {
            "needs_background": "light"
          }
        }
      ],
      "source": [
        "sales['Revenue'].plot(kind='hist', bins=100, figsize=(14,6))"
      ]
    },
    {
      "cell_type": "markdown",
      "metadata": {
        "id": "3FpPpcOLFBNo"
      },
      "source": [
        "### Modify all `Unit_Price` values adding 3% tax to them"
      ]
    },
    {
      "cell_type": "code",
      "execution_count": 39,
      "metadata": {
        "id": "jxj-zBOqFBNo",
        "outputId": "4053bcfc-c840-41a7-f0bd-d39ddbbf8f53",
        "colab": {
          "base_uri": "https://localhost:8080/"
        }
      },
      "outputs": [
        {
          "output_type": "execute_result",
          "data": {
            "text/plain": [
              "0    120.0\n",
              "1    120.0\n",
              "2    120.0\n",
              "3    120.0\n",
              "4    120.0\n",
              "Name: Unit_Price, dtype: float64"
            ]
          },
          "metadata": {},
          "execution_count": 39
        }
      ],
      "source": [
        "sales['Unit_Price'].head()"
      ]
    },
    {
      "cell_type": "code",
      "execution_count": 40,
      "metadata": {
        "id": "LpKmp84JFBNo"
      },
      "outputs": [],
      "source": [
        "#sales['Unit_Price'] = sales['Unit_Price'] * 1.03\n",
        "\n",
        "sales['Unit_Price'] *= 1.03"
      ]
    },
    {
      "cell_type": "code",
      "execution_count": 41,
      "metadata": {
        "id": "QKMGW_5cFBNo",
        "outputId": "a13f9adc-6f1c-4829-b4d7-262eb065dda1",
        "colab": {
          "base_uri": "https://localhost:8080/"
        }
      },
      "outputs": [
        {
          "output_type": "execute_result",
          "data": {
            "text/plain": [
              "0    123.6\n",
              "1    123.6\n",
              "2    123.6\n",
              "3    123.6\n",
              "4    123.6\n",
              "Name: Unit_Price, dtype: float64"
            ]
          },
          "metadata": {},
          "execution_count": 41
        }
      ],
      "source": [
        "sales['Unit_Price'].head()"
      ]
    },
    {
      "cell_type": "markdown",
      "metadata": {
        "id": "LoHT-XSCFBNo"
      },
      "source": [
        "![green-divider](https://user-images.githubusercontent.com/7065401/52071924-c003ad80-2562-11e9-8297-1c6595f8a7ff.png)\n",
        "\n",
        "## Selection & Indexing:"
      ]
    },
    {
      "cell_type": "markdown",
      "metadata": {
        "id": "znCilss-FBNo"
      },
      "source": [
        "### Get all the sales made in the state of `Kentucky`"
      ]
    },
    {
      "cell_type": "code",
      "execution_count": 42,
      "metadata": {
        "id": "XCWVyr-ZFBNp",
        "outputId": "b22251f5-5e04-493c-eb2c-e07712d2ba54",
        "colab": {
          "base_uri": "https://localhost:8080/",
          "height": 574
        }
      },
      "outputs": [
        {
          "output_type": "execute_result",
          "data": {
            "text/plain": [
              "            Date  Day     Month  Year  Customer_Age       Age_Group  \\\n",
              "156   2013-11-04    4  November  2013            40  Adults (35-64)   \n",
              "157   2015-11-04    4  November  2015            40  Adults (35-64)   \n",
              "23826 2014-04-16   16     April  2014            40  Adults (35-64)   \n",
              "23827 2016-04-16   16     April  2016            40  Adults (35-64)   \n",
              "31446 2014-04-16   16     April  2014            40  Adults (35-64)   \n",
              "31447 2016-04-16   16     April  2016            40  Adults (35-64)   \n",
              "\n",
              "      Customer_Gender        Country     State Product_Category  ...  \\\n",
              "156                 M  United States  Kentucky      Accessories  ...   \n",
              "157                 M  United States  Kentucky      Accessories  ...   \n",
              "23826               M  United States  Kentucky      Accessories  ...   \n",
              "23827               M  United States  Kentucky      Accessories  ...   \n",
              "31446               M  United States  Kentucky      Accessories  ...   \n",
              "31447               M  United States  Kentucky      Accessories  ...   \n",
              "\n",
              "                      Product Order_Quantity  Unit_Cost  Unit_Price  Profit  \\\n",
              "156       Hitch Rack - 4-Bike            1.0       45.0      123.60    63.0   \n",
              "157       Hitch Rack - 4-Bike            1.0       45.0      123.60    63.0   \n",
              "23826   Fender Set - Mountain           12.0        8.0       22.66   142.0   \n",
              "23827   Fender Set - Mountain           14.0        8.0       22.66   165.0   \n",
              "31446  Sport-100 Helmet, Blue           29.0       13.0       36.05   537.0   \n",
              "31447  Sport-100 Helmet, Blue           31.0       13.0       36.05   574.0   \n",
              "\n",
              "        Cost  Revenue  Revenue_per_Age  Calculated_Cost  Calculated_Revenue  \n",
              "156     45.0    108.0            2.700             45.0               108.0  \n",
              "157     45.0    108.0            2.700             45.0               108.0  \n",
              "23826   96.0    238.0            5.950             96.0               238.0  \n",
              "23827  112.0    277.0            6.925            112.0               277.0  \n",
              "31446  377.0    914.0           22.850            377.0               914.0  \n",
              "31447  403.0    977.0           24.425            403.0               977.0  \n",
              "\n",
              "[6 rows x 21 columns]"
            ],
            "text/html": [
              "\n",
              "  <div id=\"df-821be9b1-88ea-4ac9-b769-c4f2b482176c\">\n",
              "    <div class=\"colab-df-container\">\n",
              "      <div>\n",
              "<style scoped>\n",
              "    .dataframe tbody tr th:only-of-type {\n",
              "        vertical-align: middle;\n",
              "    }\n",
              "\n",
              "    .dataframe tbody tr th {\n",
              "        vertical-align: top;\n",
              "    }\n",
              "\n",
              "    .dataframe thead th {\n",
              "        text-align: right;\n",
              "    }\n",
              "</style>\n",
              "<table border=\"1\" class=\"dataframe\">\n",
              "  <thead>\n",
              "    <tr style=\"text-align: right;\">\n",
              "      <th></th>\n",
              "      <th>Date</th>\n",
              "      <th>Day</th>\n",
              "      <th>Month</th>\n",
              "      <th>Year</th>\n",
              "      <th>Customer_Age</th>\n",
              "      <th>Age_Group</th>\n",
              "      <th>Customer_Gender</th>\n",
              "      <th>Country</th>\n",
              "      <th>State</th>\n",
              "      <th>Product_Category</th>\n",
              "      <th>...</th>\n",
              "      <th>Product</th>\n",
              "      <th>Order_Quantity</th>\n",
              "      <th>Unit_Cost</th>\n",
              "      <th>Unit_Price</th>\n",
              "      <th>Profit</th>\n",
              "      <th>Cost</th>\n",
              "      <th>Revenue</th>\n",
              "      <th>Revenue_per_Age</th>\n",
              "      <th>Calculated_Cost</th>\n",
              "      <th>Calculated_Revenue</th>\n",
              "    </tr>\n",
              "  </thead>\n",
              "  <tbody>\n",
              "    <tr>\n",
              "      <th>156</th>\n",
              "      <td>2013-11-04</td>\n",
              "      <td>4</td>\n",
              "      <td>November</td>\n",
              "      <td>2013</td>\n",
              "      <td>40</td>\n",
              "      <td>Adults (35-64)</td>\n",
              "      <td>M</td>\n",
              "      <td>United States</td>\n",
              "      <td>Kentucky</td>\n",
              "      <td>Accessories</td>\n",
              "      <td>...</td>\n",
              "      <td>Hitch Rack - 4-Bike</td>\n",
              "      <td>1.0</td>\n",
              "      <td>45.0</td>\n",
              "      <td>123.60</td>\n",
              "      <td>63.0</td>\n",
              "      <td>45.0</td>\n",
              "      <td>108.0</td>\n",
              "      <td>2.700</td>\n",
              "      <td>45.0</td>\n",
              "      <td>108.0</td>\n",
              "    </tr>\n",
              "    <tr>\n",
              "      <th>157</th>\n",
              "      <td>2015-11-04</td>\n",
              "      <td>4</td>\n",
              "      <td>November</td>\n",
              "      <td>2015</td>\n",
              "      <td>40</td>\n",
              "      <td>Adults (35-64)</td>\n",
              "      <td>M</td>\n",
              "      <td>United States</td>\n",
              "      <td>Kentucky</td>\n",
              "      <td>Accessories</td>\n",
              "      <td>...</td>\n",
              "      <td>Hitch Rack - 4-Bike</td>\n",
              "      <td>1.0</td>\n",
              "      <td>45.0</td>\n",
              "      <td>123.60</td>\n",
              "      <td>63.0</td>\n",
              "      <td>45.0</td>\n",
              "      <td>108.0</td>\n",
              "      <td>2.700</td>\n",
              "      <td>45.0</td>\n",
              "      <td>108.0</td>\n",
              "    </tr>\n",
              "    <tr>\n",
              "      <th>23826</th>\n",
              "      <td>2014-04-16</td>\n",
              "      <td>16</td>\n",
              "      <td>April</td>\n",
              "      <td>2014</td>\n",
              "      <td>40</td>\n",
              "      <td>Adults (35-64)</td>\n",
              "      <td>M</td>\n",
              "      <td>United States</td>\n",
              "      <td>Kentucky</td>\n",
              "      <td>Accessories</td>\n",
              "      <td>...</td>\n",
              "      <td>Fender Set - Mountain</td>\n",
              "      <td>12.0</td>\n",
              "      <td>8.0</td>\n",
              "      <td>22.66</td>\n",
              "      <td>142.0</td>\n",
              "      <td>96.0</td>\n",
              "      <td>238.0</td>\n",
              "      <td>5.950</td>\n",
              "      <td>96.0</td>\n",
              "      <td>238.0</td>\n",
              "    </tr>\n",
              "    <tr>\n",
              "      <th>23827</th>\n",
              "      <td>2016-04-16</td>\n",
              "      <td>16</td>\n",
              "      <td>April</td>\n",
              "      <td>2016</td>\n",
              "      <td>40</td>\n",
              "      <td>Adults (35-64)</td>\n",
              "      <td>M</td>\n",
              "      <td>United States</td>\n",
              "      <td>Kentucky</td>\n",
              "      <td>Accessories</td>\n",
              "      <td>...</td>\n",
              "      <td>Fender Set - Mountain</td>\n",
              "      <td>14.0</td>\n",
              "      <td>8.0</td>\n",
              "      <td>22.66</td>\n",
              "      <td>165.0</td>\n",
              "      <td>112.0</td>\n",
              "      <td>277.0</td>\n",
              "      <td>6.925</td>\n",
              "      <td>112.0</td>\n",
              "      <td>277.0</td>\n",
              "    </tr>\n",
              "    <tr>\n",
              "      <th>31446</th>\n",
              "      <td>2014-04-16</td>\n",
              "      <td>16</td>\n",
              "      <td>April</td>\n",
              "      <td>2014</td>\n",
              "      <td>40</td>\n",
              "      <td>Adults (35-64)</td>\n",
              "      <td>M</td>\n",
              "      <td>United States</td>\n",
              "      <td>Kentucky</td>\n",
              "      <td>Accessories</td>\n",
              "      <td>...</td>\n",
              "      <td>Sport-100 Helmet, Blue</td>\n",
              "      <td>29.0</td>\n",
              "      <td>13.0</td>\n",
              "      <td>36.05</td>\n",
              "      <td>537.0</td>\n",
              "      <td>377.0</td>\n",
              "      <td>914.0</td>\n",
              "      <td>22.850</td>\n",
              "      <td>377.0</td>\n",
              "      <td>914.0</td>\n",
              "    </tr>\n",
              "    <tr>\n",
              "      <th>31447</th>\n",
              "      <td>2016-04-16</td>\n",
              "      <td>16</td>\n",
              "      <td>April</td>\n",
              "      <td>2016</td>\n",
              "      <td>40</td>\n",
              "      <td>Adults (35-64)</td>\n",
              "      <td>M</td>\n",
              "      <td>United States</td>\n",
              "      <td>Kentucky</td>\n",
              "      <td>Accessories</td>\n",
              "      <td>...</td>\n",
              "      <td>Sport-100 Helmet, Blue</td>\n",
              "      <td>31.0</td>\n",
              "      <td>13.0</td>\n",
              "      <td>36.05</td>\n",
              "      <td>574.0</td>\n",
              "      <td>403.0</td>\n",
              "      <td>977.0</td>\n",
              "      <td>24.425</td>\n",
              "      <td>403.0</td>\n",
              "      <td>977.0</td>\n",
              "    </tr>\n",
              "  </tbody>\n",
              "</table>\n",
              "<p>6 rows × 21 columns</p>\n",
              "</div>\n",
              "      <button class=\"colab-df-convert\" onclick=\"convertToInteractive('df-821be9b1-88ea-4ac9-b769-c4f2b482176c')\"\n",
              "              title=\"Convert this dataframe to an interactive table.\"\n",
              "              style=\"display:none;\">\n",
              "        \n",
              "  <svg xmlns=\"http://www.w3.org/2000/svg\" height=\"24px\"viewBox=\"0 0 24 24\"\n",
              "       width=\"24px\">\n",
              "    <path d=\"M0 0h24v24H0V0z\" fill=\"none\"/>\n",
              "    <path d=\"M18.56 5.44l.94 2.06.94-2.06 2.06-.94-2.06-.94-.94-2.06-.94 2.06-2.06.94zm-11 1L8.5 8.5l.94-2.06 2.06-.94-2.06-.94L8.5 2.5l-.94 2.06-2.06.94zm10 10l.94 2.06.94-2.06 2.06-.94-2.06-.94-.94-2.06-.94 2.06-2.06.94z\"/><path d=\"M17.41 7.96l-1.37-1.37c-.4-.4-.92-.59-1.43-.59-.52 0-1.04.2-1.43.59L10.3 9.45l-7.72 7.72c-.78.78-.78 2.05 0 2.83L4 21.41c.39.39.9.59 1.41.59.51 0 1.02-.2 1.41-.59l7.78-7.78 2.81-2.81c.8-.78.8-2.07 0-2.86zM5.41 20L4 18.59l7.72-7.72 1.47 1.35L5.41 20z\"/>\n",
              "  </svg>\n",
              "      </button>\n",
              "      \n",
              "  <style>\n",
              "    .colab-df-container {\n",
              "      display:flex;\n",
              "      flex-wrap:wrap;\n",
              "      gap: 12px;\n",
              "    }\n",
              "\n",
              "    .colab-df-convert {\n",
              "      background-color: #E8F0FE;\n",
              "      border: none;\n",
              "      border-radius: 50%;\n",
              "      cursor: pointer;\n",
              "      display: none;\n",
              "      fill: #1967D2;\n",
              "      height: 32px;\n",
              "      padding: 0 0 0 0;\n",
              "      width: 32px;\n",
              "    }\n",
              "\n",
              "    .colab-df-convert:hover {\n",
              "      background-color: #E2EBFA;\n",
              "      box-shadow: 0px 1px 2px rgba(60, 64, 67, 0.3), 0px 1px 3px 1px rgba(60, 64, 67, 0.15);\n",
              "      fill: #174EA6;\n",
              "    }\n",
              "\n",
              "    [theme=dark] .colab-df-convert {\n",
              "      background-color: #3B4455;\n",
              "      fill: #D2E3FC;\n",
              "    }\n",
              "\n",
              "    [theme=dark] .colab-df-convert:hover {\n",
              "      background-color: #434B5C;\n",
              "      box-shadow: 0px 1px 3px 1px rgba(0, 0, 0, 0.15);\n",
              "      filter: drop-shadow(0px 1px 2px rgba(0, 0, 0, 0.3));\n",
              "      fill: #FFFFFF;\n",
              "    }\n",
              "  </style>\n",
              "\n",
              "      <script>\n",
              "        const buttonEl =\n",
              "          document.querySelector('#df-821be9b1-88ea-4ac9-b769-c4f2b482176c button.colab-df-convert');\n",
              "        buttonEl.style.display =\n",
              "          google.colab.kernel.accessAllowed ? 'block' : 'none';\n",
              "\n",
              "        async function convertToInteractive(key) {\n",
              "          const element = document.querySelector('#df-821be9b1-88ea-4ac9-b769-c4f2b482176c');\n",
              "          const dataTable =\n",
              "            await google.colab.kernel.invokeFunction('convertToInteractive',\n",
              "                                                     [key], {});\n",
              "          if (!dataTable) return;\n",
              "\n",
              "          const docLinkHtml = 'Like what you see? Visit the ' +\n",
              "            '<a target=\"_blank\" href=https://colab.research.google.com/notebooks/data_table.ipynb>data table notebook</a>'\n",
              "            + ' to learn more about interactive tables.';\n",
              "          element.innerHTML = '';\n",
              "          dataTable['output_type'] = 'display_data';\n",
              "          await google.colab.output.renderOutput(dataTable, element);\n",
              "          const docLink = document.createElement('div');\n",
              "          docLink.innerHTML = docLinkHtml;\n",
              "          element.appendChild(docLink);\n",
              "        }\n",
              "      </script>\n",
              "    </div>\n",
              "  </div>\n",
              "  "
            ]
          },
          "metadata": {},
          "execution_count": 42
        }
      ],
      "source": [
        "sales.loc[sales['State'] == 'Kentucky']"
      ]
    },
    {
      "cell_type": "markdown",
      "metadata": {
        "id": "og4-WzA4FBNp"
      },
      "source": [
        "### Get the mean revenue of the `Adults (35-64)` sales group"
      ]
    },
    {
      "cell_type": "code",
      "execution_count": 43,
      "metadata": {
        "id": "LbY4OPq0FBNp",
        "outputId": "7857235d-a5d5-4fbc-a5dd-5678d885e54e",
        "colab": {
          "base_uri": "https://localhost:8080/"
        }
      },
      "outputs": [
        {
          "output_type": "execute_result",
          "data": {
            "text/plain": [
              "198.5552296555167"
            ]
          },
          "metadata": {},
          "execution_count": 43
        }
      ],
      "source": [
        "sales.loc[sales['Age_Group'] == 'Adults (35-64)', 'Revenue'].mean()"
      ]
    },
    {
      "cell_type": "markdown",
      "metadata": {
        "id": "laxBmNklFBNp"
      },
      "source": [
        "### How many records belong to Age Group `Youth (<25)` or `Adults (35-64)`?"
      ]
    },
    {
      "cell_type": "code",
      "execution_count": 44,
      "metadata": {
        "id": "kMoJCcCeFBNp",
        "outputId": "4bd0160f-fb62-4ff5-c7ec-5e5c93b66715",
        "colab": {
          "base_uri": "https://localhost:8080/"
        }
      },
      "outputs": [
        {
          "output_type": "execute_result",
          "data": {
            "text/plain": [
              "20930"
            ]
          },
          "metadata": {},
          "execution_count": 44
        }
      ],
      "source": [
        "sales.loc[(sales['Age_Group'] == 'Youth (<25)') | (sales['Age_Group'] == 'Adults (35-64)')].shape[0]"
      ]
    },
    {
      "cell_type": "markdown",
      "metadata": {
        "id": "GC5cucZQFBNp"
      },
      "source": [
        "### Get the mean revenue of the sales group `Adults (35-64)` in `United States`"
      ]
    },
    {
      "cell_type": "code",
      "execution_count": 45,
      "metadata": {
        "id": "2CVtdal9FBNp",
        "outputId": "2069bc2a-e7c1-4fc1-bede-2776ec1cfe45",
        "colab": {
          "base_uri": "https://localhost:8080/"
        }
      },
      "outputs": [
        {
          "output_type": "execute_result",
          "data": {
            "text/plain": [
              "200.932"
            ]
          },
          "metadata": {},
          "execution_count": 45
        }
      ],
      "source": [
        "sales.loc[(sales['Age_Group'] == 'Adults (35-64)') & (sales['Country'] == 'United States'), 'Revenue'].mean()"
      ]
    },
    {
      "cell_type": "markdown",
      "metadata": {
        "id": "eujohRfHFBNp"
      },
      "source": [
        "### Increase the revenue by 10% to every sale made in France"
      ]
    },
    {
      "cell_type": "code",
      "execution_count": 46,
      "metadata": {
        "id": "nx8GokS8FBNq",
        "outputId": "5f43a778-0b4f-46a5-f53e-cf2046bf1a3c",
        "colab": {
          "base_uri": "https://localhost:8080/"
        }
      },
      "outputs": [
        {
          "output_type": "execute_result",
          "data": {
            "text/plain": [
              "50     787.0\n",
              "51     787.0\n",
              "52    2957.0\n",
              "53    2851.0\n",
              "60     626.0\n",
              "Name: Revenue, dtype: float64"
            ]
          },
          "metadata": {},
          "execution_count": 46
        }
      ],
      "source": [
        "sales.loc[sales['Country'] == 'France', 'Revenue'].head()"
      ]
    },
    {
      "cell_type": "code",
      "execution_count": 47,
      "metadata": {
        "id": "r7VSWzVIFBNq"
      },
      "outputs": [],
      "source": [
        "sales.loc[sales['Country'] == 'France', 'Revenue'] *= 1.1"
      ]
    },
    {
      "cell_type": "code",
      "execution_count": 48,
      "metadata": {
        "id": "MUAA2H4kFBNq",
        "outputId": "73228411-bfa0-4a19-fb3d-27bf9cebfecb",
        "colab": {
          "base_uri": "https://localhost:8080/"
        }
      },
      "outputs": [
        {
          "output_type": "execute_result",
          "data": {
            "text/plain": [
              "50     865.7\n",
              "51     865.7\n",
              "52    3252.7\n",
              "53    3136.1\n",
              "60     688.6\n",
              "Name: Revenue, dtype: float64"
            ]
          },
          "metadata": {},
          "execution_count": 48
        }
      ],
      "source": [
        "sales.loc[sales['Country'] == 'France', 'Revenue'].head()"
      ]
    },
    {
      "cell_type": "markdown",
      "metadata": {
        "id": "5WGsTwguFBNq"
      },
      "source": [
        "![purple-divider](https://user-images.githubusercontent.com/7065401/52071927-c1cd7100-2562-11e9-908a-dde91ba14e59.png)"
      ]
    }
  ],
  "metadata": {
    "kernelspec": {
      "display_name": "Python 3",
      "language": "python",
      "name": "python3"
    },
    "language_info": {
      "codemirror_mode": {
        "name": "ipython",
        "version": 3
      },
      "file_extension": ".py",
      "mimetype": "text/x-python",
      "name": "python",
      "nbconvert_exporter": "python",
      "pygments_lexer": "ipython3",
      "version": "3.8.1"
    },
    "colab": {
      "provenance": [],
      "include_colab_link": true
    }
  },
  "nbformat": 4,
  "nbformat_minor": 0
}