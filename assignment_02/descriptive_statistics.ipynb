{
  "nbformat": 4,
  "nbformat_minor": 0,
  "metadata": {
    "colab": {
      "provenance": [],
      "authorship_tag": "ABX9TyPScJ4FylJJ+EKY/sbu7Myp",
      "include_colab_link": true
    },
    "kernelspec": {
      "name": "python3",
      "display_name": "Python 3"
    },
    "language_info": {
      "name": "python"
    }
  },
  "cells": [
    {
      "cell_type": "markdown",
      "metadata": {
        "id": "view-in-github",
        "colab_type": "text"
      },
      "source": [
        "<a href=\"https://colab.research.google.com/github/davidsadovy/data690_fall2022/blob/main/assignment_02/descriptive_statistics.ipynb\" target=\"_parent\"><img src=\"https://colab.research.google.com/assets/colab-badge.svg\" alt=\"Open In Colab\"/></a>"
      ]
    },
    {
      "cell_type": "markdown",
      "source": [
        "1. Hard code number of integers wanted, provide instructions to user, and prepare empty list to accept input."
      ],
      "metadata": {
        "id": "gDrMyCOpkjtp"
      }
    },
    {
      "cell_type": "code",
      "source": [
        "count = 10   # allows the size of the list of integers to be changed easily\n",
        "\n",
        "# print user instructions\n",
        "print(\"I would like you to enter exactly \" + str(count) + \" integers. I will \"\n",
        "      \"prompt you to enter them one at a time. Please note that other types of \"\n",
        "      \"input are not permitted. I will then calculate and display a summary \"\n",
        "      \"of descriptive statistics for your input.\")\n",
        "\n",
        "integer_list = []   # initialize empty list to hold integers"
      ],
      "metadata": {
        "colab": {
          "base_uri": "https://localhost:8080/"
        },
        "id": "j0JP0StYkdZ5",
        "outputId": "50be1461-8845-4ae0-c512-972f0f623175"
      },
      "execution_count": 140,
      "outputs": [
        {
          "output_type": "stream",
          "name": "stdout",
          "text": [
            "I would like you to enter exactly 10 integers. I will prompt you to enter them one at a time. Please note that other types of input are not permitted. I will then calculate and display a summary of descriptive statistics for your input.\n"
          ]
        }
      ]
    },
    {
      "cell_type": "markdown",
      "source": [
        "2. Loop the specified number of times, prompting for integer input and validating that user inputs only integers."
      ],
      "metadata": {
        "id": "syUyjnTPlNyg"
      }
    },
    {
      "cell_type": "code",
      "execution_count": 141,
      "metadata": {
        "colab": {
          "base_uri": "https://localhost:8080/"
        },
        "id": "hSR4myZxfI_Y",
        "outputId": "2b3aa58b-fbe7-4b08-c642-4e11be9f027f"
      },
      "outputs": [
        {
          "output_type": "stream",
          "name": "stdout",
          "text": [
            "Please enter integer number 1:  14\n",
            "Please enter integer number 2:  25\n",
            "Please enter integer number 3:  36\n",
            "Please enter integer number 4:  mom\n",
            "You entered:  mom\n",
            "This is a not an integer. You must enter an integer. Please try again.\n",
            "Please enter integer number 4:  74\n",
            "Please enter integer number 5:  85\n",
            "Please enter integer number 6:  96\n",
            "Please enter integer number 7:  True\n",
            "You entered:  True\n",
            "This is a not an integer. You must enter an integer. Please try again.\n",
            "Please enter integer number 7:  55\n",
            "Please enter integer number 8:  55\n",
            "Please enter integer number 9:  0\n",
            "Please enter integer number 10:  -49.99999\n",
            "You entered:  -49.99999\n",
            "This is a not an integer. You must enter an integer. Please try again.\n",
            "Please enter integer number 10:  -50\n",
            "Here is the list of 10 integers that you entered:   [14, 25, 36, 74, 85, 96, 55, 55, 0, -50]\n"
          ]
        }
      ],
      "source": [
        "# loop the specified number of times to accept input\n",
        "for i in range(0,count):   \n",
        "\n",
        "    # infinite loop \n",
        "    while True:\n",
        "\n",
        "        # prompt for input and assign to variable\n",
        "        x = input(\"Please enter integer number \" + str(i+1) + \":  \")\n",
        "\n",
        "        # handle exceptions\n",
        "        try:\n",
        "            y = int(x)\n",
        "\n",
        "            # append good input to the list of integers\n",
        "            integer_list.append(y)\n",
        "            break\n",
        "\n",
        "        except:\n",
        "            # tell user what is wrong\n",
        "            print(\"You entered: \", x)\n",
        "            print(\"This is a not an integer. You must enter an integer. \"\n",
        "                  \"Please try again.\")\n",
        "\n",
        "# display input back to user\n",
        "print(\"Here is the list of \" + str(count) + \" integers that you entered:  \", \\\n",
        "      integer_list)"
      ]
    },
    {
      "cell_type": "markdown",
      "source": [
        "3. Manually sort the list. Doing this in one step makes it trivial to extract the list minimum and maximum."
      ],
      "metadata": {
        "id": "QYCXDxfanHk3"
      }
    },
    {
      "cell_type": "code",
      "source": [
        "# outer loop goes through each item\n",
        "for j in range(count):     \n",
        "\n",
        "    # inner loop goes through remaining items\n",
        "    for k in range(count-j-1):     \n",
        "        if integer_list[k] > integer_list[k+1]:     # swap values\n",
        "            integer_list[k], integer_list[k+1] = \\\n",
        "            integer_list[k+1], integer_list[k]"
      ],
      "metadata": {
        "id": "alM87SpHi5dv"
      },
      "execution_count": 142,
      "outputs": []
    },
    {
      "cell_type": "markdown",
      "source": [
        "4. Extract list minimum and maximum, then calculate list range and mean."
      ],
      "metadata": {
        "id": "5p-IjwI18W4x"
      }
    },
    {
      "cell_type": "code",
      "source": [
        "list_minimum = integer_list[0]      # first item in sorted list\n",
        "list_maximum = integer_list[-1]     # last item in sorted list\n",
        "\n",
        "# calculate list range\n",
        "list_range = integer_list[-1] - integer_list[0]\n",
        "\n",
        "# initialize list sum to 0\n",
        "list_sum = 0\n",
        "\n",
        "# loop though each integer and add it to the list sum\n",
        "for m in integer_list:\n",
        "    list_sum += m\n",
        "\n",
        "# calculate list mean\n",
        "list_mean = list_sum / count"
      ],
      "metadata": {
        "id": "Bh17Zz31thoT"
      },
      "execution_count": 143,
      "outputs": []
    },
    {
      "cell_type": "markdown",
      "source": [
        "5. Calculate list variance and standard deviation."
      ],
      "metadata": {
        "id": "hbAW3ns38x6b"
      }
    },
    {
      "cell_type": "code",
      "source": [
        "sosd = 0    # sum of square deviations\n",
        "\n",
        "# loop through each integer, find distance from mean,\n",
        "# square it, then add them up to find sum of square\n",
        "# deviations\n",
        "for m in integer_list:\n",
        "    sosd += (m - list_mean)**2\n",
        "\n",
        "# calculate variance using formula for sample variance\n",
        "list_variance = sosd / (count-1)\n",
        "\n",
        "# calculate standard deviation from variance\n",
        "list_std_dev = list_variance**(0.5)"
      ],
      "metadata": {
        "id": "YECR85rX1NzE"
      },
      "execution_count": 144,
      "outputs": []
    },
    {
      "cell_type": "markdown",
      "source": [
        "6. Print output as directed in assignment."
      ],
      "metadata": {
        "id": "p7q6UFAy-aMj"
      }
    },
    {
      "cell_type": "code",
      "source": [
        "print(\"Below is a summary of descriptive statistics for your list of \"\n",
        "      + str(count) + \" integers.\")\n",
        "print()\n",
        "print(\"Your list (sorted): \", integer_list)\n",
        "print(\"Minimum: \", list_minimum)\n",
        "print(\"Maximum: \", list_maximum)\n",
        "print(\"Range: \", list_range)\n",
        "print(\"Mean: \", list_mean)\n",
        "print(\"Variance: \", list_variance)\n",
        "print(\"Standard Deviation: \", list_std_dev)"
      ],
      "metadata": {
        "colab": {
          "base_uri": "https://localhost:8080/"
        },
        "id": "I5jrL2oU2oIj",
        "outputId": "f8a9035d-a6d5-4b7e-bc98-a35d1ed250ca"
      },
      "execution_count": 145,
      "outputs": [
        {
          "output_type": "stream",
          "name": "stdout",
          "text": [
            "Below is a summary of descriptive statistics for your list of 10 integers.\n",
            "\n",
            "Your list (sorted):  [-50, 0, 14, 25, 36, 55, 55, 74, 85, 96]\n",
            "Minimum:  -50\n",
            "Maximum:  96\n",
            "Range:  146\n",
            "Mean:  39.0\n",
            "Variance:  1930.4444444444443\n",
            "Standard Deviation:  43.9368233312838\n"
          ]
        }
      ]
    }
  ]
}