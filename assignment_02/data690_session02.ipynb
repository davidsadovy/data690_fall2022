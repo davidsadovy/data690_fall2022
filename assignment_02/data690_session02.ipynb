{
  "nbformat": 4,
  "nbformat_minor": 0,
  "metadata": {
    "colab": {
      "provenance": [],
      "authorship_tag": "ABX9TyOB9jP5LkAs4Ru2UBfI7Ve+",
      "include_colab_link": true
    },
    "kernelspec": {
      "name": "python3",
      "display_name": "Python 3"
    },
    "language_info": {
      "name": "python"
    }
  },
  "cells": [
    {
      "cell_type": "markdown",
      "metadata": {
        "id": "view-in-github",
        "colab_type": "text"
      },
      "source": [
        "<a href=\"https://colab.research.google.com/github/davidsadovy/data690_fall2022/blob/main/assignment_02/data690_session02.ipynb\" target=\"_parent\"><img src=\"https://colab.research.google.com/assets/colab-badge.svg\" alt=\"Open In Colab\"/></a>"
      ]
    },
    {
      "cell_type": "markdown",
      "source": [
        " # DATA 690 Session 02\n",
        " - Date: 09/08/2022\n",
        " - Name: Dave Sadovy "
      ],
      "metadata": {
        "id": "tq15wuNYcrgB"
      }
    },
    {
      "cell_type": "code",
      "execution_count": 2,
      "metadata": {
        "colab": {
          "base_uri": "https://localhost:8080/"
        },
        "id": "xo3jsm2vckws",
        "outputId": "7326b56d-5821-435c-edcf-cf092868af74"
      },
      "outputs": [
        {
          "output_type": "stream",
          "name": "stdout",
          "text": [
            "Birth Years of Students 1/11/1997 1991 2000 1969 1999 1998 1993 1996 1999 1997 1996 1998 1995 1999 1999 1997 1996 1996 1997 1995 1997 1999 2000\n"
          ]
        }
      ],
      "source": [
        "years = \"1/11/1997 1991 2000 1969 1999 1998 1993 1996 1999 1997 1996 1998 1995 1999 1999 1997 1996 1996 1997 1995 1997 1999 2000\"\n",
        "\n",
        "print(\"Birth Years of Students\", years)"
      ]
    },
    {
      "cell_type": "code",
      "source": [
        "type(years)"
      ],
      "metadata": {
        "colab": {
          "base_uri": "https://localhost:8080/"
        },
        "id": "3zRaAETMPm7F",
        "outputId": "12e7e5b0-48b8-4606-b3e1-c8ffbe5cded6"
      },
      "execution_count": 3,
      "outputs": [
        {
          "output_type": "execute_result",
          "data": {
            "text/plain": [
              "str"
            ]
          },
          "metadata": {},
          "execution_count": 3
        }
      ]
    },
    {
      "cell_type": "code",
      "source": [
        "type(True)"
      ],
      "metadata": {
        "colab": {
          "base_uri": "https://localhost:8080/"
        },
        "id": "qCH_fc7Ydm-8",
        "outputId": "6ac244c7-889e-4ab6-c7c6-ed54ebb95125"
      },
      "execution_count": 4,
      "outputs": [
        {
          "output_type": "execute_result",
          "data": {
            "text/plain": [
              "bool"
            ]
          },
          "metadata": {},
          "execution_count": 4
        }
      ]
    },
    {
      "cell_type": "code",
      "source": [
        "years_list = years.split(\" \")\n",
        "print(years_list)"
      ],
      "metadata": {
        "colab": {
          "base_uri": "https://localhost:8080/"
        },
        "id": "Wuqv0WgsfVk5",
        "outputId": "c5961534-8142-447d-b4c9-f6cc5f89d84f"
      },
      "execution_count": 5,
      "outputs": [
        {
          "output_type": "stream",
          "name": "stdout",
          "text": [
            "['1/11/1997', '1991', '2000', '1969', '1999', '1998', '1993', '1996', '1999', '1997', '1996', '1998', '1995', '1999', '1999', '1997', '1996', '1996', '1997', '1995', '1997', '1999', '2000']\n"
          ]
        }
      ]
    },
    {
      "cell_type": "code",
      "source": [
        "x = [\"Jay\", \"James\", \"Jayson\", \"Libin\"]\n",
        "type(x)"
      ],
      "metadata": {
        "colab": {
          "base_uri": "https://localhost:8080/"
        },
        "id": "xqi8dxYyf2Yx",
        "outputId": "5eef0a54-2f3b-478d-e544-ce515705a5ad"
      },
      "execution_count": 6,
      "outputs": [
        {
          "output_type": "execute_result",
          "data": {
            "text/plain": [
              "list"
            ]
          },
          "metadata": {},
          "execution_count": 6
        }
      ]
    },
    {
      "cell_type": "code",
      "source": [
        "y = [2.4, 12, -7, 11, 6]\n",
        "\n",
        "type(y)"
      ],
      "metadata": {
        "colab": {
          "base_uri": "https://localhost:8080/"
        },
        "id": "FCg_n3RCgO20",
        "outputId": "4af03892-f962-41e0-e9c8-ad8fff5453f0"
      },
      "execution_count": 7,
      "outputs": [
        {
          "output_type": "execute_result",
          "data": {
            "text/plain": [
              "list"
            ]
          },
          "metadata": {},
          "execution_count": 7
        }
      ]
    },
    {
      "cell_type": "code",
      "source": [
        "total = 0\n",
        "for number in y:\n",
        "    total += number\n",
        "\n",
        "print(\"Sum of y =\", total)\n",
        "\n",
        "print(\"The size of the list is\", len(y))\n",
        "\n",
        "print(\"The average of y is\", total/len(y))"
      ],
      "metadata": {
        "colab": {
          "base_uri": "https://localhost:8080/"
        },
        "id": "8Jr-WFTqgepk",
        "outputId": "d9d893c7-340e-44e9-8cd0-65cee0383bce"
      },
      "execution_count": 8,
      "outputs": [
        {
          "output_type": "stream",
          "name": "stdout",
          "text": [
            "Sum of y = 24.4\n",
            "The size of the list is 5\n",
            "The average of y is 4.88\n"
          ]
        }
      ]
    },
    {
      "cell_type": "code",
      "source": [
        "years_list[0]"
      ],
      "metadata": {
        "colab": {
          "base_uri": "https://localhost:8080/",
          "height": 35
        },
        "id": "TtJlnibBhv5F",
        "outputId": "7490e486-5a44-415e-df90-e71ed4943e7f"
      },
      "execution_count": 9,
      "outputs": [
        {
          "output_type": "execute_result",
          "data": {
            "text/plain": [
              "'1/11/1997'"
            ],
            "application/vnd.google.colaboratory.intrinsic+json": {
              "type": "string"
            }
          },
          "metadata": {},
          "execution_count": 9
        }
      ]
    },
    {
      "cell_type": "code",
      "source": [
        "years_list[2]"
      ],
      "metadata": {
        "colab": {
          "base_uri": "https://localhost:8080/",
          "height": 35
        },
        "id": "D7AvTIwliOt8",
        "outputId": "86a7821e-68c7-45cc-b32a-8aee7d468688"
      },
      "execution_count": 10,
      "outputs": [
        {
          "output_type": "execute_result",
          "data": {
            "text/plain": [
              "'2000'"
            ],
            "application/vnd.google.colaboratory.intrinsic+json": {
              "type": "string"
            }
          },
          "metadata": {},
          "execution_count": 10
        }
      ]
    },
    {
      "cell_type": "markdown",
      "source": [
        "## Approach 01 - Drop Problem Data Element"
      ],
      "metadata": {
        "id": "OhgBB05Ur1CT"
      }
    },
    {
      "cell_type": "code",
      "source": [
        "abandoned = years_list.pop(0)\n",
        "years_list"
      ],
      "metadata": {
        "colab": {
          "base_uri": "https://localhost:8080/"
        },
        "id": "T2YasYRAiZEH",
        "outputId": "7c44cfc4-605b-4017-e77e-ab588b047b19"
      },
      "execution_count": 11,
      "outputs": [
        {
          "output_type": "execute_result",
          "data": {
            "text/plain": [
              "['1991',\n",
              " '2000',\n",
              " '1969',\n",
              " '1999',\n",
              " '1998',\n",
              " '1993',\n",
              " '1996',\n",
              " '1999',\n",
              " '1997',\n",
              " '1996',\n",
              " '1998',\n",
              " '1995',\n",
              " '1999',\n",
              " '1999',\n",
              " '1997',\n",
              " '1996',\n",
              " '1996',\n",
              " '1997',\n",
              " '1995',\n",
              " '1997',\n",
              " '1999',\n",
              " '2000']"
            ]
          },
          "metadata": {},
          "execution_count": 11
        }
      ]
    },
    {
      "cell_type": "code",
      "source": [
        "from datetime import date\n",
        "\n",
        "current_year = date.today().year\n",
        "print(current_year)\n",
        "\n",
        "total = 0\n",
        "for birth_year in years_list:\n",
        "    age = current_year - int(birth_year)\n",
        "    total += age\n",
        "\n",
        "print(\"total age is\", total)"
      ],
      "metadata": {
        "colab": {
          "base_uri": "https://localhost:8080/"
        },
        "id": "ER8RW8BOkKo8",
        "outputId": "cc3825f8-41a5-450c-f2bf-9303c53f980d"
      },
      "execution_count": 12,
      "outputs": [
        {
          "output_type": "stream",
          "name": "stdout",
          "text": [
            "2022\n",
            "total age is 578\n"
          ]
        }
      ]
    },
    {
      "cell_type": "code",
      "source": [
        "average_age = total / len(years_list)\n",
        "\n",
        "print(\"average age =\", average_age)"
      ],
      "metadata": {
        "colab": {
          "base_uri": "https://localhost:8080/"
        },
        "id": "v7_M_uyymnZ9",
        "outputId": "82125e66-2b11-413c-a533-50d7b243a46d"
      },
      "execution_count": 13,
      "outputs": [
        {
          "output_type": "stream",
          "name": "stdout",
          "text": [
            "average age = 26.272727272727273\n"
          ]
        }
      ]
    },
    {
      "cell_type": "markdown",
      "source": [
        "## Approach 02 - Fix Data Problem"
      ],
      "metadata": {
        "id": "yFsoX-YbrqZO"
      }
    },
    {
      "cell_type": "code",
      "execution_count": 14,
      "metadata": {
        "colab": {
          "base_uri": "https://localhost:8080/"
        },
        "outputId": "a2a0eb08-7df6-4671-f76c-9e74ed412c17",
        "id": "inRPmKo_sE5v"
      },
      "outputs": [
        {
          "output_type": "stream",
          "name": "stdout",
          "text": [
            "Birth Years of Students 1/11/1997 1991 2000 1969 1999 1998 1993 1996 1999 1997 1996 1998 1995 1999 1999 1997 1996 1996 1997 1995 1997 1999 2000\n"
          ]
        }
      ],
      "source": [
        "years = \"1/11/1997 1991 2000 1969 1999 1998 1993 1996 1999 1997 1996 1998 1995 1999 1999 1997 1996 1996 1997 1995 1997 1999 2000\"\n",
        "\n",
        "print(\"Birth Years of Students\", years)"
      ]
    },
    {
      "cell_type": "code",
      "source": [
        "years_list = years.split()\n",
        "print(years_list)"
      ],
      "metadata": {
        "colab": {
          "base_uri": "https://localhost:8080/"
        },
        "id": "zYG_yuMusIBW",
        "outputId": "bbfecaca-c7fe-4726-92aa-47942418eee4"
      },
      "execution_count": 15,
      "outputs": [
        {
          "output_type": "stream",
          "name": "stdout",
          "text": [
            "['1/11/1997', '1991', '2000', '1969', '1999', '1998', '1993', '1996', '1999', '1997', '1996', '1998', '1995', '1999', '1999', '1997', '1996', '1996', '1997', '1995', '1997', '1999', '2000']\n"
          ]
        }
      ]
    },
    {
      "cell_type": "code",
      "source": [
        "years_list[0] = \"1997\"\n",
        "print(years_list)"
      ],
      "metadata": {
        "colab": {
          "base_uri": "https://localhost:8080/"
        },
        "id": "kZa7I-FFsTon",
        "outputId": "e3fe0370-c373-4ab3-a707-ddd15e6752ff"
      },
      "execution_count": 16,
      "outputs": [
        {
          "output_type": "stream",
          "name": "stdout",
          "text": [
            "['1997', '1991', '2000', '1969', '1999', '1998', '1993', '1996', '1999', '1997', '1996', '1998', '1995', '1999', '1999', '1997', '1996', '1996', '1997', '1995', '1997', '1999', '2000']\n"
          ]
        }
      ]
    },
    {
      "cell_type": "code",
      "source": [
        "# x = \"I don't like to write papers.\"\n",
        "y = 'I prefer double quote\"\"'\n",
        "y"
      ],
      "metadata": {
        "colab": {
          "base_uri": "https://localhost:8080/",
          "height": 35
        },
        "id": "svelmqnJszg1",
        "outputId": "68e49b47-603a-400d-b90b-dd8f5ea9f5cd"
      },
      "execution_count": 17,
      "outputs": [
        {
          "output_type": "execute_result",
          "data": {
            "text/plain": [
              "'I prefer double quote\"\"'"
            ],
            "application/vnd.google.colaboratory.intrinsic+json": {
              "type": "string"
            }
          },
          "metadata": {},
          "execution_count": 17
        }
      ]
    },
    {
      "cell_type": "code",
      "source": [
        "from datetime import date\n",
        "\n",
        "current_year = date.today().year\n",
        "print(current_year)\n",
        "\n",
        "total = 0\n",
        "for birth_year in years_list:\n",
        "    age = current_year - int(birth_year)\n",
        "    total += age\n",
        "\n",
        "print(\"total age is\", total)"
      ],
      "metadata": {
        "colab": {
          "base_uri": "https://localhost:8080/"
        },
        "id": "VTO0s2GYtvpf",
        "outputId": "05817d21-7527-474b-df03-0e94b8c8e973"
      },
      "execution_count": 18,
      "outputs": [
        {
          "output_type": "stream",
          "name": "stdout",
          "text": [
            "2022\n",
            "total age is 603\n"
          ]
        }
      ]
    },
    {
      "cell_type": "code",
      "source": [
        "average_age = total / len(years_list)\n",
        "\n",
        "print(\"average age =\", average_age)"
      ],
      "metadata": {
        "colab": {
          "base_uri": "https://localhost:8080/"
        },
        "id": "2Ump4Xart3hr",
        "outputId": "65a5e003-5301-41fa-fb67-8777217bf440"
      },
      "execution_count": 19,
      "outputs": [
        {
          "output_type": "stream",
          "name": "stdout",
          "text": [
            "average age = 26.217391304347824\n"
          ]
        }
      ]
    },
    {
      "cell_type": "markdown",
      "source": [
        "## Approach 03 - Handle Exception\n",
        "\n",
        "We don't fix the data issue."
      ],
      "metadata": {
        "id": "qsSJZV4quFGV"
      }
    },
    {
      "cell_type": "code",
      "source": [
        "# Prepare Data for calculation\n",
        "\n",
        "years = \"1/11/1997 1991 2000xx 1969 1999er 1998 1993 1906 1999 2015 1996 1998 1995 1999 1999 1997 1996 1996 1997 1995 1997 1999 2000\"\n",
        "\n",
        "print(\"Birth Years of Students\", years)\n",
        "\n",
        "years_list = years.split()\n",
        "print(years_list)\n"
      ],
      "metadata": {
        "colab": {
          "base_uri": "https://localhost:8080/"
        },
        "id": "c7E9dmqgutCx",
        "outputId": "a836e508-f1b9-4fa4-e97e-8042877feb0b"
      },
      "execution_count": 20,
      "outputs": [
        {
          "output_type": "stream",
          "name": "stdout",
          "text": [
            "Birth Years of Students 1/11/1997 1991 2000xx 1969 1999er 1998 1993 1906 1999 2015 1996 1998 1995 1999 1999 1997 1996 1996 1997 1995 1997 1999 2000\n",
            "['1/11/1997', '1991', '2000xx', '1969', '1999er', '1998', '1993', '1906', '1999', '2015', '1996', '1998', '1995', '1999', '1999', '1997', '1996', '1996', '1997', '1995', '1997', '1999', '2000']\n"
          ]
        }
      ]
    },
    {
      "cell_type": "code",
      "source": [
        "from datetime import date\n",
        "\n",
        "current_year = date.today().year\n",
        "print(current_year)\n",
        "\n",
        "total = 0\n",
        "count = 0\n",
        "for birth_year in years_list:\n",
        "    \n",
        "    try:\n",
        "        year_int = int(birth_year)\n",
        "    except:\n",
        "        continue\n",
        "\n",
        "    age = current_year - year_int\n",
        "\n",
        "    if age > 80:\n",
        "        print(\"skipping this person age > 80:\", age)\n",
        "        continue\n",
        "    elif age < 10:\n",
        "        print(\"skipping this kid:\", age)\n",
        "        continue\n",
        "\n",
        "    total += age\n",
        "    count += 1\n",
        "\n",
        "print(\"total age is\", total)\n",
        "print(\"number of students is\", count)"
      ],
      "metadata": {
        "colab": {
          "base_uri": "https://localhost:8080/"
        },
        "id": "K9akr4yAuNSR",
        "outputId": "96f08b70-60e3-49d4-b156-de9b20616e2c"
      },
      "execution_count": 25,
      "outputs": [
        {
          "output_type": "stream",
          "name": "stdout",
          "text": [
            "2022\n",
            "skipping this person age > 80: 116\n",
            "skipping this kid: 7\n",
            "total age is 482\n",
            "number of students is 18\n"
          ]
        }
      ]
    },
    {
      "cell_type": "code",
      "source": [
        "average_age = total / count\n",
        "\n",
        "print(\"average age =\", average_age)"
      ],
      "metadata": {
        "colab": {
          "base_uri": "https://localhost:8080/"
        },
        "id": "YDIeS9mtwZiw",
        "outputId": "ddae51a5-382d-42f3-a287-a5f14c53164a"
      },
      "execution_count": 22,
      "outputs": [
        {
          "output_type": "stream",
          "name": "stdout",
          "text": [
            "average age = 26.77777777777778\n"
          ]
        }
      ]
    },
    {
      "cell_type": "markdown",
      "source": [
        "## Miscellaneous"
      ],
      "metadata": {
        "id": "1AmgBgQnyQMX"
      }
    },
    {
      "cell_type": "code",
      "source": [
        "count = 0\n",
        "while True:\n",
        "\n",
        "    if count == 3:\n",
        "        break\n",
        "\n",
        "    try:\n",
        "        x = int(input(\"Enter an integer:\"))\n",
        "        count += 1\n",
        "    except:\n",
        "        print(\"You need to enter and integer.  Please try again.\")"
      ],
      "metadata": {
        "colab": {
          "base_uri": "https://localhost:8080/"
        },
        "id": "jzOKZ4-yyVQj",
        "outputId": "fc15696d-d57f-44b3-b041-9db9d79d3423"
      },
      "execution_count": 26,
      "outputs": [
        {
          "name": "stdout",
          "output_type": "stream",
          "text": [
            "Enter an integer:5768\n",
            "Enter an integer:3242\n",
            "Enter an integer:23424\n"
          ]
        }
      ]
    },
    {
      "cell_type": "code",
      "source": [
        "x"
      ],
      "metadata": {
        "colab": {
          "base_uri": "https://localhost:8080/"
        },
        "id": "fbINZm_3yh9g",
        "outputId": "d552e9f8-bcbf-493a-e74d-188d9d54cd33"
      },
      "execution_count": 27,
      "outputs": [
        {
          "output_type": "execute_result",
          "data": {
            "text/plain": [
              "23424"
            ]
          },
          "metadata": {},
          "execution_count": 27
        }
      ]
    }
  ]
}