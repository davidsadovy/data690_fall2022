{
  "nbformat": 4,
  "nbformat_minor": 0,
  "metadata": {
    "colab": {
      "provenance": [],
      "authorship_tag": "ABX9TyPSF40jmTPDLznvfX0WhtZQ",
      "include_colab_link": true
    },
    "kernelspec": {
      "name": "python3",
      "display_name": "Python 3"
    },
    "language_info": {
      "name": "python"
    }
  },
  "cells": [
    {
      "cell_type": "markdown",
      "metadata": {
        "id": "view-in-github",
        "colab_type": "text"
      },
      "source": [
        "<a href=\"https://colab.research.google.com/github/davidsadovy/data690_fall2022/blob/main/assignment_02/data690_session02.ipynb\" target=\"_parent\"><img src=\"https://colab.research.google.com/assets/colab-badge.svg\" alt=\"Open In Colab\"/></a>"
      ]
    },
    {
      "cell_type": "markdown",
      "source": [
        " # DATA 690 Session 02\n",
        " - Date: 09/08/2022\n",
        " - Name: Dave Sadovy "
      ],
      "metadata": {
        "id": "tq15wuNYcrgB"
      }
    },
    {
      "cell_type": "code",
      "execution_count": 31,
      "metadata": {
        "colab": {
          "base_uri": "https://localhost:8080/"
        },
        "id": "xo3jsm2vckws",
        "outputId": "a3b43d87-6452-4a6f-d9d8-aab8df19b878"
      },
      "outputs": [
        {
          "output_type": "stream",
          "name": "stdout",
          "text": [
            "Birth Years of Students 1/11/1997 1991 2000 1969 1999 1998 1993 1996 1999 1997 1996 1998 1995 1999 1999 1997 1996 1996 1997 1995 1997 1999 2000\n"
          ]
        }
      ],
      "source": [
        "years = \"1/11/1997 1991 2000 1969 1999 1998 1993 1996 1999 1997 1996 1998 1995 1999 1999 1997 1996 1996 1997 1995 1997 1999 2000\"\n",
        "\n",
        "print(\"Birth Years of Students\", years)"
      ]
    },
    {
      "cell_type": "code",
      "source": [
        "type(True)"
      ],
      "metadata": {
        "colab": {
          "base_uri": "https://localhost:8080/"
        },
        "id": "qCH_fc7Ydm-8",
        "outputId": "73213acc-8d99-4573-bef9-51db8d5bb3e9"
      },
      "execution_count": 32,
      "outputs": [
        {
          "output_type": "execute_result",
          "data": {
            "text/plain": [
              "bool"
            ]
          },
          "metadata": {},
          "execution_count": 32
        }
      ]
    },
    {
      "cell_type": "code",
      "source": [
        "years_list = years.split(\" \")\n",
        "print(years_list)"
      ],
      "metadata": {
        "colab": {
          "base_uri": "https://localhost:8080/"
        },
        "id": "Wuqv0WgsfVk5",
        "outputId": "a50fafb0-d7c8-446e-da00-7f9f943dc1a7"
      },
      "execution_count": 33,
      "outputs": [
        {
          "output_type": "stream",
          "name": "stdout",
          "text": [
            "['1/11/1997', '1991', '2000', '1969', '1999', '1998', '1993', '1996', '1999', '1997', '1996', '1998', '1995', '1999', '1999', '1997', '1996', '1996', '1997', '1995', '1997', '1999', '2000']\n"
          ]
        }
      ]
    },
    {
      "cell_type": "code",
      "source": [
        "x = [\"Jay\", \"James\", \"Jayson\", \"Libin\"]\n",
        "type(x)"
      ],
      "metadata": {
        "colab": {
          "base_uri": "https://localhost:8080/"
        },
        "id": "xqi8dxYyf2Yx",
        "outputId": "759def41-9012-4e3f-89a7-ce1c9e6f5a31"
      },
      "execution_count": 34,
      "outputs": [
        {
          "output_type": "execute_result",
          "data": {
            "text/plain": [
              "list"
            ]
          },
          "metadata": {},
          "execution_count": 34
        }
      ]
    },
    {
      "cell_type": "code",
      "source": [
        "y = [2.4, 12, -7, 11, 6]\n",
        "\n",
        "type(y)"
      ],
      "metadata": {
        "colab": {
          "base_uri": "https://localhost:8080/"
        },
        "id": "FCg_n3RCgO20",
        "outputId": "4d4f3df2-227f-4794-96a0-04709370c919"
      },
      "execution_count": 35,
      "outputs": [
        {
          "output_type": "execute_result",
          "data": {
            "text/plain": [
              "list"
            ]
          },
          "metadata": {},
          "execution_count": 35
        }
      ]
    },
    {
      "cell_type": "code",
      "source": [
        "total = 0\n",
        "for number in y:\n",
        "    total += number\n",
        "\n",
        "print(\"Sum of y =\", total)\n",
        "\n",
        "print(\"The size of the list is\", len(y))\n",
        "\n",
        "print(\"The average of y is\", total/len(y))"
      ],
      "metadata": {
        "colab": {
          "base_uri": "https://localhost:8080/"
        },
        "id": "8Jr-WFTqgepk",
        "outputId": "7510c550-9554-43a5-8db1-df77c3b692a1"
      },
      "execution_count": 36,
      "outputs": [
        {
          "output_type": "stream",
          "name": "stdout",
          "text": [
            "Sum of y = 24.4\n",
            "The size of the list is 5\n",
            "The average of y is 4.88\n"
          ]
        }
      ]
    },
    {
      "cell_type": "code",
      "source": [
        "years_list[0]"
      ],
      "metadata": {
        "colab": {
          "base_uri": "https://localhost:8080/",
          "height": 35
        },
        "id": "TtJlnibBhv5F",
        "outputId": "a49df1a3-5945-40df-c95e-180e26ff93b6"
      },
      "execution_count": 37,
      "outputs": [
        {
          "output_type": "execute_result",
          "data": {
            "text/plain": [
              "'1/11/1997'"
            ],
            "application/vnd.google.colaboratory.intrinsic+json": {
              "type": "string"
            }
          },
          "metadata": {},
          "execution_count": 37
        }
      ]
    },
    {
      "cell_type": "code",
      "source": [
        "years_list[2]"
      ],
      "metadata": {
        "colab": {
          "base_uri": "https://localhost:8080/",
          "height": 35
        },
        "id": "D7AvTIwliOt8",
        "outputId": "07e6dc42-5e76-40a4-e561-a43b504ce8bd"
      },
      "execution_count": 38,
      "outputs": [
        {
          "output_type": "execute_result",
          "data": {
            "text/plain": [
              "'2000'"
            ],
            "application/vnd.google.colaboratory.intrinsic+json": {
              "type": "string"
            }
          },
          "metadata": {},
          "execution_count": 38
        }
      ]
    },
    {
      "cell_type": "markdown",
      "source": [
        "## Approach 01 - Drop problem data element"
      ],
      "metadata": {
        "id": "OhgBB05Ur1CT"
      }
    },
    {
      "cell_type": "code",
      "source": [
        "abandoned = years_list.pop(0)\n",
        "years_list"
      ],
      "metadata": {
        "colab": {
          "base_uri": "https://localhost:8080/"
        },
        "id": "T2YasYRAiZEH",
        "outputId": "626243ab-8b7c-486b-be0c-21998dd104de"
      },
      "execution_count": 39,
      "outputs": [
        {
          "output_type": "execute_result",
          "data": {
            "text/plain": [
              "['1991',\n",
              " '2000',\n",
              " '1969',\n",
              " '1999',\n",
              " '1998',\n",
              " '1993',\n",
              " '1996',\n",
              " '1999',\n",
              " '1997',\n",
              " '1996',\n",
              " '1998',\n",
              " '1995',\n",
              " '1999',\n",
              " '1999',\n",
              " '1997',\n",
              " '1996',\n",
              " '1996',\n",
              " '1997',\n",
              " '1995',\n",
              " '1997',\n",
              " '1999',\n",
              " '2000']"
            ]
          },
          "metadata": {},
          "execution_count": 39
        }
      ]
    },
    {
      "cell_type": "code",
      "source": [
        "from datetime import date\n",
        "\n",
        "current_year = date.today().year\n",
        "print(current_year)\n",
        "\n",
        "total = 0\n",
        "for birth_year in years_list:\n",
        "    age = current_year - int(birth_year)\n",
        "    total += age\n",
        "\n",
        "print(\"total age is\", total)"
      ],
      "metadata": {
        "colab": {
          "base_uri": "https://localhost:8080/"
        },
        "id": "ER8RW8BOkKo8",
        "outputId": "2896765c-1f33-4fac-e09f-1a0689c64f75"
      },
      "execution_count": 40,
      "outputs": [
        {
          "output_type": "stream",
          "name": "stdout",
          "text": [
            "2022\n",
            "total age is 578\n"
          ]
        }
      ]
    },
    {
      "cell_type": "code",
      "source": [
        "average_age = total / len(years_list)\n",
        "\n",
        "print(\"average age =\", average_age)"
      ],
      "metadata": {
        "colab": {
          "base_uri": "https://localhost:8080/"
        },
        "id": "v7_M_uyymnZ9",
        "outputId": "54777c8a-256e-4118-f983-f4f6c52143ba"
      },
      "execution_count": 41,
      "outputs": [
        {
          "output_type": "stream",
          "name": "stdout",
          "text": [
            "average age = 26.272727272727273\n"
          ]
        }
      ]
    },
    {
      "cell_type": "markdown",
      "source": [
        "## Approach 02 - fix data problem"
      ],
      "metadata": {
        "id": "yFsoX-YbrqZO"
      }
    },
    {
      "cell_type": "code",
      "execution_count": 42,
      "metadata": {
        "colab": {
          "base_uri": "https://localhost:8080/"
        },
        "outputId": "d04202ae-d67f-40d4-f1dc-5043828b0ad7",
        "id": "inRPmKo_sE5v"
      },
      "outputs": [
        {
          "output_type": "stream",
          "name": "stdout",
          "text": [
            "Birth Years of Students 1/11/1997 1991 2000 1969 1999 1998 1993 1996 1999 1997 1996 1998 1995 1999 1999 1997 1996 1996 1997 1995 1997 1999 2000\n"
          ]
        }
      ],
      "source": [
        "years = \"1/11/1997 1991 2000 1969 1999 1998 1993 1996 1999 1997 1996 1998 1995 1999 1999 1997 1996 1996 1997 1995 1997 1999 2000\"\n",
        "\n",
        "print(\"Birth Years of Students\", years)"
      ]
    },
    {
      "cell_type": "code",
      "source": [
        "years_list = years.split()\n",
        "print(years_list)"
      ],
      "metadata": {
        "colab": {
          "base_uri": "https://localhost:8080/"
        },
        "id": "zYG_yuMusIBW",
        "outputId": "935f37f6-3cd5-4165-a3cd-35d52d26e7c8"
      },
      "execution_count": 43,
      "outputs": [
        {
          "output_type": "stream",
          "name": "stdout",
          "text": [
            "['1/11/1997', '1991', '2000', '1969', '1999', '1998', '1993', '1996', '1999', '1997', '1996', '1998', '1995', '1999', '1999', '1997', '1996', '1996', '1997', '1995', '1997', '1999', '2000']\n"
          ]
        }
      ]
    },
    {
      "cell_type": "code",
      "source": [
        "years_list[0] = \"1997\"\n",
        "print(years_list)"
      ],
      "metadata": {
        "colab": {
          "base_uri": "https://localhost:8080/"
        },
        "id": "kZa7I-FFsTon",
        "outputId": "3b4fb504-f6fc-4c43-a937-c640e81c3c96"
      },
      "execution_count": 45,
      "outputs": [
        {
          "output_type": "stream",
          "name": "stdout",
          "text": [
            "['1997', '1991', '2000', '1969', '1999', '1998', '1993', '1996', '1999', '1997', '1996', '1998', '1995', '1999', '1999', '1997', '1996', '1996', '1997', '1995', '1997', '1999', '2000']\n"
          ]
        }
      ]
    },
    {
      "cell_type": "code",
      "source": [
        "x = \"I don't like to write papers.\"\n",
        "y = 'I prefer double quote\"\"'\n",
        "y"
      ],
      "metadata": {
        "colab": {
          "base_uri": "https://localhost:8080/",
          "height": 35
        },
        "id": "svelmqnJszg1",
        "outputId": "70ad0a1a-330f-4593-83b7-96e867d8e68f"
      },
      "execution_count": 47,
      "outputs": [
        {
          "output_type": "execute_result",
          "data": {
            "text/plain": [
              "'I prefer double quote\"\"'"
            ],
            "application/vnd.google.colaboratory.intrinsic+json": {
              "type": "string"
            }
          },
          "metadata": {},
          "execution_count": 47
        }
      ]
    },
    {
      "cell_type": "code",
      "source": [
        "from datetime import date\n",
        "\n",
        "current_year = date.today().year\n",
        "print(current_year)\n",
        "\n",
        "total = 0\n",
        "for birth_year in years_list:\n",
        "    age = current_year - int(birth_year)\n",
        "    total += age\n",
        "\n",
        "print(\"total age is\", total)"
      ],
      "metadata": {
        "colab": {
          "base_uri": "https://localhost:8080/"
        },
        "id": "VTO0s2GYtvpf",
        "outputId": "97e8614d-2407-414e-a20e-8be2ddc3f52e"
      },
      "execution_count": 48,
      "outputs": [
        {
          "output_type": "stream",
          "name": "stdout",
          "text": [
            "2022\n",
            "total age is 603\n"
          ]
        }
      ]
    },
    {
      "cell_type": "code",
      "source": [
        "average_age = total / len(years_list)\n",
        "\n",
        "print(\"average age =\", average_age)"
      ],
      "metadata": {
        "colab": {
          "base_uri": "https://localhost:8080/"
        },
        "id": "2Ump4Xart3hr",
        "outputId": "03c3316f-235d-4aaf-cee6-c1a02c7e9229"
      },
      "execution_count": 49,
      "outputs": [
        {
          "output_type": "stream",
          "name": "stdout",
          "text": [
            "average age = 26.217391304347824\n"
          ]
        }
      ]
    },
    {
      "cell_type": "markdown",
      "source": [
        "# Approach 03 - Handle Exception\n",
        "\n",
        "We don't fix the data issue."
      ],
      "metadata": {
        "id": "qsSJZV4quFGV"
      }
    },
    {
      "cell_type": "code",
      "source": [
        "# Prepare Data for calculation\n",
        "\n",
        "years = \"1/11/1997 1991 2000xx 1969 1999er 1998 1993 1906 1999 2015 1996 1998 1995 1999 1999 1997 1996 1996 1997 1995 1997 1999 2000\"\n",
        "\n",
        "print(\"Birth Years of Students\", years)\n",
        "\n",
        "years_list = years.split()\n",
        "print(years_list)\n"
      ],
      "metadata": {
        "colab": {
          "base_uri": "https://localhost:8080/"
        },
        "id": "c7E9dmqgutCx",
        "outputId": "6ada7b96-c7e0-45d6-f760-26c2ac2feae6"
      },
      "execution_count": 73,
      "outputs": [
        {
          "output_type": "stream",
          "name": "stdout",
          "text": [
            "Birth Years of Students 1/11/1997 1991 2000xx 1969 1999er 1998 1993 1906 1999 2015 1996 1998 1995 1999 1999 1997 1996 1996 1997 1995 1997 1999 2000\n",
            "['1/11/1997', '1991', '2000xx', '1969', '1999er', '1998', '1993', '1906', '1999', '2015', '1996', '1998', '1995', '1999', '1999', '1997', '1996', '1996', '1997', '1995', '1997', '1999', '2000']\n"
          ]
        }
      ]
    },
    {
      "cell_type": "code",
      "source": [
        "from datetime import date\n",
        "\n",
        "current_year = date.today().year\n",
        "print(current_year)\n",
        "\n",
        "total = 0\n",
        "count = 0\n",
        "for birth_year in years_list:\n",
        "    \n",
        "    try:\n",
        "        year_int = int(birth_year)\n",
        "    except:\n",
        "        continue\n",
        "\n",
        "    age = current_year - year_int\n",
        "\n",
        "    if age > 80:\n",
        "        print(\"skipping this person, age > 80:\", age)\n",
        "        continue\n",
        "    elif age < 10:\n",
        "        print(\"skipping this kid:\", age)\n",
        "        continue\n",
        "\n",
        "    total += age\n",
        "    count += 1\n",
        "\n",
        "print(\"total age is\", total)\n",
        "print(\"number of students is\", count)"
      ],
      "metadata": {
        "colab": {
          "base_uri": "https://localhost:8080/"
        },
        "id": "K9akr4yAuNSR",
        "outputId": "5f7b99ec-3f3d-4ef0-e29f-e300ef3fa68e"
      },
      "execution_count": 74,
      "outputs": [
        {
          "output_type": "stream",
          "name": "stdout",
          "text": [
            "2022\n",
            "skipping this person, age > 80: 116\n",
            "skipping this kid: 7\n",
            "total age is 482\n",
            "number of students is 18\n"
          ]
        }
      ]
    },
    {
      "cell_type": "code",
      "source": [
        "average_age = total / count\n",
        "\n",
        "print(\"average age =\", average_age)"
      ],
      "metadata": {
        "colab": {
          "base_uri": "https://localhost:8080/"
        },
        "id": "YDIeS9mtwZiw",
        "outputId": "404a273e-402a-4d12-b0d9-e97dbcf04a8d"
      },
      "execution_count": 75,
      "outputs": [
        {
          "output_type": "stream",
          "name": "stdout",
          "text": [
            "average age = 26.77777777777778\n"
          ]
        }
      ]
    },
    {
      "cell_type": "markdown",
      "source": [
        "## Miscellaneous"
      ],
      "metadata": {
        "id": "1AmgBgQnyQMX"
      }
    },
    {
      "cell_type": "code",
      "source": [
        "count = 0\n",
        "while True:\n",
        "\n",
        "    if count == 3:\n",
        "        break\n",
        "\n",
        "    try:\n",
        "        x = int(input(\"Enter an integer:\"))\n",
        "        count += 1\n",
        "    except:\n",
        "        print(\"You need to enter and integer.  Please try again.\")"
      ],
      "metadata": {
        "colab": {
          "base_uri": "https://localhost:8080/"
        },
        "id": "jzOKZ4-yyVQj",
        "outputId": "4ac590ca-19d5-42aa-8b0c-00a74b4d1259"
      },
      "execution_count": 1,
      "outputs": [
        {
          "name": "stdout",
          "output_type": "stream",
          "text": [
            "Enter an integer:1\n",
            "Enter an integer:a\n",
            "You need to enter and integer.  Please try again.\n",
            "Enter an integer:2\n",
            "Enter an integer:l\n",
            "You need to enter and integer.  Please try again.\n",
            "Enter an integer:3\n"
          ]
        }
      ]
    },
    {
      "cell_type": "code",
      "source": [
        "x"
      ],
      "metadata": {
        "colab": {
          "base_uri": "https://localhost:8080/"
        },
        "id": "fbINZm_3yh9g",
        "outputId": "df714e7b-98f3-4fe3-a0ec-02a84ae922c1"
      },
      "execution_count": 2,
      "outputs": [
        {
          "output_type": "execute_result",
          "data": {
            "text/plain": [
              "3"
            ]
          },
          "metadata": {},
          "execution_count": 2
        }
      ]
    }
  ]
}