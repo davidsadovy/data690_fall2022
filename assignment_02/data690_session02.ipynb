{
  "nbformat": 4,
  "nbformat_minor": 0,
  "metadata": {
    "colab": {
      "provenance": [],
      "authorship_tag": "ABX9TyNFPe+ZCkCSejuwmW9Hc5Ql",
      "include_colab_link": true
    },
    "kernelspec": {
      "name": "python3",
      "display_name": "Python 3"
    },
    "language_info": {
      "name": "python"
    }
  },
  "cells": [
    {
      "cell_type": "markdown",
      "metadata": {
        "id": "view-in-github",
        "colab_type": "text"
      },
      "source": [
        "<a href=\"https://colab.research.google.com/github/davidsadovy/data690_fall2022/blob/main/assignment_02/data690_session02.ipynb\" target=\"_parent\"><img src=\"https://colab.research.google.com/assets/colab-badge.svg\" alt=\"Open In Colab\"/></a>"
      ]
    },
    {
      "cell_type": "markdown",
      "source": [
        " # DATA 690 Session 02\n",
        " - Date: 09/08/2022\n",
        " - Name: Dave Sadovy "
      ],
      "metadata": {
        "id": "tq15wuNYcrgB"
      }
    },
    {
      "cell_type": "code",
      "execution_count": 31,
      "metadata": {
        "colab": {
          "base_uri": "https://localhost:8080/"
        },
        "id": "xo3jsm2vckws",
        "outputId": "a3b43d87-6452-4a6f-d9d8-aab8df19b878"
      },
      "outputs": [
        {
          "output_type": "stream",
          "name": "stdout",
          "text": [
            "Birth Years of Students 1/11/1997 1991 2000 1969 1999 1998 1993 1996 1999 1997 1996 1998 1995 1999 1999 1997 1996 1996 1997 1995 1997 1999 2000\n"
          ]
        }
      ],
      "source": [
        "years = \"1/11/1997 1991 2000 1969 1999 1998 1993 1996 1999 1997 1996 1998 1995 1999 1999 1997 1996 1996 1997 1995 1997 1999 2000\"\n",
        "\n",
        "print(\"Birth Years of Students\", years)"
      ]
    },
    {
      "cell_type": "code",
      "source": [
        "type(True)"
      ],
      "metadata": {
        "colab": {
          "base_uri": "https://localhost:8080/"
        },
        "id": "qCH_fc7Ydm-8",
        "outputId": "73213acc-8d99-4573-bef9-51db8d5bb3e9"
      },
      "execution_count": 32,
      "outputs": [
        {
          "output_type": "execute_result",
          "data": {
            "text/plain": [
              "bool"
            ]
          },
          "metadata": {},
          "execution_count": 32
        }
      ]
    },
    {
      "cell_type": "code",
      "source": [
        "years_list = years.split(\" \")\n",
        "print(years_list)"
      ],
      "metadata": {
        "colab": {
          "base_uri": "https://localhost:8080/"
        },
        "id": "Wuqv0WgsfVk5",
        "outputId": "a50fafb0-d7c8-446e-da00-7f9f943dc1a7"
      },
      "execution_count": 33,
      "outputs": [
        {
          "output_type": "stream",
          "name": "stdout",
          "text": [
            "['1/11/1997', '1991', '2000', '1969', '1999', '1998', '1993', '1996', '1999', '1997', '1996', '1998', '1995', '1999', '1999', '1997', '1996', '1996', '1997', '1995', '1997', '1999', '2000']\n"
          ]
        }
      ]
    },
    {
      "cell_type": "code",
      "source": [
        "x = [\"Jay\", \"James\", \"Jayson\", \"Libin\"]\n",
        "type(x)"
      ],
      "metadata": {
        "colab": {
          "base_uri": "https://localhost:8080/"
        },
        "id": "xqi8dxYyf2Yx",
        "outputId": "759def41-9012-4e3f-89a7-ce1c9e6f5a31"
      },
      "execution_count": 34,
      "outputs": [
        {
          "output_type": "execute_result",
          "data": {
            "text/plain": [
              "list"
            ]
          },
          "metadata": {},
          "execution_count": 34
        }
      ]
    },
    {
      "cell_type": "code",
      "source": [
        "y = [2.4, 12, -7, 11, 6]\n",
        "\n",
        "type(y)"
      ],
      "metadata": {
        "colab": {
          "base_uri": "https://localhost:8080/"
        },
        "id": "FCg_n3RCgO20",
        "outputId": "4d4f3df2-227f-4794-96a0-04709370c919"
      },
      "execution_count": 35,
      "outputs": [
        {
          "output_type": "execute_result",
          "data": {
            "text/plain": [
              "list"
            ]
          },
          "metadata": {},
          "execution_count": 35
        }
      ]
    },
    {
      "cell_type": "code",
      "source": [
        "total = 0\n",
        "for number in y:\n",
        "    total += number\n",
        "\n",
        "print(\"Sum of y =\", total)\n",
        "\n",
        "print(\"The size of the list is\", len(y))\n",
        "\n",
        "print(\"The average of y is\", total/len(y))"
      ],
      "metadata": {
        "colab": {
          "base_uri": "https://localhost:8080/"
        },
        "id": "8Jr-WFTqgepk",
        "outputId": "7510c550-9554-43a5-8db1-df77c3b692a1"
      },
      "execution_count": 36,
      "outputs": [
        {
          "output_type": "stream",
          "name": "stdout",
          "text": [
            "Sum of y = 24.4\n",
            "The size of the list is 5\n",
            "The average of y is 4.88\n"
          ]
        }
      ]
    },
    {
      "cell_type": "code",
      "source": [
        "years_list[0]"
      ],
      "metadata": {
        "colab": {
          "base_uri": "https://localhost:8080/",
          "height": 35
        },
        "id": "TtJlnibBhv5F",
        "outputId": "a49df1a3-5945-40df-c95e-180e26ff93b6"
      },
      "execution_count": 37,
      "outputs": [
        {
          "output_type": "execute_result",
          "data": {
            "text/plain": [
              "'1/11/1997'"
            ],
            "application/vnd.google.colaboratory.intrinsic+json": {
              "type": "string"
            }
          },
          "metadata": {},
          "execution_count": 37
        }
      ]
    },
    {
      "cell_type": "code",
      "source": [
        "years_list[2]"
      ],
      "metadata": {
        "colab": {
          "base_uri": "https://localhost:8080/",
          "height": 35
        },
        "id": "D7AvTIwliOt8",
        "outputId": "07e6dc42-5e76-40a4-e561-a43b504ce8bd"
      },
      "execution_count": 38,
      "outputs": [
        {
          "output_type": "execute_result",
          "data": {
            "text/plain": [
              "'2000'"
            ],
            "application/vnd.google.colaboratory.intrinsic+json": {
              "type": "string"
            }
          },
          "metadata": {},
          "execution_count": 38
        }
      ]
    },
    {
      "cell_type": "code",
      "source": [
        "abandoned = years_list.pop(0)\n",
        "years_list"
      ],
      "metadata": {
        "colab": {
          "base_uri": "https://localhost:8080/"
        },
        "id": "T2YasYRAiZEH",
        "outputId": "626243ab-8b7c-486b-be0c-21998dd104de"
      },
      "execution_count": 39,
      "outputs": [
        {
          "output_type": "execute_result",
          "data": {
            "text/plain": [
              "['1991',\n",
              " '2000',\n",
              " '1969',\n",
              " '1999',\n",
              " '1998',\n",
              " '1993',\n",
              " '1996',\n",
              " '1999',\n",
              " '1997',\n",
              " '1996',\n",
              " '1998',\n",
              " '1995',\n",
              " '1999',\n",
              " '1999',\n",
              " '1997',\n",
              " '1996',\n",
              " '1996',\n",
              " '1997',\n",
              " '1995',\n",
              " '1997',\n",
              " '1999',\n",
              " '2000']"
            ]
          },
          "metadata": {},
          "execution_count": 39
        }
      ]
    },
    {
      "cell_type": "code",
      "source": [
        "from datetime import date\n",
        "\n",
        "current_year = date.today().year\n",
        "print(current_year)\n",
        "\n",
        "total = 0\n",
        "for birth_year in years_list:\n",
        "    age = current_year - int(birth_year)\n",
        "    total += age\n",
        "\n",
        "print(\"total age is\", total)"
      ],
      "metadata": {
        "colab": {
          "base_uri": "https://localhost:8080/"
        },
        "id": "ER8RW8BOkKo8",
        "outputId": "2896765c-1f33-4fac-e09f-1a0689c64f75"
      },
      "execution_count": 40,
      "outputs": [
        {
          "output_type": "stream",
          "name": "stdout",
          "text": [
            "2022\n",
            "total age is 578\n"
          ]
        }
      ]
    },
    {
      "cell_type": "code",
      "source": [
        "average_age = total / len(years_list)\n",
        "\n",
        "print(\"average age =\", average_age)"
      ],
      "metadata": {
        "colab": {
          "base_uri": "https://localhost:8080/"
        },
        "id": "v7_M_uyymnZ9",
        "outputId": "54777c8a-256e-4118-f983-f4f6c52143ba"
      },
      "execution_count": 41,
      "outputs": [
        {
          "output_type": "stream",
          "name": "stdout",
          "text": [
            "average age = 26.272727272727273\n"
          ]
        }
      ]
    }
  ]
}