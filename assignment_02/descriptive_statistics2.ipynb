{
  "nbformat": 4,
  "nbformat_minor": 0,
  "metadata": {
    "colab": {
      "provenance": [],
      "authorship_tag": "ABX9TyP4nFl0q9jeOn9JQjoiTTL+",
      "include_colab_link": true
    },
    "kernelspec": {
      "name": "python3",
      "display_name": "Python 3"
    },
    "language_info": {
      "name": "python"
    }
  },
  "cells": [
    {
      "cell_type": "markdown",
      "metadata": {
        "id": "view-in-github",
        "colab_type": "text"
      },
      "source": [
        "<a href=\"https://colab.research.google.com/github/davidsadovy/data690_fall2022/blob/main/assignment_02/descriptive_statistics2.ipynb\" target=\"_parent\"><img src=\"https://colab.research.google.com/assets/colab-badge.svg\" alt=\"Open In Colab\"/></a>"
      ]
    },
    {
      "cell_type": "markdown",
      "source": [
        "1. Hard code number of integers wanted, provide instructions to user, and prepare empty list to accept input."
      ],
      "metadata": {
        "id": "gDrMyCOpkjtp"
      }
    },
    {
      "cell_type": "code",
      "source": [
        "COUNT = 10   # allows the size of the list of integers to be changed easily\n",
        "\n",
        "# print user instructions\n",
        "print(\"I would like you to enter exactly \" + str(COUNT) + \" integers. I will \"\n",
        "      \"prompt you to enter them one at a time. Please note that other types of \"\n",
        "      \"input are not permitted. I will then calculate and display a summary \"\n",
        "      \"of descriptive statistics for your input.\")\n",
        "\n",
        "integer_list = []   # initialize empty list to hold integers"
      ],
      "metadata": {
        "colab": {
          "base_uri": "https://localhost:8080/"
        },
        "id": "j0JP0StYkdZ5",
        "outputId": "92beb663-ffd0-4ee5-d286-64ac925150f9"
      },
      "execution_count": 34,
      "outputs": [
        {
          "output_type": "stream",
          "name": "stdout",
          "text": [
            "I would like you to enter exactly 10 integers. I will prompt you to enter them one at a time. Please note that other types of input are not permitted. I will then calculate and display a summary of descriptive statistics for your input.\n"
          ]
        }
      ]
    },
    {
      "cell_type": "markdown",
      "source": [
        "2. Loop the specified number of times, prompting for integer input and validating that user inputs only integers."
      ],
      "metadata": {
        "id": "syUyjnTPlNyg"
      }
    },
    {
      "cell_type": "code",
      "execution_count": 35,
      "metadata": {
        "colab": {
          "base_uri": "https://localhost:8080/"
        },
        "id": "hSR4myZxfI_Y",
        "outputId": "39d1dbb2-ad9c-4461-db8f-55dbeac7b4c2"
      },
      "outputs": [
        {
          "output_type": "stream",
          "name": "stdout",
          "text": [
            "Please enter integer number 1 of 10:  8\n",
            "Please enter integer number 2 of 10:  5\n",
            "Please enter integer number 3 of 10:  2\n",
            "Please enter integer number 4 of 10:  3\n",
            "Please enter integer number 5 of 10:  6\n",
            "Please enter integer number 6 of 10:  9\n",
            "Please enter integer number 7 of 10:  0\n",
            "Please enter integer number 8 of 10:  1\n",
            "Please enter integer number 9 of 10:  4\n",
            "Please enter integer number 10 of 10:  7\n",
            "Here is the list of  10 integers that you entered:   [8, 5, 2, 3, 6, 9, 0, 1, 4, 7]\n"
          ]
        }
      ],
      "source": [
        "# loop the specified number of times to accept input\n",
        "for i in range(COUNT):   \n",
        "\n",
        "    # infinite loop \n",
        "    while True:\n",
        "\n",
        "        # prompt for input and assign to variable\n",
        "        x = input(f\"Please enter integer number {i+1} of {COUNT}:  \")\n",
        "\n",
        "        # handle exceptions\n",
        "        try:\n",
        "            y = int(x)\n",
        "\n",
        "            # append good input to the list of integers\n",
        "            integer_list.append(y)\n",
        "            break\n",
        "\n",
        "        except:\n",
        "            # tell user what is wrong\n",
        "            print(\"You entered: \", x)\n",
        "            print(\"This is a not an integer. You must enter an integer. \"\n",
        "                  \"Please try again.\")\n",
        "\n",
        "# display input back to user\n",
        "print(f\"Here is the list of  {COUNT} integers that you entered:  \", \\\n",
        "      integer_list)"
      ]
    },
    {
      "cell_type": "markdown",
      "source": [
        "3. Manually sort the list. Doing this in one step makes it trivial to extract the list minimum and maximum."
      ],
      "metadata": {
        "id": "QYCXDxfanHk3"
      }
    },
    {
      "cell_type": "code",
      "source": [
        "# outer loop goes through each item\n",
        "for j in range(COUNT):     \n",
        "\n",
        "    # inner loop goes through remaining items\n",
        "    for k in range(COUNT-j-1):     \n",
        "        if integer_list[k] > integer_list[k+1]:     # swap values\n",
        "            integer_list[k], integer_list[k+1] = \\\n",
        "            integer_list[k+1], integer_list[k]"
      ],
      "metadata": {
        "id": "alM87SpHi5dv"
      },
      "execution_count": 36,
      "outputs": []
    },
    {
      "cell_type": "markdown",
      "source": [
        "4. Extract list minimum and maximum, then calculate list range and mean."
      ],
      "metadata": {
        "id": "5p-IjwI18W4x"
      }
    },
    {
      "cell_type": "code",
      "source": [
        "list_minimum = integer_list[0]      # first item in sorted list\n",
        "list_maximum = integer_list[-1]     # last item in sorted list\n",
        "\n",
        "# calculate list range\n",
        "list_range = integer_list[-1] - integer_list[0]\n",
        "\n",
        "# initialize list sum to 0\n",
        "list_sum = 0\n",
        "\n",
        "# loop though each integer and add it to the list sum\n",
        "for m in integer_list:\n",
        "    list_sum += m\n",
        "\n",
        "# calculate list mean\n",
        "list_mean = list_sum / COUNT"
      ],
      "metadata": {
        "id": "Bh17Zz31thoT"
      },
      "execution_count": 37,
      "outputs": []
    },
    {
      "cell_type": "markdown",
      "source": [
        "5. Calculate list variance and standard deviation."
      ],
      "metadata": {
        "id": "hbAW3ns38x6b"
      }
    },
    {
      "cell_type": "code",
      "source": [
        "sosd = 0    # sum of square deviations\n",
        "\n",
        "# loop through each integer, find distance from mean,\n",
        "# square it, then add them up to find sum of square\n",
        "# deviations\n",
        "for m in integer_list:\n",
        "    sosd += (m - list_mean)**2\n",
        "\n",
        "# calculate variance using formula for sample variance\n",
        "list_variance = sosd / (COUNT-1)\n",
        "\n",
        "# calculate standard deviation from variance\n",
        "list_std_dev = list_variance**(0.5)"
      ],
      "metadata": {
        "id": "YECR85rX1NzE"
      },
      "execution_count": 38,
      "outputs": []
    },
    {
      "cell_type": "markdown",
      "source": [
        "6. Print output as directed in assignment."
      ],
      "metadata": {
        "id": "p7q6UFAy-aMj"
      }
    },
    {
      "cell_type": "code",
      "source": [
        "print(\"Below is a summary of descriptive statistics for your list of \"\n",
        "      + str(COUNT) + \" integers. Note that the variance and standard \"\n",
        "      \"deviation are calclulated for a sample rather than a population.\")\n",
        "print()\n",
        "print(\"Your list (sorted): \", integer_list)\n",
        "print(\"Minimum: \", list_minimum)\n",
        "print(\"Maximum: \", list_maximum)\n",
        "print(\"Range: \", list_range)\n",
        "print(\"Mean: \", list_mean)\n",
        "print(\"Variance: \", list_variance)\n",
        "print(\"Standard Deviation: \", list_std_dev)"
      ],
      "metadata": {
        "colab": {
          "base_uri": "https://localhost:8080/"
        },
        "id": "I5jrL2oU2oIj",
        "outputId": "0b1a62cc-2c82-46e8-c305-e91911288357"
      },
      "execution_count": 39,
      "outputs": [
        {
          "output_type": "stream",
          "name": "stdout",
          "text": [
            "Below is a summary of descriptive statistics for your list of 10 integers. Note that the variance and standard deviation are calclulated for a sample rather than a population.\n",
            "\n",
            "Your list (sorted):  [0, 1, 2, 3, 4, 5, 6, 7, 8, 9]\n",
            "Minimum:  0\n",
            "Maximum:  9\n",
            "Range:  9\n",
            "Mean:  4.5\n",
            "Variance:  9.166666666666666\n",
            "Standard Deviation:  3.0276503540974917\n"
          ]
        }
      ]
    },
    {
      "cell_type": "markdown",
      "source": [
        "9/15 review (will help with HW 3)"
      ],
      "metadata": {
        "id": "ouoVJW4qfW7W"
      }
    },
    {
      "cell_type": "code",
      "source": [
        "list(range(0,COUNT))"
      ],
      "metadata": {
        "colab": {
          "base_uri": "https://localhost:8080/"
        },
        "id": "13YB7zdMfZbR",
        "outputId": "e2cd875a-f426-43d0-ae13-ade4de175d35"
      },
      "execution_count": 40,
      "outputs": [
        {
          "output_type": "execute_result",
          "data": {
            "text/plain": [
              "[0, 1, 2, 3, 4, 5, 6, 7, 8, 9]"
            ]
          },
          "metadata": {},
          "execution_count": 40
        }
      ]
    },
    {
      "cell_type": "code",
      "source": [
        "for i in range(COUNT):\n",
        "    print(i, end=\" \"*15)"
      ],
      "metadata": {
        "colab": {
          "base_uri": "https://localhost:8080/"
        },
        "id": "vCnCuxu-fe2w",
        "outputId": "9a244e55-c6fa-4a9c-d906-5d18dbf0ba80"
      },
      "execution_count": 41,
      "outputs": [
        {
          "output_type": "stream",
          "name": "stdout",
          "text": [
            "0               1               2               3               4               5               6               7               8               9               "
          ]
        }
      ]
    }
  ]
}