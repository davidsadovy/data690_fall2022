{
  "nbformat": 4,
  "nbformat_minor": 0,
  "metadata": {
    "colab": {
      "provenance": [],
      "authorship_tag": "ABX9TyOxixua23YPSDujv335hso9",
      "include_colab_link": true
    },
    "kernelspec": {
      "name": "python3",
      "display_name": "Python 3"
    },
    "language_info": {
      "name": "python"
    }
  },
  "cells": [
    {
      "cell_type": "markdown",
      "metadata": {
        "id": "view-in-github",
        "colab_type": "text"
      },
      "source": [
        "<a href=\"https://colab.research.google.com/github/davidsadovy/data690_fall2022/blob/main/assignment_01/assignment_01.ipynb\" target=\"_parent\"><img src=\"https://colab.research.google.com/assets/colab-badge.svg\" alt=\"Open In Colab\"/></a>"
      ]
    },
    {
      "cell_type": "markdown",
      "source": [
        "# Assignment 1 for DATA 690 FALL 2021\n",
        "- Instructor: Dr Jay Wang\n",
        "- Student: Dave Sadovy\n",
        "- Date: 09/04/2022\n",
        "\n",
        "This is for demonstrating the use of Jupyter Notebook."
      ],
      "metadata": {
        "id": "x-k8Y4q0y7JK"
      }
    },
    {
      "cell_type": "markdown",
      "source": [
        "# 1. Simplest Python Code"
      ],
      "metadata": {
        "id": "hAoxSZqCzmiW"
      }
    },
    {
      "cell_type": "code",
      "source": [
        "print(\"Hello World!\")"
      ],
      "metadata": {
        "colab": {
          "base_uri": "https://localhost:8080/"
        },
        "id": "KM6zaV04ztbd",
        "outputId": "35feeaad-7933-4872-f996-5b3810065607"
      },
      "execution_count": 1,
      "outputs": [
        {
          "output_type": "stream",
          "name": "stdout",
          "text": [
            "Hello World!\n"
          ]
        }
      ]
    },
    {
      "cell_type": "markdown",
      "source": [
        "#2. Perform multiplication"
      ],
      "metadata": {
        "id": "kC8SwzFAz2Wa"
      }
    },
    {
      "cell_type": "code",
      "source": [
        "x = 10 * 2\n",
        "print(x)"
      ],
      "metadata": {
        "colab": {
          "base_uri": "https://localhost:8080/"
        },
        "id": "zw8rez1Lz6qS",
        "outputId": "0160173d-472b-4dcb-c988-177a6f7d0643"
      },
      "execution_count": 2,
      "outputs": [
        {
          "output_type": "stream",
          "name": "stdout",
          "text": [
            "20\n"
          ]
        }
      ]
    },
    {
      "cell_type": "markdown",
      "source": [
        "# 3. Perform division"
      ],
      "metadata": {
        "id": "N7QXt0TW0ATG"
      }
    },
    {
      "cell_type": "code",
      "source": [
        "y = 100\n",
        "z = y / x\n",
        "print(z)"
      ],
      "metadata": {
        "colab": {
          "base_uri": "https://localhost:8080/"
        },
        "id": "XdV4zzVu0En6",
        "outputId": "6c326725-c4d0-4501-d1bc-fe4a3cc85fbe"
      },
      "execution_count": 3,
      "outputs": [
        {
          "output_type": "stream",
          "name": "stdout",
          "text": [
            "5.0\n"
          ]
        }
      ]
    },
    {
      "cell_type": "markdown",
      "source": [
        "# 4. Perform addition"
      ],
      "metadata": {
        "id": "re35X22l0LQD"
      }
    },
    {
      "cell_type": "code",
      "source": [
        "print(100 + 200)"
      ],
      "metadata": {
        "colab": {
          "base_uri": "https://localhost:8080/"
        },
        "id": "9sj8-xfE0T1X",
        "outputId": "8cddf1e5-a388-41c2-994d-82eb25bfc3ce"
      },
      "execution_count": 4,
      "outputs": [
        {
          "output_type": "stream",
          "name": "stdout",
          "text": [
            "300\n"
          ]
        }
      ]
    }
  ]
}