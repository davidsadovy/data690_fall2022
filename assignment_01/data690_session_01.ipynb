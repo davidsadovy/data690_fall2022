{
  "nbformat": 4,
  "nbformat_minor": 0,
  "metadata": {
    "colab": {
      "provenance": [],
      "toc_visible": true,
      "authorship_tag": "ABX9TyNE1zLF3rcMBcFvygpFv4ku",
      "include_colab_link": true
    },
    "kernelspec": {
      "name": "python3",
      "display_name": "Python 3"
    },
    "language_info": {
      "name": "python"
    }
  },
  "cells": [
    {
      "cell_type": "markdown",
      "metadata": {
        "id": "view-in-github",
        "colab_type": "text"
      },
      "source": [
        "<a href=\"https://colab.research.google.com/github/davidsadovy/data690_fall2022/blob/main/assignment_01/data690_session_01.ipynb\" target=\"_parent\"><img src=\"https://colab.research.google.com/assets/colab-badge.svg\" alt=\"Open In Colab\"/></a>"
      ]
    },
    {
      "cell_type": "markdown",
      "source": [
        "# Data 690 Session 01\n",
        "\n",
        "This is the notebook for in-class practice.\n",
        "\n",
        "- **Name:** *David Sadovy*\n",
        "- **Date:** 09/01/2022\n"
      ],
      "metadata": {
        "id": "aI76Mmihsmhp"
      }
    },
    {
      "cell_type": "code",
      "execution_count": 1,
      "metadata": {
        "colab": {
          "base_uri": "https://localhost:8080/"
        },
        "id": "Xw_-D_MksbcQ",
        "outputId": "47b47a8d-2411-4345-c42c-e31e02e8bdba"
      },
      "outputs": [
        {
          "output_type": "stream",
          "name": "stdout",
          "text": [
            "Hello World!\n"
          ]
        }
      ],
      "source": [
        "print(\"Hello World!\")"
      ]
    },
    {
      "cell_type": "code",
      "source": [
        "print(\"My name\", \"is Dave\")"
      ],
      "metadata": {
        "id": "0hUF3e7kuk4K",
        "outputId": "c2b5dc24-8354-4a8a-c15a-54977d10936e",
        "colab": {
          "base_uri": "https://localhost:8080/"
        }
      },
      "execution_count": 2,
      "outputs": [
        {
          "output_type": "stream",
          "name": "stdout",
          "text": [
            "My name is Dave\n"
          ]
        }
      ]
    },
    {
      "cell_type": "code",
      "source": [
        "age = 52\n",
        "name = \"Dave\"\n",
        "print(\"My name is \" + name + \", my age is \" + str(age))"
      ],
      "metadata": {
        "id": "jFRXOcn2usoQ",
        "outputId": "09f46d56-dfcc-457f-fe54-2948bc2e82f1",
        "colab": {
          "base_uri": "https://localhost:8080/"
        }
      },
      "execution_count": 10,
      "outputs": [
        {
          "output_type": "stream",
          "name": "stdout",
          "text": [
            "My name is Dave, my age is 52\n"
          ]
        }
      ]
    },
    {
      "cell_type": "code",
      "source": [
        "print(\"My name is \" + name + \", my age is\", age)"
      ],
      "metadata": {
        "id": "Vn6VRg6mwSDO",
        "outputId": "df1ae643-ceb1-4768-d0d5-feb3226b9fc3",
        "colab": {
          "base_uri": "https://localhost:8080/"
        }
      },
      "execution_count": 11,
      "outputs": [
        {
          "output_type": "stream",
          "name": "stdout",
          "text": [
            "My name is Dave, my age is 52\n"
          ]
        }
      ]
    },
    {
      "cell_type": "code",
      "source": [
        "age = str(52)\n",
        "print(\"My name is \" + name + \", my age is \" + age)"
      ],
      "metadata": {
        "id": "wUDl1hWSwcDm",
        "outputId": "31b73e6b-d3cb-46b6-e757-7856b3f77d71",
        "colab": {
          "base_uri": "https://localhost:8080/"
        }
      },
      "execution_count": 13,
      "outputs": [
        {
          "output_type": "stream",
          "name": "stdout",
          "text": [
            "My name is Dave, my age is 52\n"
          ]
        }
      ]
    }
  ]
}